{
 "cells": [
  {
   "cell_type": "code",
   "execution_count": 25,
   "metadata": {},
   "outputs": [],
   "source": [
    "import os\n",
    "import numpy as np\n",
    "import pandas as pd\n",
    "%matplotlib inline"
   ]
  },
  {
   "cell_type": "code",
   "execution_count": 77,
   "metadata": {},
   "outputs": [],
   "source": [
    "def FileReader(Dir, ind):\n",
    "    NameArray = []\n",
    "    DfArray = []\n",
    "    TotalLoops = 0 \n",
    "    path = os.walk(Dir)\n",
    "    dir_in = Dir\n",
    "    \n",
    "    for root, directories, files in path:\n",
    "        for directory in directories:\n",
    "            print(directory)\n",
    "        for file in files:\n",
    "            NameArray = files           #Fills the indices of the array with file names.\n",
    "            TotalLoops = TotalLoops + 1 #Counts how many iterations the for loop completed.\n",
    "            DfArray = files             #Creates the amount of indices needed for this array.\n",
    "    \n",
    "    if ind == TotalLoops:\n",
    "        ind = 'end'\n",
    "    \n",
    "    elif ind != TotalLoops:\n",
    "        file_in = NameArray[ind]\n",
    "        \n",
    "    \n",
    "        if 'd' in NameArray[ind]:\n",
    "            column_names=['Year', 'Month', 'Day', 'SeaLevel'] \n",
    "            Df = pd.read_csv(os.path.join(dir_in, file_in), names=column_names)\n",
    "            Df['DateTime'] = pd.to_datetime(Df[['Year', 'Month', 'Day']])\n",
    "    \n",
    "        elif 'h' in NameArray[ind]:\n",
    "            column_names=['Year', 'Month', 'Day', 'Hour', 'SeaLevel'] \n",
    "            Df = pd.read_csv(os.path.join(dir_in, file_in), names=column_names)\n",
    "            Df['DateTime'] = pd.to_datetime(Df[['Year', 'Month', 'Day', 'Hour']])\n",
    "    \n",
    "        Df = Df.set_index('DateTime')\n",
    "        Df['SeaLevel'] = Df['SeaLevel'].replace(-32767, np.nan)\n",
    "        \n",
    "    DfArray[ind] = Df\n",
    "    return Df, ind"
   ]
  },
  {
   "cell_type": "code",
   "execution_count": 79,
   "metadata": {},
   "outputs": [],
   "source": [
    "Array = []"
   ]
  },
  {
   "cell_type": "code",
   "execution_count": 78,
   "metadata": {},
   "outputs": [
    {
     "name": "stdout",
     "output_type": "stream",
     "text": [
      ".ipynb_checkpoints\n",
      ".ipynb_checkpoints\n",
      ".ipynb_checkpoints\n",
      ".ipynb_checkpoints\n",
      ".ipynb_checkpoints\n",
      ".ipynb_checkpoints\n",
      ".ipynb_checkpoints\n",
      ".ipynb_checkpoints\n",
      ".ipynb_checkpoints\n",
      ".ipynb_checkpoints\n",
      ".ipynb_checkpoints\n",
      ".ipynb_checkpoints\n"
     ]
    },
    {
     "ename": "UnboundLocalError",
     "evalue": "local variable 'Df' referenced before assignment",
     "output_type": "error",
     "traceback": [
      "\u001b[1;31m---------------------------------------------------------------------------\u001b[0m",
      "\u001b[1;31mUnboundLocalError\u001b[0m                         Traceback (most recent call last)",
      "\u001b[1;32m<ipython-input-78-95e0195a8d67>\u001b[0m in \u001b[0;36m<module>\u001b[1;34m\u001b[0m\n\u001b[0;32m      3\u001b[0m \u001b[1;33m\u001b[0m\u001b[0m\n\u001b[0;32m      4\u001b[0m \u001b[1;32mwhile\u001b[0m \u001b[0mx\u001b[0m \u001b[1;33m!=\u001b[0m \u001b[1;34m'end'\u001b[0m\u001b[1;33m:\u001b[0m\u001b[1;33m\u001b[0m\u001b[1;33m\u001b[0m\u001b[0m\n\u001b[1;32m----> 5\u001b[1;33m     \u001b[0mfoo\u001b[0m\u001b[1;33m[\u001b[0m\u001b[1;36m0\u001b[0m\u001b[1;33m]\u001b[0m\u001b[1;33m,\u001b[0m \u001b[0mx\u001b[0m \u001b[1;33m=\u001b[0m \u001b[0mFileReader\u001b[0m\u001b[1;33m(\u001b[0m\u001b[1;34m'data'\u001b[0m\u001b[1;33m,\u001b[0m \u001b[0mx\u001b[0m\u001b[1;33m)\u001b[0m\u001b[1;33m\u001b[0m\u001b[1;33m\u001b[0m\u001b[0m\n\u001b[0m\u001b[0;32m      6\u001b[0m \u001b[1;33m\u001b[0m\u001b[0m\n\u001b[0;32m      7\u001b[0m     \u001b[1;32mif\u001b[0m \u001b[0mx\u001b[0m \u001b[1;33m!=\u001b[0m \u001b[1;34m'end'\u001b[0m\u001b[1;33m:\u001b[0m\u001b[1;33m\u001b[0m\u001b[1;33m\u001b[0m\u001b[0m\n",
      "\u001b[1;32m<ipython-input-77-a4cfc3e70813>\u001b[0m in \u001b[0;36mFileReader\u001b[1;34m(Dir, ind)\u001b[0m\n\u001b[0;32m     34\u001b[0m         \u001b[0mDf\u001b[0m\u001b[1;33m[\u001b[0m\u001b[1;34m'SeaLevel'\u001b[0m\u001b[1;33m]\u001b[0m \u001b[1;33m=\u001b[0m \u001b[0mDf\u001b[0m\u001b[1;33m[\u001b[0m\u001b[1;34m'SeaLevel'\u001b[0m\u001b[1;33m]\u001b[0m\u001b[1;33m.\u001b[0m\u001b[0mreplace\u001b[0m\u001b[1;33m(\u001b[0m\u001b[1;33m-\u001b[0m\u001b[1;36m32767\u001b[0m\u001b[1;33m,\u001b[0m \u001b[0mnp\u001b[0m\u001b[1;33m.\u001b[0m\u001b[0mnan\u001b[0m\u001b[1;33m)\u001b[0m\u001b[1;33m\u001b[0m\u001b[1;33m\u001b[0m\u001b[0m\n\u001b[0;32m     35\u001b[0m \u001b[1;33m\u001b[0m\u001b[0m\n\u001b[1;32m---> 36\u001b[1;33m     \u001b[0mDfArray\u001b[0m\u001b[1;33m[\u001b[0m\u001b[0mind\u001b[0m\u001b[1;33m]\u001b[0m \u001b[1;33m=\u001b[0m \u001b[0mDf\u001b[0m\u001b[1;33m\u001b[0m\u001b[1;33m\u001b[0m\u001b[0m\n\u001b[0m\u001b[0;32m     37\u001b[0m     \u001b[1;32mreturn\u001b[0m \u001b[0mDf\u001b[0m\u001b[1;33m,\u001b[0m \u001b[0mind\u001b[0m\u001b[1;33m\u001b[0m\u001b[1;33m\u001b[0m\u001b[0m\n",
      "\u001b[1;31mUnboundLocalError\u001b[0m: local variable 'Df' referenced before assignment"
     ]
    }
   ],
   "source": [
    "foo = [0]\n",
    "x = 0\n",
    "\n",
    "while x != 'end':\n",
    "    foo[0], x = FileReader('data', x)\n",
    "    \n",
    "    if x != 'end':\n",
    "        x = x + 1\n",
    "        Array.append(foo[0])\n",
    "    "
   ]
  }
 ],
 "metadata": {
  "kernelspec": {
   "display_name": "Python 3",
   "language": "python",
   "name": "python3"
  },
  "language_info": {
   "codemirror_mode": {
    "name": "ipython",
    "version": 3
   },
   "file_extension": ".py",
   "mimetype": "text/x-python",
   "name": "python",
   "nbconvert_exporter": "python",
   "pygments_lexer": "ipython3",
   "version": "3.7.6"
  }
 },
 "nbformat": 4,
 "nbformat_minor": 4
}
