{
 "cells": [
  {
   "cell_type": "code",
   "execution_count": 1,
   "metadata": {},
   "outputs": [],
   "source": [
    "import os\n",
    "import numpy as np\n",
    "import pandas as pd\n",
    "import matplotlib.pyplot as plt\n",
    "import statsmodels.api as sm\n",
    "\n",
    "from tidegauge_functions import read_tidegauge_psmsl\n",
    "from tidegauge_functions import read_tidegauge_monthly\n",
    "from tidegauge_functions import calc_OLS_tides"
   ]
  },
  {
   "cell_type": "code",
   "execution_count": 2,
   "metadata": {},
   "outputs": [],
   "source": [
    "def nuukCombination(psmslDf):\n",
    "    psmslDf['SSH'] = psmslDf['SSH'] - psmslDf['SSH'].mean()\n",
    "    \n",
    "    spadaDf = read_tidegauge_monthly('data/tidegauge/915.csv')\n",
    "    combinedDf = spadaDf.append(psmslDf)\n",
    "        \n",
    "    return combinedDf"
   ]
  },
  {
   "cell_type": "code",
   "execution_count": 3,
   "metadata": {},
   "outputs": [],
   "source": [
    "def trendCsv(arrayDf):\n",
    "    trendArray = []\n",
    "    siteName = ['Churchill', 'Qaqortoq', 'Cornwallis', 'Thule', 'Ittoqqortoormiit', 'Nuuk']  \n",
    "    x = 1\n",
    "    j = 0\n",
    "\n",
    "    while x < 7:\n",
    "        res = calc_OLS_tides(arrayDf[x], 'SSH')\n",
    "        trendArray.append(res.params.x1 *12)\n",
    "        j += 1\n",
    "        x += 1\n",
    "    \n",
    "    df = pd.DataFrame(columns=[\"Trend\", \"Site\"])\n",
    "    df[\"Trend\"] = trendArray\n",
    "    df[\"Site\"] = siteName\n",
    "    df.to_csv(\"data/trends_OLS_Tidegauge.csv\", index=False)"
   ]
  },
  {
   "cell_type": "code",
   "execution_count": 4,
   "metadata": {},
   "outputs": [
    {
     "name": "stdout",
     "output_type": "stream",
     "text": [
      ".ipynb_checkpoints\n"
     ]
    }
   ],
   "source": [
    "path = os.walk(\"data/tidegauge\")\n",
    "totalLoops = 0 \n",
    "\n",
    "for root, directories, files in path:\n",
    "    for directory in directories:\n",
    "        print(directory)\n",
    "    for file in files:\n",
    "        tideName = files            \n",
    "        totalLoops = totalLoops + 1 \n",
    "        tideArray = files       "
   ]
  },
  {
   "cell_type": "code",
   "execution_count": 5,
   "metadata": {},
   "outputs": [],
   "source": [
    "dir_in = 'data/tidegauge'\n",
    "\n",
    "i = 1\n",
    "while i < totalLoops:   \n",
    "    file_in = tideArray[i]\n",
    "    filepath = os.path.join(dir_in, file_in)\n",
    "    tideArray[i] = read_tidegauge_psmsl(filepath)\n",
    "    tideArray[i] = tideArray[i].dropna().resample('1M').mean()\n",
    "    i += 1"
   ]
  },
  {
   "cell_type": "code",
   "execution_count": 6,
   "metadata": {},
   "outputs": [],
   "source": [
    "tideArray[6] = nuukCombination(tideArray[6])"
   ]
  },
  {
   "cell_type": "code",
   "execution_count": 7,
   "metadata": {},
   "outputs": [],
   "source": [
    "trendCsv(tideArray)"
   ]
  }
 ],
 "metadata": {
  "kernelspec": {
   "display_name": "Python 3",
   "language": "python",
   "name": "python3"
  },
  "language_info": {
   "codemirror_mode": {
    "name": "ipython",
    "version": 3
   },
   "file_extension": ".py",
   "mimetype": "text/x-python",
   "name": "python",
   "nbconvert_exporter": "python",
   "pygments_lexer": "ipython3",
   "version": "3.8.3"
  }
 },
 "nbformat": 4,
 "nbformat_minor": 4
}
