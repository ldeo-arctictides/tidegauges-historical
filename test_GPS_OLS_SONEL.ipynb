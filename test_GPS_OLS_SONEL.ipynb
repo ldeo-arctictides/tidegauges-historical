{
 "cells": [
  {
   "cell_type": "code",
   "execution_count": 1,
   "metadata": {},
   "outputs": [],
   "source": [
    "import os\n",
    "import numpy as np\n",
    "import pandas as pd\n",
    "import matplotlib.pyplot as plt\n",
    "import statsmodels.api as sm\n",
    "import glob\n",
    "from tidegauge_functions import read_GPS_SONEL\n",
    "\n",
    "%matplotlib inline"
   ]
  },
  {
   "cell_type": "code",
   "execution_count": 2,
   "metadata": {},
   "outputs": [],
   "source": [
    "datum = '?????'\n",
    "ext = '.neu'\n",
    "dir_in = 'data/GPS'"
   ]
  },
  {
   "cell_type": "code",
   "execution_count": 3,
   "metadata": {},
   "outputs": [
    {
     "name": "stdout",
     "output_type": "stream",
     "text": [
      "data/GPS\\d*?????.neu\n"
     ]
    }
   ],
   "source": [
    "pattern = os.path.join(dir_in, 'd*' + datum + ext)\n",
    "print(pattern)"
   ]
  },
  {
   "cell_type": "code",
   "execution_count": 4,
   "metadata": {},
   "outputs": [],
   "source": [
    "filenames = sorted(glob.glob(pattern))  # , key=alphanum_key)"
   ]
  },
  {
   "cell_type": "code",
   "execution_count": null,
   "metadata": {},
   "outputs": [],
   "source": [
    "for f, filepath in enumerate(filenames):\n",
    "    df = read_GPS_SONEL(filepath)\n",
    "    print(f'\\n\\n{filepath}')\n",
    "    print(df.head())"
   ]
  },
  {
   "cell_type": "code",
   "execution_count": null,
   "metadata": {},
   "outputs": [],
   "source": []
  },
  {
   "cell_type": "code",
   "execution_count": null,
   "metadata": {},
   "outputs": [],
   "source": [
    "from statsmodels.tsa.seasonal import seasonal_decompose\n",
    "def decompose(df, var, site, period):  \n",
    "    \n",
    "    decomposition = seasonal_decompose(df[var], freq = period)\n",
    "\n",
    "    trend = decomposition.trend\n",
    "    seasonal = decomposition.seasonal\n",
    "    residual = decomposition.resid\n",
    "    Amplitude = max(seasonal) - min(seasonal)\n",
    "    \n",
    "    decomposition.plot();\n",
    "    df['denoised'] = df[var] - residual\n",
    "    df['trend'] = trend\n",
    "    print(f'\\n\\n{filepath}')\n",
    "    print(df.head())\n",
    "    print(f'{site} Seasonal Amplitude =', Amplitude)\n",
    "    seasonal_amp = pd.DataFrame(list(zip(list({site}), list(Amplitude))),\n",
    "                            colums = ['Site_Name', 'Seasonal_Amplitude'])\n",
    "    seasonal_amp.to_csv('GPS_Seasonal_Amplitude_SONEL')"
   ]
  },
  {
   "cell_type": "code",
   "execution_count": null,
   "metadata": {},
   "outputs": [],
   "source": []
  },
  {
   "cell_type": "markdown",
   "metadata": {},
   "source": [
    "# Change Point Detection\n",
    "def change_pt_detection(df, var, points):\n",
    "    model = \"l1\"  \n",
    "    algo = rpt.Dynp(model=model, min_size=3, jump=5).fit(points)\n",
    "    my_bkps = algo.predict(n_bkps=10)\n",
    "\n",
    "    \n",
    "def change_pt_plot()\n",
    "    rpt.show.display(points, my_bkps, figsize=(10, 6))\n",
    "    plt.suptitle(f\"{site}Change Point Detection\")\n",
    "    plt.show()"
   ]
  },
  {
   "cell_type": "code",
   "execution_count": 5,
   "metadata": {},
   "outputs": [],
   "source": [
    "def test_calc_OLS(df, var):\n",
    "    \n",
    "    x, y = np.arange(len(df[var].dropna())), df[var].dropna()\n",
    "    x = sm.add_constant(x)\n",
    "    model = sm.OLS(y, x)\n",
    "    res = model.fit()\n",
    "    return res\n",
    "\n",
    "def test_plot_OLS(df, res, site, var, trend_array):\n",
    "    fig, ax = plt.subplots(1, 1, figsize=(12,6));\n",
    "    ax.plot(df[var].dropna().index, df[var].dropna().values, \n",
    "            label='trend', marker='.', linestyle='')\n",
    "    ax.plot(df[var].dropna().index, [res.params.x1*i + res.params.const for i in np.arange(len(df[var].dropna()))])\n",
    "    # ax[1].plot(df['Vertical'].dropna().index, res.resid.values);\n",
    "    # ax[1].plot(df['Vertical'].dropna().index, np.abs(res.resid.values));\n",
    "    # ax[1].hlines(0, 0, len(res.resid), color='k');\n",
    "    ax.set_title(f\"Trend = {trend_array * 1:.2f} mm/yr\");\n",
    "    # ax[1].set_title(\"Residuals\");\n",
    "    plt.suptitle(f\"{site}\")\n",
    "    plt.savefig(f'figs/test_GPS_OLS_{site}.png')\n",
    "    \n",
    "    "
   ]
  },
  {
   "cell_type": "code",
   "execution_count": null,
   "metadata": {
    "scrolled": true
   },
   "outputs": [],
   "source": [
    "for f, filepath in enumerate(filenames):\n",
    "    print(f'\\n\\n{filepath}')\n",
    "    print(f'f: {f}')\n",
    "    df = read_GPS_SONEL(filepath)\n",
    "    df = decompose(df, 'Vertical', filepath[-24:-20], 365)\n",
    "    "
   ]
  },
  {
   "cell_type": "code",
   "execution_count": 6,
   "metadata": {},
   "outputs": [],
   "source": [
    "def convert_trend_toyearly(df, res):\n",
    "    period = df.index.year.value_counts().max()\n",
    "    yearlytrend = res.params.x1 * period\n",
    "    \n",
    "    return yearlytrend"
   ]
  },
  {
   "cell_type": "code",
   "execution_count": 7,
   "metadata": {},
   "outputs": [
    {
     "name": "stdout",
     "output_type": "stream",
     "text": [
      "\n",
      "\n",
      "data/GPS\\dAB44_99999X006_ULR6B.neu\n",
      "f: 0\n",
      "\n",
      "\n",
      "data/GPS\\dAB48_XXXXXXXXX_JPL14.neu\n",
      "f: 1\n",
      "\n",
      "\n",
      "data/GPS\\dAB50_99999X007_ULR6B.neu\n",
      "f: 2\n",
      "\n",
      "\n",
      "data/GPS\\dAKSE_XXXXXXXXX_NGL14.neu\n",
      "f: 3\n",
      "\n",
      "\n",
      "data/GPS\\dAKSI_XXXXXXXXX_NGL14.neu\n",
      "f: 4\n",
      "\n",
      "\n",
      "data/GPS\\dANC2_XXXXXXXXX_NGL14.neu\n",
      "f: 5\n",
      "\n",
      "\n",
      "data/GPS\\dCHUR_40128M002_ULR6B.neu\n",
      "f: 6\n",
      "\n",
      "\n",
      "data/GPS\\dEYAC_99999X043_ULR6B.neu\n",
      "f: 7\n",
      "\n",
      "\n",
      "data/GPS\\dJNU1_49519S001_NGL14.neu\n",
      "f: 8\n",
      "\n",
      "\n",
      "data/GPS\\dKEN5_XXXXXXXXX_NGL14.neu\n",
      "f: 9\n",
      "\n",
      "\n",
      "data/GPS\\dNUUK_43013M001_NGL14.neu\n",
      "f: 10\n",
      "\n",
      "\n",
      "data/GPS\\dQAQ1_43007M001_ULR6B.neu\n",
      "f: 11\n",
      "\n",
      "\n",
      "data/GPS\\dSCOR_43006M002_ULR6B.neu\n",
      "f: 12\n",
      "\n",
      "\n",
      "data/GPS\\dTBON_XXXXXXXXX_NGL14.neu\n",
      "f: 13\n",
      "\n",
      "\n",
      "data/GPS\\dTHU1_43001M001_ULR6B.neu\n",
      "f: 14\n",
      "\n",
      "\n",
      "data/GPS\\dTHU2_43001M002_ULR6B.neu\n",
      "f: 15\n",
      "\n",
      "\n",
      "data/GPS\\dTHU3_43001M002_ULR6B.neu\n",
      "f: 16\n"
     ]
    }
   ],
   "source": [
    "sonel_trend_array = np.full(np.shape(filenames)[0], np.nan)\n",
    "site_name_array = []\n",
    "\n",
    "\n",
    "for f, filepath in enumerate(filenames):\n",
    "    print(f'\\n\\n{filepath}')\n",
    "    print(f'f: {f}')\n",
    "    ## ToDo - extract and keep other important thing about each site from the file...Lat/Lon, name, etc.\n",
    "    \n",
    "    # Read in data\n",
    "    df = read_GPS_SONEL(filepath)\n",
    "    \n",
    "    \n",
    "    # Get trend using linear regression\n",
    "    res = test_calc_OLS(df, 'Vertical')\n",
    "    sonel_trend_array[f] = convert_trend_toyearly(df, res)\n",
    "    \n",
    "    \n",
    "    # Save site name\n",
    "    site_name_array.append(filepath[-24:-20])\n",
    "    \n",
    "   # print(f\"Trend = {sonel_trend_array[f] * 1:.2f} mm/yr\")\n",
    "    \n",
    "#     print(res.summary())\n",
    "   # np.savetxt('GPS_trend.csv', {sonel_trend_array[f] * 365:.2f}, delimiter=',')\n",
    "    # Make Plot\n",
    "    #test_plot_OLS(df, res, filepath[-24:-20], 'Vertical', sonel_trend_array[f])\n",
    "    \n",
    "    "
   ]
  },
  {
   "cell_type": "code",
   "execution_count": null,
   "metadata": {},
   "outputs": [],
   "source": [
    "str(filenames)"
   ]
  },
  {
   "cell_type": "code",
   "execution_count": 8,
   "metadata": {},
   "outputs": [],
   "source": [
    "def get_SONEL_Lat(filenames):\n",
    "    with open(filenames, \"r\") as f:\n",
    "        for line in f:\n",
    "            if 'Latitude' in line:\n",
    "                lat = line.split(':')[1].split(' ')[3]\n",
    "    return lat"
   ]
  },
  {
   "cell_type": "code",
   "execution_count": 9,
   "metadata": {},
   "outputs": [],
   "source": [
    "def get_SONEL_Lon(filenames):\n",
    "    with open(filenames, \"r\") as f:\n",
    "        for line in f:\n",
    "            if 'Longitude' in line:\n",
    "                lon = line.split(':')[1].split(' ')[3]\n",
    "\n",
    "    return lon"
   ]
  },
  {
   "cell_type": "code",
   "execution_count": 10,
   "metadata": {},
   "outputs": [],
   "source": [
    "def get_SONEL_Height(filenames):\n",
    "    with open(filenames, \"r\") as f:\n",
    "        for line in f:            \n",
    "            if 'Height' in line:\n",
    "                height = line.split(':')[1].split(' ')[3]\n",
    "    \n",
    "    return height"
   ]
  },
  {
   "cell_type": "code",
   "execution_count": 13,
   "metadata": {},
   "outputs": [
    {
     "ename": "ValueError",
     "evalue": "could not convert string to float: ",
     "output_type": "error",
     "traceback": [
      "\u001b[1;31m---------------------------------------------------------------------------\u001b[0m",
      "\u001b[1;31mValueError\u001b[0m                                Traceback (most recent call last)",
      "\u001b[1;32m<ipython-input-13-7d4618c4e166>\u001b[0m in \u001b[0;36m<module>\u001b[1;34m\u001b[0m\n\u001b[0;32m      3\u001b[0m \u001b[1;32mfor\u001b[0m \u001b[0mf\u001b[0m\u001b[1;33m,\u001b[0m \u001b[0mfilepath\u001b[0m \u001b[1;32min\u001b[0m \u001b[0menumerate\u001b[0m\u001b[1;33m(\u001b[0m\u001b[0mfilenames\u001b[0m\u001b[1;33m)\u001b[0m\u001b[1;33m:\u001b[0m\u001b[1;33m\u001b[0m\u001b[1;33m\u001b[0m\u001b[0m\n\u001b[0;32m      4\u001b[0m     \u001b[0msonel_Lat_array\u001b[0m\u001b[1;33m[\u001b[0m\u001b[0mf\u001b[0m\u001b[1;33m]\u001b[0m \u001b[1;33m=\u001b[0m \u001b[0mget_SONEL_Lat\u001b[0m\u001b[1;33m(\u001b[0m\u001b[0mfilenames\u001b[0m\u001b[1;33m[\u001b[0m\u001b[0mf\u001b[0m\u001b[1;33m]\u001b[0m\u001b[1;33m)\u001b[0m\u001b[1;33m\u001b[0m\u001b[1;33m\u001b[0m\u001b[0m\n\u001b[1;32m----> 5\u001b[1;33m     \u001b[0msonel_Lon_array\u001b[0m\u001b[1;33m[\u001b[0m\u001b[0mf\u001b[0m\u001b[1;33m]\u001b[0m \u001b[1;33m=\u001b[0m \u001b[0mget_SONEL_Lon\u001b[0m\u001b[1;33m(\u001b[0m\u001b[0mfilenames\u001b[0m\u001b[1;33m[\u001b[0m\u001b[0mf\u001b[0m\u001b[1;33m]\u001b[0m\u001b[1;33m)\u001b[0m\u001b[1;33m\u001b[0m\u001b[1;33m\u001b[0m\u001b[0m\n\u001b[0m\u001b[0;32m      6\u001b[0m     \u001b[0msonel_Height_array\u001b[0m\u001b[1;33m[\u001b[0m\u001b[0mf\u001b[0m\u001b[1;33m]\u001b[0m \u001b[1;33m=\u001b[0m \u001b[0mget_SONEL_Height\u001b[0m\u001b[1;33m(\u001b[0m\u001b[0mfilenames\u001b[0m\u001b[1;33m[\u001b[0m\u001b[0mf\u001b[0m\u001b[1;33m]\u001b[0m\u001b[1;33m)\u001b[0m\u001b[1;33m\u001b[0m\u001b[1;33m\u001b[0m\u001b[0m\n",
      "\u001b[1;31mValueError\u001b[0m: could not convert string to float: "
     ]
    }
   ],
   "source": [
    "sonel_Lat_array = np.full(np.shape(filenames)[0], np.nan)\n",
    "sonel_Lon_array = np.full(np.shape(filenames)[0], np.nan)\n",
    "for f, filepath in enumerate(filenames):\n",
    "    sonel_Lat_array[f] = get_SONEL_Lat(filenames[f])\n",
    "    sonel_Lon_array[f] = get_SONEL_Lon(filenames[f])\n",
    "    sonel_Height_array[f] = get_SONEL_Height(filenames[f])\n"
   ]
  },
  {
   "cell_type": "code",
   "execution_count": null,
   "metadata": {},
   "outputs": [],
   "source": [
    "#Write CSV trend array\n",
    "columns = ['SITE', 'LAT', 'LON', 'Height', 'TREND_Vertical']\n",
    "out_array = np.array([site_name_array, sonel_Lat_array, sonel_Lon_array,sonel_Height_array, sonel_trend_array])\n",
    "\n",
    "df = pd.DataFrame(data=out_array.T, columns=columns) #, index=time)\n",
    "df = df.apply(pd.to_numeric, errors='ignore')\n",
    "# df.index = pd.to_datetime(trajectory.index)\n",
    "df.to_csv('data/trends_OLS_SONEL.csv')  # , na_rep=\" \")"
   ]
  }
 ],
 "metadata": {
  "kernelspec": {
   "display_name": "Python 3",
   "language": "python",
   "name": "python3"
  },
  "language_info": {
   "codemirror_mode": {
    "name": "ipython",
    "version": 3
   },
   "file_extension": ".py",
   "mimetype": "text/x-python",
   "name": "python",
   "nbconvert_exporter": "python",
   "pygments_lexer": "ipython3",
   "version": "3.7.6"
  }
 },
 "nbformat": 4,
 "nbformat_minor": 4
}
