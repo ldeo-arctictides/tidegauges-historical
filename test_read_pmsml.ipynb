{
 "cells": [
  {
   "cell_type": "markdown",
   "metadata": {},
   "source": [
    "# Test Notebook to learn how to read in various tide gauge records"
   ]
  },
  {
   "cell_type": "markdown",
   "metadata": {},
   "source": [
    "### Some sources of tide gauge data\n",
    "\n",
    "https://www.psmsl.org/\n",
    "\n",
    "http://www.ioc-sealevelmonitoring.org/\n",
    "\n",
    "http://uhslc.soest.hawaii.edu/data/"
   ]
  },
  {
   "cell_type": "markdown",
   "metadata": {},
   "source": [
    "### Load in some modules"
   ]
  },
  {
   "cell_type": "code",
   "execution_count": 1,
   "metadata": {},
   "outputs": [],
   "source": [
    "import os\n",
    "import numpy as np\n",
    "import pandas as pd\n",
    "import matplotlib.pyplot as plt\n",
    "\n",
    "%matplotlib inline"
   ]
  },
  {
   "cell_type": "markdown",
   "metadata": {},
   "source": [
    "### Specify directories and filenames\n",
    "and other runtime options"
   ]
  },
  {
   "cell_type": "code",
   "execution_count": 3,
   "metadata": {},
   "outputs": [],
   "source": [
    "dir_in = 'data'\n",
    "file_in = 'd820.csv'\n",
    "ext = 'csv'"
   ]
  },
  {
   "cell_type": "code",
   "execution_count": 7,
   "metadata": {},
   "outputs": [
    {
     "name": "stdout",
     "output_type": "stream",
     "text": [
      "dir_in\t ext\t file_in\t np\t os\t pd\t plt\t \n"
     ]
    }
   ],
   "source": [
    "%who"
   ]
  },
  {
   "cell_type": "code",
   "execution_count": 8,
   "metadata": {},
   "outputs": [
    {
     "name": "stdout",
     "output_type": "stream",
     "text": [
      "data/greenland\n"
     ]
    }
   ],
   "source": [
    "print(dir_in)"
   ]
  },
  {
   "cell_type": "code",
   "execution_count": 9,
   "metadata": {},
   "outputs": [],
   "source": [
    "?pd.read_csv"
   ]
  },
  {
   "cell_type": "code",
   "execution_count": 11,
   "metadata": {},
   "outputs": [],
   "source": [
    "filepath = os.path.join(dir_in, file_in)"
   ]
  },
  {
   "cell_type": "markdown",
   "metadata": {},
   "source": [
    "### Basic `read_csv` to peek into the csv file"
   ]
  },
  {
   "cell_type": "code",
   "execution_count": 12,
   "metadata": {},
   "outputs": [],
   "source": [
    "# df = pd.read_csv(os.path.join(dir_in, file_in))\n",
    "df = pd.read_csv(filepath)"
   ]
  },
  {
   "cell_type": "code",
   "execution_count": 14,
   "metadata": {},
   "outputs": [
    {
     "data": {
      "text/html": [
       "<div>\n",
       "<style scoped>\n",
       "    .dataframe tbody tr th:only-of-type {\n",
       "        vertical-align: middle;\n",
       "    }\n",
       "\n",
       "    .dataframe tbody tr th {\n",
       "        vertical-align: top;\n",
       "    }\n",
       "\n",
       "    .dataframe thead th {\n",
       "        text-align: right;\n",
       "    }\n",
       "</style>\n",
       "<table border=\"1\" class=\"dataframe\">\n",
       "  <thead>\n",
       "    <tr style=\"text-align: right;\">\n",
       "      <th></th>\n",
       "      <th>2014</th>\n",
       "      <th>7</th>\n",
       "      <th>5</th>\n",
       "      <th>4577</th>\n",
       "    </tr>\n",
       "  </thead>\n",
       "  <tbody>\n",
       "    <tr>\n",
       "      <th>0</th>\n",
       "      <td>2014</td>\n",
       "      <td>7</td>\n",
       "      <td>6</td>\n",
       "      <td>4531</td>\n",
       "    </tr>\n",
       "    <tr>\n",
       "      <th>1</th>\n",
       "      <td>2014</td>\n",
       "      <td>7</td>\n",
       "      <td>7</td>\n",
       "      <td>4584</td>\n",
       "    </tr>\n",
       "    <tr>\n",
       "      <th>2</th>\n",
       "      <td>2014</td>\n",
       "      <td>7</td>\n",
       "      <td>8</td>\n",
       "      <td>4606</td>\n",
       "    </tr>\n",
       "    <tr>\n",
       "      <th>3</th>\n",
       "      <td>2014</td>\n",
       "      <td>7</td>\n",
       "      <td>9</td>\n",
       "      <td>4532</td>\n",
       "    </tr>\n",
       "    <tr>\n",
       "      <th>4</th>\n",
       "      <td>2014</td>\n",
       "      <td>7</td>\n",
       "      <td>10</td>\n",
       "      <td>4493</td>\n",
       "    </tr>\n",
       "    <tr>\n",
       "      <th>...</th>\n",
       "      <td>...</td>\n",
       "      <td>...</td>\n",
       "      <td>...</td>\n",
       "      <td>...</td>\n",
       "    </tr>\n",
       "    <tr>\n",
       "      <th>2152</th>\n",
       "      <td>2020</td>\n",
       "      <td>5</td>\n",
       "      <td>27</td>\n",
       "      <td>4585</td>\n",
       "    </tr>\n",
       "    <tr>\n",
       "      <th>2153</th>\n",
       "      <td>2020</td>\n",
       "      <td>5</td>\n",
       "      <td>28</td>\n",
       "      <td>4518</td>\n",
       "    </tr>\n",
       "    <tr>\n",
       "      <th>2154</th>\n",
       "      <td>2020</td>\n",
       "      <td>5</td>\n",
       "      <td>29</td>\n",
       "      <td>4492</td>\n",
       "    </tr>\n",
       "    <tr>\n",
       "      <th>2155</th>\n",
       "      <td>2020</td>\n",
       "      <td>5</td>\n",
       "      <td>30</td>\n",
       "      <td>4483</td>\n",
       "    </tr>\n",
       "    <tr>\n",
       "      <th>2156</th>\n",
       "      <td>2020</td>\n",
       "      <td>5</td>\n",
       "      <td>31</td>\n",
       "      <td>4434</td>\n",
       "    </tr>\n",
       "  </tbody>\n",
       "</table>\n",
       "<p>2157 rows × 4 columns</p>\n",
       "</div>"
      ],
      "text/plain": [
       "      2014  7   5  4577\n",
       "0     2014  7   6  4531\n",
       "1     2014  7   7  4584\n",
       "2     2014  7   8  4606\n",
       "3     2014  7   9  4532\n",
       "4     2014  7  10  4493\n",
       "...    ... ..  ..   ...\n",
       "2152  2020  5  27  4585\n",
       "2153  2020  5  28  4518\n",
       "2154  2020  5  29  4492\n",
       "2155  2020  5  30  4483\n",
       "2156  2020  5  31  4434\n",
       "\n",
       "[2157 rows x 4 columns]"
      ]
     },
     "execution_count": 14,
     "metadata": {},
     "output_type": "execute_result"
    }
   ],
   "source": [
    "df"
   ]
  },
  {
   "cell_type": "code",
   "execution_count": 15,
   "metadata": {},
   "outputs": [
    {
     "data": {
      "text/html": [
       "<div>\n",
       "<style scoped>\n",
       "    .dataframe tbody tr th:only-of-type {\n",
       "        vertical-align: middle;\n",
       "    }\n",
       "\n",
       "    .dataframe tbody tr th {\n",
       "        vertical-align: top;\n",
       "    }\n",
       "\n",
       "    .dataframe thead th {\n",
       "        text-align: right;\n",
       "    }\n",
       "</style>\n",
       "<table border=\"1\" class=\"dataframe\">\n",
       "  <thead>\n",
       "    <tr style=\"text-align: right;\">\n",
       "      <th></th>\n",
       "      <th>0</th>\n",
       "      <th>1</th>\n",
       "      <th>2</th>\n",
       "      <th>3</th>\n",
       "    </tr>\n",
       "  </thead>\n",
       "  <tbody>\n",
       "    <tr>\n",
       "      <th>0</th>\n",
       "      <td>2014</td>\n",
       "      <td>7</td>\n",
       "      <td>5</td>\n",
       "      <td>4577</td>\n",
       "    </tr>\n",
       "    <tr>\n",
       "      <th>1</th>\n",
       "      <td>2014</td>\n",
       "      <td>7</td>\n",
       "      <td>6</td>\n",
       "      <td>4531</td>\n",
       "    </tr>\n",
       "    <tr>\n",
       "      <th>2</th>\n",
       "      <td>2014</td>\n",
       "      <td>7</td>\n",
       "      <td>7</td>\n",
       "      <td>4584</td>\n",
       "    </tr>\n",
       "    <tr>\n",
       "      <th>3</th>\n",
       "      <td>2014</td>\n",
       "      <td>7</td>\n",
       "      <td>8</td>\n",
       "      <td>4606</td>\n",
       "    </tr>\n",
       "    <tr>\n",
       "      <th>4</th>\n",
       "      <td>2014</td>\n",
       "      <td>7</td>\n",
       "      <td>9</td>\n",
       "      <td>4532</td>\n",
       "    </tr>\n",
       "    <tr>\n",
       "      <th>...</th>\n",
       "      <td>...</td>\n",
       "      <td>...</td>\n",
       "      <td>...</td>\n",
       "      <td>...</td>\n",
       "    </tr>\n",
       "    <tr>\n",
       "      <th>2153</th>\n",
       "      <td>2020</td>\n",
       "      <td>5</td>\n",
       "      <td>27</td>\n",
       "      <td>4585</td>\n",
       "    </tr>\n",
       "    <tr>\n",
       "      <th>2154</th>\n",
       "      <td>2020</td>\n",
       "      <td>5</td>\n",
       "      <td>28</td>\n",
       "      <td>4518</td>\n",
       "    </tr>\n",
       "    <tr>\n",
       "      <th>2155</th>\n",
       "      <td>2020</td>\n",
       "      <td>5</td>\n",
       "      <td>29</td>\n",
       "      <td>4492</td>\n",
       "    </tr>\n",
       "    <tr>\n",
       "      <th>2156</th>\n",
       "      <td>2020</td>\n",
       "      <td>5</td>\n",
       "      <td>30</td>\n",
       "      <td>4483</td>\n",
       "    </tr>\n",
       "    <tr>\n",
       "      <th>2157</th>\n",
       "      <td>2020</td>\n",
       "      <td>5</td>\n",
       "      <td>31</td>\n",
       "      <td>4434</td>\n",
       "    </tr>\n",
       "  </tbody>\n",
       "</table>\n",
       "<p>2158 rows × 4 columns</p>\n",
       "</div>"
      ],
      "text/plain": [
       "         0  1   2     3\n",
       "0     2014  7   5  4577\n",
       "1     2014  7   6  4531\n",
       "2     2014  7   7  4584\n",
       "3     2014  7   8  4606\n",
       "4     2014  7   9  4532\n",
       "...    ... ..  ..   ...\n",
       "2153  2020  5  27  4585\n",
       "2154  2020  5  28  4518\n",
       "2155  2020  5  29  4492\n",
       "2156  2020  5  30  4483\n",
       "2157  2020  5  31  4434\n",
       "\n",
       "[2158 rows x 4 columns]"
      ]
     },
     "execution_count": 15,
     "metadata": {},
     "output_type": "execute_result"
    }
   ],
   "source": [
    "df = pd.read_csv(os.path.join(dir_in, file_in), header=None)\n",
    "df"
   ]
  },
  {
   "cell_type": "code",
   "execution_count": 66,
   "metadata": {},
   "outputs": [
    {
     "data": {
      "text/html": [
       "<div>\n",
       "<style scoped>\n",
       "    .dataframe tbody tr th:only-of-type {\n",
       "        vertical-align: middle;\n",
       "    }\n",
       "\n",
       "    .dataframe tbody tr th {\n",
       "        vertical-align: top;\n",
       "    }\n",
       "\n",
       "    .dataframe thead th {\n",
       "        text-align: right;\n",
       "    }\n",
       "</style>\n",
       "<table border=\"1\" class=\"dataframe\">\n",
       "  <thead>\n",
       "    <tr style=\"text-align: right;\">\n",
       "      <th></th>\n",
       "      <th>YEAR</th>\n",
       "      <th>MONTH</th>\n",
       "      <th>DAY</th>\n",
       "      <th>Z</th>\n",
       "    </tr>\n",
       "  </thead>\n",
       "  <tbody>\n",
       "    <tr>\n",
       "      <th>0</th>\n",
       "      <td>2014</td>\n",
       "      <td>7</td>\n",
       "      <td>5</td>\n",
       "      <td>4577</td>\n",
       "    </tr>\n",
       "    <tr>\n",
       "      <th>1</th>\n",
       "      <td>2014</td>\n",
       "      <td>7</td>\n",
       "      <td>6</td>\n",
       "      <td>4531</td>\n",
       "    </tr>\n",
       "    <tr>\n",
       "      <th>2</th>\n",
       "      <td>2014</td>\n",
       "      <td>7</td>\n",
       "      <td>7</td>\n",
       "      <td>4584</td>\n",
       "    </tr>\n",
       "    <tr>\n",
       "      <th>3</th>\n",
       "      <td>2014</td>\n",
       "      <td>7</td>\n",
       "      <td>8</td>\n",
       "      <td>4606</td>\n",
       "    </tr>\n",
       "    <tr>\n",
       "      <th>4</th>\n",
       "      <td>2014</td>\n",
       "      <td>7</td>\n",
       "      <td>9</td>\n",
       "      <td>4532</td>\n",
       "    </tr>\n",
       "    <tr>\n",
       "      <th>...</th>\n",
       "      <td>...</td>\n",
       "      <td>...</td>\n",
       "      <td>...</td>\n",
       "      <td>...</td>\n",
       "    </tr>\n",
       "    <tr>\n",
       "      <th>2153</th>\n",
       "      <td>2020</td>\n",
       "      <td>5</td>\n",
       "      <td>27</td>\n",
       "      <td>4585</td>\n",
       "    </tr>\n",
       "    <tr>\n",
       "      <th>2154</th>\n",
       "      <td>2020</td>\n",
       "      <td>5</td>\n",
       "      <td>28</td>\n",
       "      <td>4518</td>\n",
       "    </tr>\n",
       "    <tr>\n",
       "      <th>2155</th>\n",
       "      <td>2020</td>\n",
       "      <td>5</td>\n",
       "      <td>29</td>\n",
       "      <td>4492</td>\n",
       "    </tr>\n",
       "    <tr>\n",
       "      <th>2156</th>\n",
       "      <td>2020</td>\n",
       "      <td>5</td>\n",
       "      <td>30</td>\n",
       "      <td>4483</td>\n",
       "    </tr>\n",
       "    <tr>\n",
       "      <th>2157</th>\n",
       "      <td>2020</td>\n",
       "      <td>5</td>\n",
       "      <td>31</td>\n",
       "      <td>4434</td>\n",
       "    </tr>\n",
       "  </tbody>\n",
       "</table>\n",
       "<p>2158 rows × 4 columns</p>\n",
       "</div>"
      ],
      "text/plain": [
       "      YEAR  MONTH  DAY     Z\n",
       "0     2014      7    5  4577\n",
       "1     2014      7    6  4531\n",
       "2     2014      7    7  4584\n",
       "3     2014      7    8  4606\n",
       "4     2014      7    9  4532\n",
       "...    ...    ...  ...   ...\n",
       "2153  2020      5   27  4585\n",
       "2154  2020      5   28  4518\n",
       "2155  2020      5   29  4492\n",
       "2156  2020      5   30  4483\n",
       "2157  2020      5   31  4434\n",
       "\n",
       "[2158 rows x 4 columns]"
      ]
     },
     "execution_count": 66,
     "metadata": {},
     "output_type": "execute_result"
    }
   ],
   "source": [
    "column_names=['YEAR', 'MONTH', 'DAY', 'Z'] \n",
    "df = pd.read_csv(os.path.join(dir_in, file_in), names=column_names)\n",
    "df"
   ]
  },
  {
   "cell_type": "markdown",
   "metadata": {},
   "source": [
    "### Check the dataframe we created"
   ]
  },
  {
   "cell_type": "code",
   "execution_count": 68,
   "metadata": {
    "scrolled": true
   },
   "outputs": [
    {
     "data": {
      "text/html": [
       "<div>\n",
       "<style scoped>\n",
       "    .dataframe tbody tr th:only-of-type {\n",
       "        vertical-align: middle;\n",
       "    }\n",
       "\n",
       "    .dataframe tbody tr th {\n",
       "        vertical-align: top;\n",
       "    }\n",
       "\n",
       "    .dataframe thead th {\n",
       "        text-align: right;\n",
       "    }\n",
       "</style>\n",
       "<table border=\"1\" class=\"dataframe\">\n",
       "  <thead>\n",
       "    <tr style=\"text-align: right;\">\n",
       "      <th></th>\n",
       "      <th>YEAR</th>\n",
       "      <th>MONTH</th>\n",
       "      <th>DAY</th>\n",
       "      <th>Z</th>\n",
       "    </tr>\n",
       "  </thead>\n",
       "  <tbody>\n",
       "    <tr>\n",
       "      <th>count</th>\n",
       "      <td>2158.000000</td>\n",
       "      <td>2158.000000</td>\n",
       "      <td>2158.000000</td>\n",
       "      <td>2158.000000</td>\n",
       "    </tr>\n",
       "    <tr>\n",
       "      <th>mean</th>\n",
       "      <td>2016.960612</td>\n",
       "      <td>6.528267</td>\n",
       "      <td>15.760426</td>\n",
       "      <td>1870.912882</td>\n",
       "    </tr>\n",
       "    <tr>\n",
       "      <th>std</th>\n",
       "      <td>1.753948</td>\n",
       "      <td>3.476244</td>\n",
       "      <td>8.794916</td>\n",
       "      <td>9571.266027</td>\n",
       "    </tr>\n",
       "    <tr>\n",
       "      <th>min</th>\n",
       "      <td>2014.000000</td>\n",
       "      <td>1.000000</td>\n",
       "      <td>1.000000</td>\n",
       "      <td>-32767.000000</td>\n",
       "    </tr>\n",
       "    <tr>\n",
       "      <th>25%</th>\n",
       "      <td>2015.000000</td>\n",
       "      <td>3.000000</td>\n",
       "      <td>8.000000</td>\n",
       "      <td>4421.250000</td>\n",
       "    </tr>\n",
       "    <tr>\n",
       "      <th>50%</th>\n",
       "      <td>2017.000000</td>\n",
       "      <td>7.000000</td>\n",
       "      <td>16.000000</td>\n",
       "      <td>4498.000000</td>\n",
       "    </tr>\n",
       "    <tr>\n",
       "      <th>75%</th>\n",
       "      <td>2018.000000</td>\n",
       "      <td>10.000000</td>\n",
       "      <td>23.000000</td>\n",
       "      <td>4569.750000</td>\n",
       "    </tr>\n",
       "    <tr>\n",
       "      <th>max</th>\n",
       "      <td>2020.000000</td>\n",
       "      <td>12.000000</td>\n",
       "      <td>31.000000</td>\n",
       "      <td>4982.000000</td>\n",
       "    </tr>\n",
       "  </tbody>\n",
       "</table>\n",
       "</div>"
      ],
      "text/plain": [
       "              YEAR        MONTH          DAY             Z\n",
       "count  2158.000000  2158.000000  2158.000000   2158.000000\n",
       "mean   2016.960612     6.528267    15.760426   1870.912882\n",
       "std       1.753948     3.476244     8.794916   9571.266027\n",
       "min    2014.000000     1.000000     1.000000 -32767.000000\n",
       "25%    2015.000000     3.000000     8.000000   4421.250000\n",
       "50%    2017.000000     7.000000    16.000000   4498.000000\n",
       "75%    2018.000000    10.000000    23.000000   4569.750000\n",
       "max    2020.000000    12.000000    31.000000   4982.000000"
      ]
     },
     "execution_count": 68,
     "metadata": {},
     "output_type": "execute_result"
    }
   ],
   "source": [
    "df.describe()"
   ]
  },
  {
   "cell_type": "code",
   "execution_count": 69,
   "metadata": {},
   "outputs": [
    {
     "data": {
      "text/plain": [
       "<matplotlib.axes._subplots.AxesSubplot at 0x119cf36d8>"
      ]
     },
     "execution_count": 69,
     "metadata": {},
     "output_type": "execute_result"
    },
    {
     "data": {
      "image/png": "[encoded data removed]",
      "text/plain": [
       "<Figure size 432x288 with 1 Axes>"
      ]
     },
     "metadata": {
      "needs_background": "light"
     },
     "output_type": "display_data"
    }
   ],
   "source": [
    "df.plot()"
   ]
  },
  {
   "cell_type": "code",
   "execution_count": 70,
   "metadata": {},
   "outputs": [
    {
     "name": "stdout",
     "output_type": "stream",
     "text": [
      "[  4577   4531   4584   4606   4532   4493   4490   4458   4442   4480\n",
      "   4516   4487   4467   4477   4459   4450   4466   4522   4519   4502\n",
      "   4515   4524   4457   4433   4454   4461   4451   4474   4498   4494\n",
      "   4486   4492   4505   4521   4508   4481   4500   4489   4496   4547\n",
      "   4545   4543   4513   4503   4419   4428   4448   4424   4666   4702\n",
      "   4685   4599   4600   4776   4799   4670   4661   4645   4551   4602\n",
      "   4620   4608   4558   4582   4650   4766   4821   4839   4665   4764\n",
      "   4757   4641   4611   4596   4662   4703   4628   4374   4417   4453\n",
      "   4482   4520   4578   4636   4656   4639   4610   4603   4623   4730\n",
      "   4605   4573   4688   4617   4644   4595   4449   4402   4422   4537\n",
      "   4504   4476   4425   4469   4535   4575   4559   4633   4642   4663\n",
      "   4674   4660   4657   4678   4779   4876   4802   4911   4796   4671\n",
      "   4746   4765   4463   4627   4909   4621   4594   4695   4314   4306\n",
      "   4455   4390   4571   4767   4563   4517   4388   4332   4313   4362\n",
      "   4722   4783   4813   4786   4510   4471   4440   4367   4334   4351\n",
      "   4310   4269   4302   4321   4375   4651   4749   4488   4435   4438\n",
      "   4536   4637   4456   4429   4464   4460   4760   4554   4382   4392\n",
      "   4404   4405   4544   4347   4312   4444   4399   4410   4565   4527\n",
      "   4472   4507   4526   4483   4468   4548   4550   4349   4330   4384\n",
      "   4432   4437   4552   4718   4572   4512   4491   4370   4443   4485\n",
      "   4681   4445   4357   4387   4648   4400   4212   4196   4203   4242\n",
      "   4277   4226   4205   4241   4297   4309   4311   4329   4372   4591\n",
      "   4539   4452   4350   4358   4462   4406   4412   4385   4473   4420\n",
      "   4439   4418   4298   4381   4427   4497   4436   4326   4293   4280\n",
      "   4315   4346   4376   4528   4398   4389   4446   4441   4413 -32767\n",
      "   4379   4354   4342   4325   4361   4495   4529   4434   4523   4478\n",
      "   4555   4549   4562   4470   4569   4590   4646   4373   4368   4586\n",
      "   4530   4353   4331   4355   4736   4825   4691   4659   4638   4747\n",
      "   4655   4409   4383   4407   4356   4396   4509   4394   4579   4643\n",
      "   4715   4679   4566   4345   4506   4560   4397   4728   4809   4727\n",
      "   4756   4514   4359   4344   4401   4386   4534   4568   4564   4518\n",
      "   4583   4761   4635   4286   4511   4542   4601   4618   4408   4403\n",
      "   4283   4199   4213   4244   4371   4323   4299   4275   4308   4335\n",
      "   4328   4431   4257   4274   4338   4423   4484   4421   4380   4352\n",
      "   4415   4360   4343   4416   4348   4296   4378   4414   4365   4395\n",
      "   4475   4411   4391   4561   4525   4557   4672   4744   4640   4320\n",
      "   4261   4426   4366   4393   4249   4341   4580   4626   4684   4731\n",
      "   4790   4322   4479   4592   4501   4447   4339   4340   4336   4318\n",
      "   4465   4290   4430   4585   4540   4567   4533   4546   4624   4593\n",
      "   4570   4622   4631   4701   4658   4538   4613   4597   4574   4677\n",
      "   4576   4581   4700   4686   4720   4668   4735   4598   4629   4647\n",
      "   4664   4705   4789   4885   4862   4762   4832   4787   4849   4738\n",
      "   4687   4652   4653   4812   4833   4669   4632   4619   4630   4676\n",
      "   4692   4709   4805   4842   4742   4697   4694   4649   4587   4614\n",
      "   4615   4541   4317   4377   4553   4616   4589   4499   4556   4612\n",
      "   4625   4607   4712   4711   4734   4682   4763   4675   4609   4782\n",
      "   4773   4588   4844   4708   4667   4729   4750   4719   4759   4828\n",
      "   4859   4933   4982   4808   4840   4866   4716   4698   4654   4690\n",
      "   4707   4725   4771   4748   4788   4324   4173   4038   4047   4105\n",
      "   4743   4369]\n"
     ]
    },
    {
     "data": {
      "image/png": "[encoded data removed]",
      "text/plain": [
       "<Figure size 432x288 with 1 Axes>"
      ]
     },
     "metadata": {
      "needs_background": "light"
     },
     "output_type": "display_data"
    }
   ],
   "source": [
    "# df[['YEAR', 'Z']]\n",
    "# df.YEAR.plot()\n",
    "\n",
    "plt.plot(df['Z'].unique())\n",
    "\n",
    "print(df['Z'].unique())"
   ]
  },
  {
   "cell_type": "markdown",
   "metadata": {},
   "source": [
    "### set missing values to 'nan'"
   ]
  },
  {
   "cell_type": "code",
   "execution_count": 58,
   "metadata": {},
   "outputs": [],
   "source": [
    "# df['Z'] = df['Z'].replace(-32767, np.nan)\n",
    "df[df['Z'] > 4000]"
   ]
  },
  {
   "cell_type": "code",
   "execution_count": 136,
   "metadata": {},
   "outputs": [
    {
     "data": {
      "text/plain": [
       "<matplotlib.legend.Legend at 0x11c81ef28>"
      ]
     },
     "execution_count": 136,
     "metadata": {},
     "output_type": "execute_result"
    },
    {
     "data": {
      "image/png": "[encoded data removed]",
      "text/plain": [
       "<Figure size 432x288 with 1 Axes>"
      ]
     },
     "metadata": {
      "needs_background": "light"
     },
     "output_type": "display_data"
    }
   ],
   "source": [
    "# df[(df['Z'] > 4000) & (df['Z'] <= 5000)]\n",
    "# print(df[(df['MONTH'] == 8) & (df['YEAR'] == 2014)])\n",
    "\n",
    "df[(df['MONTH'] == 8) & (df['YEAR'] == 2014)].Z.plot(marker='x', \n",
    "                                                     color='goldenrod', \n",
    "                                                     linestyle='-.', \n",
    "                                                     linewidth=1.5,\n",
    "                                                    label='August')\n",
    "df[(df['MONTH'] == 9) & (df['YEAR'] == 2014)].Z.plot(marker='x', \n",
    "                                                     color='dodgerblue', \n",
    "                                                     linestyle='--', \n",
    "                                                     linewidth=1.5,\n",
    "                                                    label='Sept')\n",
    "plt.legend()"
   ]
  },
  {
   "cell_type": "code",
   "execution_count": null,
   "metadata": {},
   "outputs": [],
   "source": []
  },
  {
   "cell_type": "code",
   "execution_count": 141,
   "metadata": {},
   "outputs": [
    {
     "data": {
      "text/html": [
       "<div>\n",
       "<style scoped>\n",
       "    .dataframe tbody tr th:only-of-type {\n",
       "        vertical-align: middle;\n",
       "    }\n",
       "\n",
       "    .dataframe tbody tr th {\n",
       "        vertical-align: top;\n",
       "    }\n",
       "\n",
       "    .dataframe thead th {\n",
       "        text-align: right;\n",
       "    }\n",
       "</style>\n",
       "<table border=\"1\" class=\"dataframe\">\n",
       "  <thead>\n",
       "    <tr style=\"text-align: right;\">\n",
       "      <th></th>\n",
       "      <th>YEAR</th>\n",
       "      <th>MONTH</th>\n",
       "      <th>DAY</th>\n",
       "      <th>Z</th>\n",
       "      <th>Z2</th>\n",
       "    </tr>\n",
       "  </thead>\n",
       "  <tbody>\n",
       "    <tr>\n",
       "      <th>0</th>\n",
       "      <td>2014</td>\n",
       "      <td>7</td>\n",
       "      <td>5</td>\n",
       "      <td>4577.0</td>\n",
       "      <td>4627.0</td>\n",
       "    </tr>\n",
       "    <tr>\n",
       "      <th>1</th>\n",
       "      <td>2014</td>\n",
       "      <td>7</td>\n",
       "      <td>6</td>\n",
       "      <td>4531.0</td>\n",
       "      <td>4581.0</td>\n",
       "    </tr>\n",
       "    <tr>\n",
       "      <th>2</th>\n",
       "      <td>2014</td>\n",
       "      <td>7</td>\n",
       "      <td>7</td>\n",
       "      <td>4584.0</td>\n",
       "      <td>4634.0</td>\n",
       "    </tr>\n",
       "    <tr>\n",
       "      <th>3</th>\n",
       "      <td>2014</td>\n",
       "      <td>7</td>\n",
       "      <td>8</td>\n",
       "      <td>4606.0</td>\n",
       "      <td>4656.0</td>\n",
       "    </tr>\n",
       "    <tr>\n",
       "      <th>4</th>\n",
       "      <td>2014</td>\n",
       "      <td>7</td>\n",
       "      <td>9</td>\n",
       "      <td>4532.0</td>\n",
       "      <td>4582.0</td>\n",
       "    </tr>\n",
       "    <tr>\n",
       "      <th>...</th>\n",
       "      <td>...</td>\n",
       "      <td>...</td>\n",
       "      <td>...</td>\n",
       "      <td>...</td>\n",
       "      <td>...</td>\n",
       "    </tr>\n",
       "    <tr>\n",
       "      <th>2153</th>\n",
       "      <td>2020</td>\n",
       "      <td>5</td>\n",
       "      <td>27</td>\n",
       "      <td>4585.0</td>\n",
       "      <td>4635.0</td>\n",
       "    </tr>\n",
       "    <tr>\n",
       "      <th>2154</th>\n",
       "      <td>2020</td>\n",
       "      <td>5</td>\n",
       "      <td>28</td>\n",
       "      <td>4518.0</td>\n",
       "      <td>4568.0</td>\n",
       "    </tr>\n",
       "    <tr>\n",
       "      <th>2155</th>\n",
       "      <td>2020</td>\n",
       "      <td>5</td>\n",
       "      <td>29</td>\n",
       "      <td>4492.0</td>\n",
       "      <td>4542.0</td>\n",
       "    </tr>\n",
       "    <tr>\n",
       "      <th>2156</th>\n",
       "      <td>2020</td>\n",
       "      <td>5</td>\n",
       "      <td>30</td>\n",
       "      <td>4483.0</td>\n",
       "      <td>4533.0</td>\n",
       "    </tr>\n",
       "    <tr>\n",
       "      <th>2157</th>\n",
       "      <td>2020</td>\n",
       "      <td>5</td>\n",
       "      <td>31</td>\n",
       "      <td>4434.0</td>\n",
       "      <td>4484.0</td>\n",
       "    </tr>\n",
       "  </tbody>\n",
       "</table>\n",
       "<p>2158 rows × 5 columns</p>\n",
       "</div>"
      ],
      "text/plain": [
       "      YEAR  MONTH  DAY       Z      Z2\n",
       "0     2014      7    5  4577.0  4627.0\n",
       "1     2014      7    6  4531.0  4581.0\n",
       "2     2014      7    7  4584.0  4634.0\n",
       "3     2014      7    8  4606.0  4656.0\n",
       "4     2014      7    9  4532.0  4582.0\n",
       "...    ...    ...  ...     ...     ...\n",
       "2153  2020      5   27  4585.0  4635.0\n",
       "2154  2020      5   28  4518.0  4568.0\n",
       "2155  2020      5   29  4492.0  4542.0\n",
       "2156  2020      5   30  4483.0  4533.0\n",
       "2157  2020      5   31  4434.0  4484.0\n",
       "\n",
       "[2158 rows x 5 columns]"
      ]
     },
     "execution_count": 141,
     "metadata": {},
     "output_type": "execute_result"
    }
   ],
   "source": [
    "df['Z2'] = df['Z'] + 50\n",
    "df"
   ]
  },
  {
   "cell_type": "markdown",
   "metadata": {},
   "source": [
    "### create datetime column and set it to be the index"
   ]
  },
  {
   "cell_type": "code",
   "execution_count": 138,
   "metadata": {},
   "outputs": [
    {
     "data": {
      "text/plain": [
       "0      2014-07-05\n",
       "1      2014-07-06\n",
       "2      2014-07-07\n",
       "3      2014-07-08\n",
       "4      2014-07-09\n",
       "          ...    \n",
       "2153   2020-05-27\n",
       "2154   2020-05-28\n",
       "2155   2020-05-29\n",
       "2156   2020-05-30\n",
       "2157   2020-05-31\n",
       "Length: 2158, dtype: datetime64[ns]"
      ]
     },
     "execution_count": 138,
     "metadata": {},
     "output_type": "execute_result"
    }
   ],
   "source": [
    "pd.to_datetime(df[['YEAR', 'MONTH', 'DAY']])"
   ]
  },
  {
   "cell_type": "code",
   "execution_count": 144,
   "metadata": {},
   "outputs": [
    {
     "data": {
      "text/html": [
       "<div>\n",
       "<style scoped>\n",
       "    .dataframe tbody tr th:only-of-type {\n",
       "        vertical-align: middle;\n",
       "    }\n",
       "\n",
       "    .dataframe tbody tr th {\n",
       "        vertical-align: top;\n",
       "    }\n",
       "\n",
       "    .dataframe thead th {\n",
       "        text-align: right;\n",
       "    }\n",
       "</style>\n",
       "<table border=\"1\" class=\"dataframe\">\n",
       "  <thead>\n",
       "    <tr style=\"text-align: right;\">\n",
       "      <th></th>\n",
       "      <th>YEAR</th>\n",
       "      <th>MONTH</th>\n",
       "      <th>DAY</th>\n",
       "      <th>Z</th>\n",
       "      <th>Z2</th>\n",
       "      <th>DATETIME</th>\n",
       "    </tr>\n",
       "  </thead>\n",
       "  <tbody>\n",
       "    <tr>\n",
       "      <th>0</th>\n",
       "      <td>2014</td>\n",
       "      <td>7</td>\n",
       "      <td>5</td>\n",
       "      <td>4577.0</td>\n",
       "      <td>4627.0</td>\n",
       "      <td>2014-07-05</td>\n",
       "    </tr>\n",
       "    <tr>\n",
       "      <th>1</th>\n",
       "      <td>2014</td>\n",
       "      <td>7</td>\n",
       "      <td>6</td>\n",
       "      <td>4531.0</td>\n",
       "      <td>4581.0</td>\n",
       "      <td>2014-07-06</td>\n",
       "    </tr>\n",
       "    <tr>\n",
       "      <th>2</th>\n",
       "      <td>2014</td>\n",
       "      <td>7</td>\n",
       "      <td>7</td>\n",
       "      <td>4584.0</td>\n",
       "      <td>4634.0</td>\n",
       "      <td>2014-07-07</td>\n",
       "    </tr>\n",
       "    <tr>\n",
       "      <th>3</th>\n",
       "      <td>2014</td>\n",
       "      <td>7</td>\n",
       "      <td>8</td>\n",
       "      <td>4606.0</td>\n",
       "      <td>4656.0</td>\n",
       "      <td>2014-07-08</td>\n",
       "    </tr>\n",
       "    <tr>\n",
       "      <th>4</th>\n",
       "      <td>2014</td>\n",
       "      <td>7</td>\n",
       "      <td>9</td>\n",
       "      <td>4532.0</td>\n",
       "      <td>4582.0</td>\n",
       "      <td>2014-07-09</td>\n",
       "    </tr>\n",
       "    <tr>\n",
       "      <th>...</th>\n",
       "      <td>...</td>\n",
       "      <td>...</td>\n",
       "      <td>...</td>\n",
       "      <td>...</td>\n",
       "      <td>...</td>\n",
       "      <td>...</td>\n",
       "    </tr>\n",
       "    <tr>\n",
       "      <th>2153</th>\n",
       "      <td>2020</td>\n",
       "      <td>5</td>\n",
       "      <td>27</td>\n",
       "      <td>4585.0</td>\n",
       "      <td>4635.0</td>\n",
       "      <td>2020-05-27</td>\n",
       "    </tr>\n",
       "    <tr>\n",
       "      <th>2154</th>\n",
       "      <td>2020</td>\n",
       "      <td>5</td>\n",
       "      <td>28</td>\n",
       "      <td>4518.0</td>\n",
       "      <td>4568.0</td>\n",
       "      <td>2020-05-28</td>\n",
       "    </tr>\n",
       "    <tr>\n",
       "      <th>2155</th>\n",
       "      <td>2020</td>\n",
       "      <td>5</td>\n",
       "      <td>29</td>\n",
       "      <td>4492.0</td>\n",
       "      <td>4542.0</td>\n",
       "      <td>2020-05-29</td>\n",
       "    </tr>\n",
       "    <tr>\n",
       "      <th>2156</th>\n",
       "      <td>2020</td>\n",
       "      <td>5</td>\n",
       "      <td>30</td>\n",
       "      <td>4483.0</td>\n",
       "      <td>4533.0</td>\n",
       "      <td>2020-05-30</td>\n",
       "    </tr>\n",
       "    <tr>\n",
       "      <th>2157</th>\n",
       "      <td>2020</td>\n",
       "      <td>5</td>\n",
       "      <td>31</td>\n",
       "      <td>4434.0</td>\n",
       "      <td>4484.0</td>\n",
       "      <td>2020-05-31</td>\n",
       "    </tr>\n",
       "  </tbody>\n",
       "</table>\n",
       "<p>2158 rows × 6 columns</p>\n",
       "</div>"
      ],
      "text/plain": [
       "      YEAR  MONTH  DAY       Z      Z2   DATETIME\n",
       "0     2014      7    5  4577.0  4627.0 2014-07-05\n",
       "1     2014      7    6  4531.0  4581.0 2014-07-06\n",
       "2     2014      7    7  4584.0  4634.0 2014-07-07\n",
       "3     2014      7    8  4606.0  4656.0 2014-07-08\n",
       "4     2014      7    9  4532.0  4582.0 2014-07-09\n",
       "...    ...    ...  ...     ...     ...        ...\n",
       "2153  2020      5   27  4585.0  4635.0 2020-05-27\n",
       "2154  2020      5   28  4518.0  4568.0 2020-05-28\n",
       "2155  2020      5   29  4492.0  4542.0 2020-05-29\n",
       "2156  2020      5   30  4483.0  4533.0 2020-05-30\n",
       "2157  2020      5   31  4434.0  4484.0 2020-05-31\n",
       "\n",
       "[2158 rows x 6 columns]"
      ]
     },
     "execution_count": 144,
     "metadata": {},
     "output_type": "execute_result"
    }
   ],
   "source": [
    "df['DATETIME'] = pd.to_datetime(df[['YEAR', 'MONTH', 'DAY']])\n",
    "df"
   ]
  },
  {
   "cell_type": "code",
   "execution_count": 145,
   "metadata": {},
   "outputs": [
    {
     "data": {
      "text/html": [
       "<div>\n",
       "<style scoped>\n",
       "    .dataframe tbody tr th:only-of-type {\n",
       "        vertical-align: middle;\n",
       "    }\n",
       "\n",
       "    .dataframe tbody tr th {\n",
       "        vertical-align: top;\n",
       "    }\n",
       "\n",
       "    .dataframe thead th {\n",
       "        text-align: right;\n",
       "    }\n",
       "</style>\n",
       "<table border=\"1\" class=\"dataframe\">\n",
       "  <thead>\n",
       "    <tr style=\"text-align: right;\">\n",
       "      <th></th>\n",
       "      <th>YEAR</th>\n",
       "      <th>MONTH</th>\n",
       "      <th>DAY</th>\n",
       "      <th>Z</th>\n",
       "      <th>Z2</th>\n",
       "    </tr>\n",
       "    <tr>\n",
       "      <th>DATETIME</th>\n",
       "      <th></th>\n",
       "      <th></th>\n",
       "      <th></th>\n",
       "      <th></th>\n",
       "      <th></th>\n",
       "    </tr>\n",
       "  </thead>\n",
       "  <tbody>\n",
       "    <tr>\n",
       "      <th>2014-07-05</th>\n",
       "      <td>2014</td>\n",
       "      <td>7</td>\n",
       "      <td>5</td>\n",
       "      <td>4577.0</td>\n",
       "      <td>4627.0</td>\n",
       "    </tr>\n",
       "    <tr>\n",
       "      <th>2014-07-06</th>\n",
       "      <td>2014</td>\n",
       "      <td>7</td>\n",
       "      <td>6</td>\n",
       "      <td>4531.0</td>\n",
       "      <td>4581.0</td>\n",
       "    </tr>\n",
       "    <tr>\n",
       "      <th>2014-07-07</th>\n",
       "      <td>2014</td>\n",
       "      <td>7</td>\n",
       "      <td>7</td>\n",
       "      <td>4584.0</td>\n",
       "      <td>4634.0</td>\n",
       "    </tr>\n",
       "    <tr>\n",
       "      <th>2014-07-08</th>\n",
       "      <td>2014</td>\n",
       "      <td>7</td>\n",
       "      <td>8</td>\n",
       "      <td>4606.0</td>\n",
       "      <td>4656.0</td>\n",
       "    </tr>\n",
       "    <tr>\n",
       "      <th>2014-07-09</th>\n",
       "      <td>2014</td>\n",
       "      <td>7</td>\n",
       "      <td>9</td>\n",
       "      <td>4532.0</td>\n",
       "      <td>4582.0</td>\n",
       "    </tr>\n",
       "    <tr>\n",
       "      <th>...</th>\n",
       "      <td>...</td>\n",
       "      <td>...</td>\n",
       "      <td>...</td>\n",
       "      <td>...</td>\n",
       "      <td>...</td>\n",
       "    </tr>\n",
       "    <tr>\n",
       "      <th>2020-05-27</th>\n",
       "      <td>2020</td>\n",
       "      <td>5</td>\n",
       "      <td>27</td>\n",
       "      <td>4585.0</td>\n",
       "      <td>4635.0</td>\n",
       "    </tr>\n",
       "    <tr>\n",
       "      <th>2020-05-28</th>\n",
       "      <td>2020</td>\n",
       "      <td>5</td>\n",
       "      <td>28</td>\n",
       "      <td>4518.0</td>\n",
       "      <td>4568.0</td>\n",
       "    </tr>\n",
       "    <tr>\n",
       "      <th>2020-05-29</th>\n",
       "      <td>2020</td>\n",
       "      <td>5</td>\n",
       "      <td>29</td>\n",
       "      <td>4492.0</td>\n",
       "      <td>4542.0</td>\n",
       "    </tr>\n",
       "    <tr>\n",
       "      <th>2020-05-30</th>\n",
       "      <td>2020</td>\n",
       "      <td>5</td>\n",
       "      <td>30</td>\n",
       "      <td>4483.0</td>\n",
       "      <td>4533.0</td>\n",
       "    </tr>\n",
       "    <tr>\n",
       "      <th>2020-05-31</th>\n",
       "      <td>2020</td>\n",
       "      <td>5</td>\n",
       "      <td>31</td>\n",
       "      <td>4434.0</td>\n",
       "      <td>4484.0</td>\n",
       "    </tr>\n",
       "  </tbody>\n",
       "</table>\n",
       "<p>2158 rows × 5 columns</p>\n",
       "</div>"
      ],
      "text/plain": [
       "            YEAR  MONTH  DAY       Z      Z2\n",
       "DATETIME                                    \n",
       "2014-07-05  2014      7    5  4577.0  4627.0\n",
       "2014-07-06  2014      7    6  4531.0  4581.0\n",
       "2014-07-07  2014      7    7  4584.0  4634.0\n",
       "2014-07-08  2014      7    8  4606.0  4656.0\n",
       "2014-07-09  2014      7    9  4532.0  4582.0\n",
       "...          ...    ...  ...     ...     ...\n",
       "2020-05-27  2020      5   27  4585.0  4635.0\n",
       "2020-05-28  2020      5   28  4518.0  4568.0\n",
       "2020-05-29  2020      5   29  4492.0  4542.0\n",
       "2020-05-30  2020      5   30  4483.0  4533.0\n",
       "2020-05-31  2020      5   31  4434.0  4484.0\n",
       "\n",
       "[2158 rows x 5 columns]"
      ]
     },
     "execution_count": 145,
     "metadata": {},
     "output_type": "execute_result"
    }
   ],
   "source": [
    "df = df.set_index('DATETIME')\n",
    "df"
   ]
  },
  {
   "cell_type": "code",
   "execution_count": 163,
   "metadata": {
    "scrolled": true
   },
   "outputs": [
    {
     "data": {
      "image/png": "[encoded data removed]",
      "text/plain": [
       "<Figure size 432x288 with 1 Axes>"
      ]
     },
     "metadata": {
      "needs_background": "light"
     },
     "output_type": "display_data"
    }
   ],
   "source": [
    "ax = df['Z'].plot(linestyle='')"
   ]
  },
  {
   "cell_type": "markdown",
   "metadata": {},
   "source": [
    "### Zoom in using `set_xlim`"
   ]
  },
  {
   "cell_type": "code",
   "execution_count": 162,
   "metadata": {},
   "outputs": [
    {
     "data": {
      "text/plain": [
       "(4300.0, 4600.0)"
      ]
     },
     "execution_count": 162,
     "metadata": {},
     "output_type": "execute_result"
    },
    {
     "data": {
      "image/png": "[encoded data removed]",
      "text/plain": [
       "<Figure size 432x288 with 1 Axes>"
      ]
     },
     "metadata": {
      "needs_background": "light"
     },
     "output_type": "display_data"
    }
   ],
   "source": [
    "ax = df['Z'].plot(marker='o')\n",
    "ax.set_xlim(pd.Timestamp('2015-08-01'), pd.Timestamp('2015-09-01'))\n",
    "ax.set_ylim(4300, 4600)"
   ]
  },
  {
   "cell_type": "code",
   "execution_count": null,
   "metadata": {},
   "outputs": [],
   "source": []
  }
 ],
 "metadata": {
  "kernelspec": {
   "display_name": "Python [conda env:py36] *",
   "language": "python",
   "name": "conda-env-py36-py"
  },
  "language_info": {
   "codemirror_mode": {
    "name": "ipython",
    "version": 3
   },
   "file_extension": ".py",
   "mimetype": "text/x-python",
   "name": "python",
   "nbconvert_exporter": "python",
   "pygments_lexer": "ipython3",
   "version": "3.6.10"
  }
 },
 "nbformat": 4,
 "nbformat_minor": 4
}
