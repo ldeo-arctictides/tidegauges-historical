{
 "cells": [
  {
   "cell_type": "code",
   "execution_count": 1,
   "metadata": {},
   "outputs": [],
   "source": [
    "import os\n",
    "import numpy as np\n",
    "import pandas as pd\n",
    "import matplotlib.pyplot as plt\n",
    "\n",
    "import matplotlib.dates as mdates\n",
    "\n",
    "from tidegauge_functions import read_tidegauge_psmsl\n",
    "\n",
    "# %matplotlib notebook\n",
    "%matplotlib inline\n",
    "# %matplotlib widget"
   ]
  },
  {
   "cell_type": "markdown",
   "metadata": {},
   "source": [
    "# Read in Greenland Rising tide gauge\n",
    "\n",
    "ONSET"
   ]
  },
  {
   "cell_type": "code",
   "execution_count": 2,
   "metadata": {},
   "outputs": [
    {
     "ename": "FileNotFoundError",
     "evalue": "[Errno 2] File data/aasiaat/Tide guage Aasiaat 2022-09-10 20_07_55 Greenland Daylight Time (Data Greenland Daylight Time).csv does not exist: 'data/aasiaat/Tide guage Aasiaat 2022-09-10 20_07_55 Greenland Daylight Time (Data Greenland Daylight Time).csv'",
     "output_type": "error",
     "traceback": [
      "\u001b[0;31m---------------------------------------------------------------------------\u001b[0m",
      "\u001b[0;31mFileNotFoundError\u001b[0m                         Traceback (most recent call last)",
      "\u001b[0;32m<ipython-input-2-bb295a5f36c7>\u001b[0m in \u001b[0;36m<module>\u001b[0;34m\u001b[0m\n\u001b[1;32m      7\u001b[0m \u001b[0;34m\u001b[0m\u001b[0m\n\u001b[1;32m      8\u001b[0m \u001b[0;31m# rt = pd.read_csv(filepath, skiprows=5, header=None, engine='c')\u001b[0m\u001b[0;34m\u001b[0m\u001b[0;34m\u001b[0m\u001b[0;34m\u001b[0m\u001b[0m\n\u001b[0;32m----> 9\u001b[0;31m \u001b[0mrt\u001b[0m \u001b[0;34m=\u001b[0m \u001b[0mpd\u001b[0m\u001b[0;34m.\u001b[0m\u001b[0mread_csv\u001b[0m\u001b[0;34m(\u001b[0m\u001b[0mfilepath\u001b[0m\u001b[0;34m,\u001b[0m \u001b[0mskiprows\u001b[0m\u001b[0;34m=\u001b[0m\u001b[0;36m0\u001b[0m\u001b[0;34m,\u001b[0m \u001b[0mengine\u001b[0m\u001b[0;34m=\u001b[0m\u001b[0;34m'c'\u001b[0m\u001b[0;34m)\u001b[0m\u001b[0;34m\u001b[0m\u001b[0;34m\u001b[0m\u001b[0m\n\u001b[0m\u001b[1;32m     10\u001b[0m \u001b[0;34m\u001b[0m\u001b[0m\n\u001b[1;32m     11\u001b[0m \u001b[0;34m\u001b[0m\u001b[0m\n",
      "\u001b[0;32m~/.conda/envs/tidegauges-historical/lib/python3.8/site-packages/pandas/io/parsers.py\u001b[0m in \u001b[0;36mparser_f\u001b[0;34m(filepath_or_buffer, sep, delimiter, header, names, index_col, usecols, squeeze, prefix, mangle_dupe_cols, dtype, engine, converters, true_values, false_values, skipinitialspace, skiprows, skipfooter, nrows, na_values, keep_default_na, na_filter, verbose, skip_blank_lines, parse_dates, infer_datetime_format, keep_date_col, date_parser, dayfirst, cache_dates, iterator, chunksize, compression, thousands, decimal, lineterminator, quotechar, quoting, doublequote, escapechar, comment, encoding, dialect, error_bad_lines, warn_bad_lines, delim_whitespace, low_memory, memory_map, float_precision)\u001b[0m\n\u001b[1;32m    674\u001b[0m         )\n\u001b[1;32m    675\u001b[0m \u001b[0;34m\u001b[0m\u001b[0m\n\u001b[0;32m--> 676\u001b[0;31m         \u001b[0;32mreturn\u001b[0m \u001b[0m_read\u001b[0m\u001b[0;34m(\u001b[0m\u001b[0mfilepath_or_buffer\u001b[0m\u001b[0;34m,\u001b[0m \u001b[0mkwds\u001b[0m\u001b[0;34m)\u001b[0m\u001b[0;34m\u001b[0m\u001b[0;34m\u001b[0m\u001b[0m\n\u001b[0m\u001b[1;32m    677\u001b[0m \u001b[0;34m\u001b[0m\u001b[0m\n\u001b[1;32m    678\u001b[0m     \u001b[0mparser_f\u001b[0m\u001b[0;34m.\u001b[0m\u001b[0m__name__\u001b[0m \u001b[0;34m=\u001b[0m \u001b[0mname\u001b[0m\u001b[0;34m\u001b[0m\u001b[0;34m\u001b[0m\u001b[0m\n",
      "\u001b[0;32m~/.conda/envs/tidegauges-historical/lib/python3.8/site-packages/pandas/io/parsers.py\u001b[0m in \u001b[0;36m_read\u001b[0;34m(filepath_or_buffer, kwds)\u001b[0m\n\u001b[1;32m    446\u001b[0m \u001b[0;34m\u001b[0m\u001b[0m\n\u001b[1;32m    447\u001b[0m     \u001b[0;31m# Create the parser.\u001b[0m\u001b[0;34m\u001b[0m\u001b[0;34m\u001b[0m\u001b[0;34m\u001b[0m\u001b[0m\n\u001b[0;32m--> 448\u001b[0;31m     \u001b[0mparser\u001b[0m \u001b[0;34m=\u001b[0m \u001b[0mTextFileReader\u001b[0m\u001b[0;34m(\u001b[0m\u001b[0mfp_or_buf\u001b[0m\u001b[0;34m,\u001b[0m \u001b[0;34m**\u001b[0m\u001b[0mkwds\u001b[0m\u001b[0;34m)\u001b[0m\u001b[0;34m\u001b[0m\u001b[0;34m\u001b[0m\u001b[0m\n\u001b[0m\u001b[1;32m    449\u001b[0m \u001b[0;34m\u001b[0m\u001b[0m\n\u001b[1;32m    450\u001b[0m     \u001b[0;32mif\u001b[0m \u001b[0mchunksize\u001b[0m \u001b[0;32mor\u001b[0m \u001b[0miterator\u001b[0m\u001b[0;34m:\u001b[0m\u001b[0;34m\u001b[0m\u001b[0;34m\u001b[0m\u001b[0m\n",
      "\u001b[0;32m~/.conda/envs/tidegauges-historical/lib/python3.8/site-packages/pandas/io/parsers.py\u001b[0m in \u001b[0;36m__init__\u001b[0;34m(self, f, engine, **kwds)\u001b[0m\n\u001b[1;32m    878\u001b[0m             \u001b[0mself\u001b[0m\u001b[0;34m.\u001b[0m\u001b[0moptions\u001b[0m\u001b[0;34m[\u001b[0m\u001b[0;34m\"has_index_names\"\u001b[0m\u001b[0;34m]\u001b[0m \u001b[0;34m=\u001b[0m \u001b[0mkwds\u001b[0m\u001b[0;34m[\u001b[0m\u001b[0;34m\"has_index_names\"\u001b[0m\u001b[0;34m]\u001b[0m\u001b[0;34m\u001b[0m\u001b[0;34m\u001b[0m\u001b[0m\n\u001b[1;32m    879\u001b[0m \u001b[0;34m\u001b[0m\u001b[0m\n\u001b[0;32m--> 880\u001b[0;31m         \u001b[0mself\u001b[0m\u001b[0;34m.\u001b[0m\u001b[0m_make_engine\u001b[0m\u001b[0;34m(\u001b[0m\u001b[0mself\u001b[0m\u001b[0;34m.\u001b[0m\u001b[0mengine\u001b[0m\u001b[0;34m)\u001b[0m\u001b[0;34m\u001b[0m\u001b[0;34m\u001b[0m\u001b[0m\n\u001b[0m\u001b[1;32m    881\u001b[0m \u001b[0;34m\u001b[0m\u001b[0m\n\u001b[1;32m    882\u001b[0m     \u001b[0;32mdef\u001b[0m \u001b[0mclose\u001b[0m\u001b[0;34m(\u001b[0m\u001b[0mself\u001b[0m\u001b[0;34m)\u001b[0m\u001b[0;34m:\u001b[0m\u001b[0;34m\u001b[0m\u001b[0;34m\u001b[0m\u001b[0m\n",
      "\u001b[0;32m~/.conda/envs/tidegauges-historical/lib/python3.8/site-packages/pandas/io/parsers.py\u001b[0m in \u001b[0;36m_make_engine\u001b[0;34m(self, engine)\u001b[0m\n\u001b[1;32m   1112\u001b[0m     \u001b[0;32mdef\u001b[0m \u001b[0m_make_engine\u001b[0m\u001b[0;34m(\u001b[0m\u001b[0mself\u001b[0m\u001b[0;34m,\u001b[0m \u001b[0mengine\u001b[0m\u001b[0;34m=\u001b[0m\u001b[0;34m\"c\"\u001b[0m\u001b[0;34m)\u001b[0m\u001b[0;34m:\u001b[0m\u001b[0;34m\u001b[0m\u001b[0;34m\u001b[0m\u001b[0m\n\u001b[1;32m   1113\u001b[0m         \u001b[0;32mif\u001b[0m \u001b[0mengine\u001b[0m \u001b[0;34m==\u001b[0m \u001b[0;34m\"c\"\u001b[0m\u001b[0;34m:\u001b[0m\u001b[0;34m\u001b[0m\u001b[0;34m\u001b[0m\u001b[0m\n\u001b[0;32m-> 1114\u001b[0;31m             \u001b[0mself\u001b[0m\u001b[0;34m.\u001b[0m\u001b[0m_engine\u001b[0m \u001b[0;34m=\u001b[0m \u001b[0mCParserWrapper\u001b[0m\u001b[0;34m(\u001b[0m\u001b[0mself\u001b[0m\u001b[0;34m.\u001b[0m\u001b[0mf\u001b[0m\u001b[0;34m,\u001b[0m \u001b[0;34m**\u001b[0m\u001b[0mself\u001b[0m\u001b[0;34m.\u001b[0m\u001b[0moptions\u001b[0m\u001b[0;34m)\u001b[0m\u001b[0;34m\u001b[0m\u001b[0;34m\u001b[0m\u001b[0m\n\u001b[0m\u001b[1;32m   1115\u001b[0m         \u001b[0;32melse\u001b[0m\u001b[0;34m:\u001b[0m\u001b[0;34m\u001b[0m\u001b[0;34m\u001b[0m\u001b[0m\n\u001b[1;32m   1116\u001b[0m             \u001b[0;32mif\u001b[0m \u001b[0mengine\u001b[0m \u001b[0;34m==\u001b[0m \u001b[0;34m\"python\"\u001b[0m\u001b[0;34m:\u001b[0m\u001b[0;34m\u001b[0m\u001b[0;34m\u001b[0m\u001b[0m\n",
      "\u001b[0;32m~/.conda/envs/tidegauges-historical/lib/python3.8/site-packages/pandas/io/parsers.py\u001b[0m in \u001b[0;36m__init__\u001b[0;34m(self, src, **kwds)\u001b[0m\n\u001b[1;32m   1889\u001b[0m         \u001b[0mkwds\u001b[0m\u001b[0;34m[\u001b[0m\u001b[0;34m\"usecols\"\u001b[0m\u001b[0;34m]\u001b[0m \u001b[0;34m=\u001b[0m \u001b[0mself\u001b[0m\u001b[0;34m.\u001b[0m\u001b[0musecols\u001b[0m\u001b[0;34m\u001b[0m\u001b[0;34m\u001b[0m\u001b[0m\n\u001b[1;32m   1890\u001b[0m \u001b[0;34m\u001b[0m\u001b[0m\n\u001b[0;32m-> 1891\u001b[0;31m         \u001b[0mself\u001b[0m\u001b[0;34m.\u001b[0m\u001b[0m_reader\u001b[0m \u001b[0;34m=\u001b[0m \u001b[0mparsers\u001b[0m\u001b[0;34m.\u001b[0m\u001b[0mTextReader\u001b[0m\u001b[0;34m(\u001b[0m\u001b[0msrc\u001b[0m\u001b[0;34m,\u001b[0m \u001b[0;34m**\u001b[0m\u001b[0mkwds\u001b[0m\u001b[0;34m)\u001b[0m\u001b[0;34m\u001b[0m\u001b[0;34m\u001b[0m\u001b[0m\n\u001b[0m\u001b[1;32m   1892\u001b[0m         \u001b[0mself\u001b[0m\u001b[0;34m.\u001b[0m\u001b[0munnamed_cols\u001b[0m \u001b[0;34m=\u001b[0m \u001b[0mself\u001b[0m\u001b[0;34m.\u001b[0m\u001b[0m_reader\u001b[0m\u001b[0;34m.\u001b[0m\u001b[0munnamed_cols\u001b[0m\u001b[0;34m\u001b[0m\u001b[0;34m\u001b[0m\u001b[0m\n\u001b[1;32m   1893\u001b[0m \u001b[0;34m\u001b[0m\u001b[0m\n",
      "\u001b[0;32mpandas/_libs/parsers.pyx\u001b[0m in \u001b[0;36mpandas._libs.parsers.TextReader.__cinit__\u001b[0;34m()\u001b[0m\n",
      "\u001b[0;32mpandas/_libs/parsers.pyx\u001b[0m in \u001b[0;36mpandas._libs.parsers.TextReader._setup_parser_source\u001b[0;34m()\u001b[0m\n",
      "\u001b[0;31mFileNotFoundError\u001b[0m: [Errno 2] File data/aasiaat/Tide guage Aasiaat 2022-09-10 20_07_55 Greenland Daylight Time (Data Greenland Daylight Time).csv does not exist: 'data/aasiaat/Tide guage Aasiaat 2022-09-10 20_07_55 Greenland Daylight Time (Data Greenland Daylight Time).csv'"
     ]
    }
   ],
   "source": [
    "# file_in = 'EtEllerAndet_20201018'\n",
    "file_in = 'Tide guage Aasiaat 2022-09-10 20_07_55 Greenland Daylight Time (Data Greenland Daylight Time)'\n",
    "\n",
    "dir_in = 'data/aasiaat'\n",
    "ext = '.csv'\n",
    "filepath = os.path.join(dir_in, file_in + ext)\n",
    "\n",
    "# rt = pd.read_csv(filepath, skiprows=5, header=None, engine='c')\n",
    "rt = pd.read_csv(filepath, skiprows=0, engine='c')\n",
    "\n",
    "\n",
    "# # columns = ['Date', 'North', 'East', 'Vertical', 'NorthSTD', 'EastSTD', 'VerticalSTD', 'Quality', 'NaN']\n",
    "# df = pd.read_csv(path, skiprows=3, header=None, engine='c')\n",
    "# if len(df.columns) == len(columns):\n",
    "#     df.columns = ['Date', 'North', 'East', 'Vertical', 'NorthSTD', 'EastSTD', 'VerticalSTD', 'Quality', 'NaN']\n",
    "\n",
    "rt"
   ]
  },
  {
   "cell_type": "code",
   "execution_count": null,
   "metadata": {},
   "outputs": [],
   "source": [
    "rt.keys()"
   ]
  },
  {
   "cell_type": "code",
   "execution_count": null,
   "metadata": {},
   "outputs": [],
   "source": [
    "# len(rt.columns)\n",
    "len(columns)"
   ]
  },
  {
   "cell_type": "code",
   "execution_count": null,
   "metadata": {},
   "outputs": [],
   "source": [
    "# columns = [\"Date Time - GMT -03:00\",\"Diff Press, (kPa)\",\"Diff Press - Max, (kPa)\",\n",
    "#            \"Diff Press - Min, (kPa)\",\"Diff Press - Avg, (kPa)\",\"Diff Press - StdDev, (kPa)\",\n",
    "#            \"Abs Press, (kPa)\",\"Abs Press - Max, (kPa)\",\"Abs Press - Min, (kPa)\",\"Abs Press - Avg, (kPa)\",\n",
    "#            \"Abs Press - StdDev, (kPa)\",\"Temp, (*C)\",\"Temp - Max, (*C)\",\"Temp - Min, (*C)\",\"Temp - Avg, (*C)\",\n",
    "#            \"Temp - StdDev, (*C)\",\"Water Level, (m)\",\"Baro Press, (kPa)\",\"Reference Water Level, (m)\",\n",
    "#            \"Water Density, (kg/m3)\",\"Host Connect\",\"EOF\",\"unknown\"]\n",
    "# if len(rt.columns) == len(columns):\n",
    "#     rt.columns = columns\n",
    "\n",
    "# dt = pd.to_datetime(rt['Date Time - GMT -03:00'])\n",
    "\n",
    "# # create datetime index\n",
    "# rt.index = pd.DatetimeIndex(dt)\n",
    "\n",
    "# rt = rt.drop('Date Time - GMT -03:00', axis=1)\n",
    "\n",
    "# # df[cols] = df[cols].apply(pd.to_numeric, errors='coerce')\n",
    "# rt = rt.apply(pd.to_numeric, errors='coerce')\n",
    "\n",
    "# rt"
   ]
  },
  {
   "cell_type": "code",
   "execution_count": null,
   "metadata": {},
   "outputs": [],
   "source": [
    "\n",
    "dt = pd.to_datetime(rt['Date-Time (Greenland Standard Time/Greenland Daylight Time)'])\n",
    "\n",
    "# create datetime index\n",
    "rt.index = pd.DatetimeIndex(dt)\n",
    "\n",
    "# rt = rt.drop('#', axis=1)\n",
    "# rt = rt.drop('Date-Time (Greenland Standard Time/Greenland Daylight Time)', axis=1)\n",
    "\n",
    "\n",
    "\n",
    "# df[cols] = df[cols].apply(pd.to_numeric, errors='coerce')\n",
    "rt = rt.apply(pd.to_numeric, errors='coerce')\n",
    "\n",
    "rt"
   ]
  },
  {
   "cell_type": "code",
   "execution_count": null,
   "metadata": {},
   "outputs": [],
   "source": [
    "rt = rt.drop('#', axis=1)\n",
    "rt"
   ]
  },
  {
   "cell_type": "code",
   "execution_count": null,
   "metadata": {
    "scrolled": true
   },
   "outputs": [],
   "source": [
    "rt.describe()"
   ]
  },
  {
   "cell_type": "code",
   "execution_count": null,
   "metadata": {},
   "outputs": [],
   "source": [
    "starttime = pd.Timestamp(dt.iloc[0])\n",
    "endtime = pd.Timestamp(dt.iloc[-1])\n",
    "\n",
    "# starttime = pd.Timestamp('2020-10-14T00:00')\n",
    "# endtime = pd.Timestamp('2020-10-19T12:00')"
   ]
  },
  {
   "cell_type": "code",
   "execution_count": null,
   "metadata": {},
   "outputs": [],
   "source": [
    "# Set up\n",
    "fig = plt.figure(figsize=(8,5))\n",
    "# ax = fig.add_subplot(111)\n",
    "\n",
    "# Plot\n",
    "# ln1 = plt.plot(df['SSH'], '-ok', label='daily')\n",
    "# ln2 = plt.plot(hourly['SSH'], color='orange', label='hourly')\n",
    "\n",
    "\n",
    "# Customize\n",
    "# ax.set_title('')\n",
    "# ax.set_xlim(pd.Timestamp('2020-10-14'), pd.Timestamp('2020-10-16'))\n",
    "\n",
    "\n",
    "rt.plot()\n",
    "plt.xlim(starttime, endtime)"
   ]
  },
  {
   "cell_type": "code",
   "execution_count": null,
   "metadata": {
    "scrolled": true
   },
   "outputs": [],
   "source": [
    "# plt.figure(figsize=(5,15))\n",
    "rt.plot(subplots=True)#, layout=(12,2))\n",
    "plt.xlim(starttime, endtime)"
   ]
  },
  {
   "cell_type": "code",
   "execution_count": null,
   "metadata": {},
   "outputs": [],
   "source": [
    "rt.keys()"
   ]
  },
  {
   "cell_type": "code",
   "execution_count": null,
   "metadata": {},
   "outputs": [],
   "source": [
    "rt[['Water Level   (m)']].plot()"
   ]
  },
  {
   "cell_type": "code",
   "execution_count": null,
   "metadata": {},
   "outputs": [],
   "source": [
    "# rt[\"WaterLevel_shifted\"] = rt[[\"Water Level, (m)\"]] - rt[[\"Water Level, (m)\"]].mean()\n",
    "# rt[\"WaterLevel_shifted_m\"] = rt[\"WaterLevel_shifted\"] * (1609.34/5280)"
   ]
  },
  {
   "cell_type": "code",
   "execution_count": null,
   "metadata": {
    "scrolled": true
   },
   "outputs": [],
   "source": [
    "# rt[[\"WaterLevel_shifted_m\"]].plot()"
   ]
  },
  {
   "cell_type": "markdown",
   "metadata": {},
   "source": [
    "## Read in DMI data\n"
   ]
  },
  {
   "cell_type": "markdown",
   "metadata": {},
   "source": [
    "### Scraping"
   ]
  },
  {
   "cell_type": "code",
   "execution_count": null,
   "metadata": {},
   "outputs": [],
   "source": [
    "# import urllib3\n",
    "\n",
    "tide_chart_url ='https://ocean.dmi.dk/tides/ZERO/2022/Aasiaat.tmp.txt'\n",
    "\n",
    "# data = urllib.urlopen(tide_chart_url).read()\n",
    "# urllib.urlretrieve(tide_chart_url, filename=\"data/Nuuk.t.txt\")"
   ]
  },
  {
   "cell_type": "code",
   "execution_count": null,
   "metadata": {},
   "outputs": [],
   "source": [
    "df_chart = pd.read_csv(tide_chart_url,\n",
    "                       skiprows=18,\n",
    "                       header=None,\n",
    "                       sep='\\t', engine='python')\n",
    "\n",
    "df_chart.head()"
   ]
  },
  {
   "cell_type": "code",
   "execution_count": null,
   "metadata": {},
   "outputs": [],
   "source": [
    "columns = ['DATETIME', 'SSH']\n",
    "\n",
    "if len(df_chart.columns) == len(columns):\n",
    "    df_chart.columns = columns\n",
    "\n",
    "# 202001010446\n",
    "# YYYYmmddHHMM\n",
    "\n",
    "dt = pd.to_datetime(df_chart['DATETIME'], \n",
    "                    format='%Y%m%d%H%M')\n",
    "\n",
    "df_chart.index = pd.DatetimeIndex(dt)\n",
    "df_chart = df_chart.drop('DATETIME', axis=1)\n",
    "\n",
    "# df_chart = df_chart.apply(pd.to_numeric, errors='coerce')\n",
    "\n",
    "df_chart.head()"
   ]
  },
  {
   "cell_type": "code",
   "execution_count": null,
   "metadata": {},
   "outputs": [],
   "source": [
    "df_chart[['SSH_adj']] = df_chart[['SSH']]/100 - df_chart[['SSH']].mean()/100\n",
    "\n",
    "df_chart_3hr = df_chart.shift(periods=3, freq=\"H\")\n"
   ]
  },
  {
   "cell_type": "code",
   "execution_count": null,
   "metadata": {
    "scrolled": true
   },
   "outputs": [],
   "source": [
    "df_chart.plot()"
   ]
  },
  {
   "cell_type": "markdown",
   "metadata": {},
   "source": [
    "### Using Aqqaluk's script"
   ]
  },
  {
   "cell_type": "code",
   "execution_count": null,
   "metadata": {},
   "outputs": [],
   "source": [
    "file_in = '2022_Aasiaat_TideTable'\n",
    "ext = '.txt'\n",
    "\n",
    "filepath = os.path.join(dir_in, file_in + ext)\n",
    "\n",
    "df_dmi = pd.read_csv(filepath, skiprows=17, header=None, delimiter=' ', engine='python')\n",
    "df_dmi"
   ]
  },
  {
   "cell_type": "code",
   "execution_count": null,
   "metadata": {
    "scrolled": true
   },
   "outputs": [],
   "source": [
    "columns = [\"date\",\"time\", \"waterlevel\"]\n",
    "if len(df_dmi.columns) == len(columns):\n",
    "    df_dmi.columns = columns\n",
    "    \n",
    "df_dmi"
   ]
  },
  {
   "cell_type": "code",
   "execution_count": null,
   "metadata": {},
   "outputs": [],
   "source": [
    "df_dmi['Datetime'] = pd.to_datetime(df_dmi['date'].apply(str)+' '+df_dmi['time'])"
   ]
  },
  {
   "cell_type": "code",
   "execution_count": null,
   "metadata": {},
   "outputs": [],
   "source": [
    "dt_dmi = pd.to_datetime(df_dmi['Datetime'])\n",
    "\n",
    "# create datetime index\n",
    "df_dmi.index = pd.DatetimeIndex(dt_dmi)"
   ]
  },
  {
   "cell_type": "code",
   "execution_count": null,
   "metadata": {},
   "outputs": [],
   "source": [
    "df_dmi"
   ]
  },
  {
   "cell_type": "code",
   "execution_count": null,
   "metadata": {},
   "outputs": [],
   "source": [
    "import matplotlib.dates as mdates\n",
    "\n",
    "# Set up\n",
    "fig = plt.figure(figsize=(8,8))\n",
    "ax = fig.add_subplot(111)\n",
    "\n",
    "df_dmi['waterlevel'].plot()\n",
    "rt[['Water Level   (m)']].plot()"
   ]
  },
  {
   "cell_type": "markdown",
   "metadata": {},
   "source": [
    "# compare"
   ]
  },
  {
   "cell_type": "code",
   "execution_count": null,
   "metadata": {},
   "outputs": [],
   "source": [
    "print(starttime, endtime)\n",
    "\n",
    "compare_start = pd.Timestamp('2022-04-01T00:00')\n",
    "compare_end = pd.Timestamp('2022-08-31T00:00')"
   ]
  },
  {
   "cell_type": "code",
   "execution_count": null,
   "metadata": {},
   "outputs": [],
   "source": []
  },
  {
   "cell_type": "code",
   "execution_count": null,
   "metadata": {},
   "outputs": [],
   "source": [
    "rt['Water Level   (m)'].loc[compare_start:compare_end]\n",
    "# df_dmi['waterlevel'].loc[compare_start:compare_end]"
   ]
  },
  {
   "cell_type": "code",
   "execution_count": null,
   "metadata": {},
   "outputs": [],
   "source": [
    "## aqqaluk's script\n",
    "# z_shift = (rt['Water Level   (m)'].loc[compare_start:compare_end].mean() - df_dmi['waterlevel'].loc[compare_start:compare_end].mean())\n",
    "\n",
    "# http\n",
    "z_shift = (rt['Water Level   (m)'].loc[compare_start:compare_end].mean() - df_chart['SSH'].loc[compare_start:compare_end].mean())\n",
    "print(z_shift)\n",
    "rt['waterlevel_shifted'] = (rt['Water Level   (m)'] - z_shift)"
   ]
  },
  {
   "cell_type": "code",
   "execution_count": null,
   "metadata": {},
   "outputs": [],
   "source": []
  },
  {
   "cell_type": "code",
   "execution_count": null,
   "metadata": {},
   "outputs": [],
   "source": [
    "# df = df.set_index(['date'])\n",
    "# print(df.loc['2000-6-1':'2000-6-10'])"
   ]
  },
  {
   "cell_type": "code",
   "execution_count": null,
   "metadata": {},
   "outputs": [],
   "source": []
  },
  {
   "cell_type": "code",
   "execution_count": null,
   "metadata": {},
   "outputs": [],
   "source": [
    "# df_2hr = df.shift(periods=-2, freq=\"H\")\n",
    "rt_minus1hr = rt.shift(periods=-1, freq=\"H\")\n",
    "rt_1hr = rt.shift(periods=1, freq=\"H\")"
   ]
  },
  {
   "cell_type": "code",
   "execution_count": null,
   "metadata": {},
   "outputs": [],
   "source": []
  },
  {
   "cell_type": "markdown",
   "metadata": {},
   "source": [
    "## Plot DMI chart and ONSET data"
   ]
  },
  {
   "cell_type": "markdown",
   "metadata": {},
   "source": [
    "### Overplot 4 days "
   ]
  },
  {
   "cell_type": "code",
   "execution_count": null,
   "metadata": {},
   "outputs": [],
   "source": [
    "plot_start = pd.Timestamp('2022-09-01T00:00')\n",
    "plot_end = pd.Timestamp('2022-09-4T00:00')"
   ]
  },
  {
   "cell_type": "code",
   "execution_count": null,
   "metadata": {
    "scrolled": false
   },
   "outputs": [],
   "source": [
    "import matplotlib.dates as mdates\n",
    "\n",
    "# Set up\n",
    "fig = plt.figure(figsize=(8,6))\n",
    "ax = fig.add_subplot(111)\n",
    "\n",
    "# Plot\n",
    "# ln3 = plt.plot(df_dmi[['waterlevel']], \n",
    "#                linestyle='', \n",
    "#                marker='.', \n",
    "#                color='red', \n",
    "#                label='DMI Chart',\n",
    "#                alpha=0.5,\n",
    "#               )\n",
    "ln1 = plt.plot(rt_minus1hr['waterlevel_shifted'], \n",
    "               linestyle='-', \n",
    "               marker='', \n",
    "               color='black', \n",
    "               label='GreenlandRising',\n",
    "               alpha=1,\n",
    "              )\n",
    "ln2 = plt.plot(df_chart[['SSH_adj']], \n",
    "               linestyle='', \n",
    "               marker='.', \n",
    "               color='red', \n",
    "               label='DMI Chart v2',\n",
    "               alpha=0.5,\n",
    "              )\n",
    "\n",
    "# Customize\n",
    "ax.set_title('Aasiaat, GL water levels')\n",
    "ax.set_ylabel('Water Level (meters)', fontsize=16)\n",
    "\n",
    "# Grids\n",
    "ax.minorticks_on()\n",
    "ax.grid(which='major', linestyle='-', linewidth='0.2', color='red')\n",
    "ax.grid(which='minor', linestyle=':', linewidth='0.2', color='black')\n",
    "\n",
    "# xaxis\n",
    "# plt.xlim(starttime, endtime)\n",
    "plt.xlim(plot_start, plot_end)\n",
    "ax.set_axisbelow(True)\n",
    "ax.xaxis.set_major_formatter(mdates.DateFormatter('%Y-%m-%d, %H GMT'))\n",
    "fig.autofmt_xdate()\n",
    "ax.tick_params(axis='both', labelsize=16)\n",
    "\n",
    "plt.legend()\n",
    "plt.tight_layout()\n",
    "plt.savefig('figs/lineplot_Aasiaat_compareONSET-vs-DMI_Sep5th2022.png',\n",
    "            facecolor='white', \n",
    "            transparent=False,\n",
    "           )"
   ]
  },
  {
   "cell_type": "markdown",
   "metadata": {},
   "source": [
    "### Overplot one month"
   ]
  },
  {
   "cell_type": "code",
   "execution_count": null,
   "metadata": {},
   "outputs": [],
   "source": [
    "plot_start = pd.Timestamp('2022-08-01T00:00')\n",
    "plot_end = pd.Timestamp('2022-08-31T00:00')"
   ]
  },
  {
   "cell_type": "code",
   "execution_count": null,
   "metadata": {
    "scrolled": true
   },
   "outputs": [],
   "source": [
    "import matplotlib.dates as mdates\n",
    "\n",
    "# Set up\n",
    "fig = plt.figure(figsize=(14,6))\n",
    "ax = fig.add_subplot(111)\n",
    "\n",
    "# Plot\n",
    "# ln3 = plt.plot(df_dmi[['waterlevel']], \n",
    "#                linestyle='', \n",
    "#                marker='.', \n",
    "#                color='red', \n",
    "#                label='DMI Chart',\n",
    "#                alpha=0.5,\n",
    "#               )\n",
    "ln1 = plt.plot(rt_minus1hr['waterlevel_shifted'], \n",
    "               linestyle='-', \n",
    "               marker='', \n",
    "               color='black', \n",
    "               label='GreenlandRising',\n",
    "               alpha=1,\n",
    "              )\n",
    "ln2 = plt.plot(df_chart[['SSH_adj']], \n",
    "               linestyle='', \n",
    "               marker='.', \n",
    "               color='red', \n",
    "               label='DMI Chart v2',\n",
    "               alpha=0.5,\n",
    "              )\n",
    "\n",
    "# Customize\n",
    "ax.set_title('Aasiaat, GL water levels')\n",
    "ax.set_ylabel('Water Level (meters)', fontsize=16)\n",
    "\n",
    "# Grids\n",
    "ax.minorticks_on()\n",
    "ax.grid(which='major', linestyle='-', linewidth='0.2', color='red')\n",
    "ax.grid(which='minor', linestyle=':', linewidth='0.2', color='black')\n",
    "\n",
    "# xaxis\n",
    "# plt.xlim(starttime, endtime)\n",
    "plt.xlim(plot_start, plot_end)\n",
    "ax.set_axisbelow(True)\n",
    "ax.xaxis.set_major_formatter(mdates.DateFormatter('%Y-%m-%d, %H GMT'))\n",
    "fig.autofmt_xdate()\n",
    "ax.tick_params(axis='both', labelsize=16)\n",
    "\n",
    "plt.legend()\n",
    "plt.tight_layout()\n",
    "plt.savefig('figs/lineplot_Aasiaat_compareONSET-vs-DMI_Aug2022.png',\n",
    "            facecolor='white', \n",
    "            transparent=False,\n",
    "           )"
   ]
  },
  {
   "cell_type": "markdown",
   "metadata": {},
   "source": [
    "### Overplot whole Time period"
   ]
  },
  {
   "cell_type": "code",
   "execution_count": null,
   "metadata": {},
   "outputs": [],
   "source": [
    "import matplotlib.dates as mdates\n",
    "\n",
    "# Set up\n",
    "fig = plt.figure(figsize=(10,6))\n",
    "ax = fig.add_subplot(111)\n",
    "\n",
    "# Plot\n",
    "# ln3 = plt.plot(df_dmi[['waterlevel']], \n",
    "#                linestyle='', \n",
    "#                marker='.', \n",
    "#                color='red', \n",
    "#                label='DMI Chart',\n",
    "#                alpha=0.5,\n",
    "#               )\n",
    "ln2 = plt.plot(df_chart[['SSH_adj']], \n",
    "               linestyle='', \n",
    "               marker='.', \n",
    "               color='red', \n",
    "               label='DMI Chart v2',\n",
    "               alpha=0.5,\n",
    "              )\n",
    "ln1 = plt.plot(rt_minus1hr['waterlevel_shifted'], \n",
    "               linestyle='', \n",
    "               marker='.', \n",
    "               color='black', \n",
    "               label='GreenlandRising',\n",
    "               alpha=0.5,\n",
    "              )\n",
    "\n",
    "# Customize\n",
    "ax.set_title('Aasiaat, GL water levels')\n",
    "ax.set_ylabel('Water Level (meters)', fontsize=16)\n",
    "\n",
    "# Grids\n",
    "ax.minorticks_on()\n",
    "ax.grid(which='major', linestyle='-', linewidth='0.2', color='red')\n",
    "ax.grid(which='minor', linestyle=':', linewidth='0.2', color='black')\n",
    "\n",
    "# xaxis\n",
    "plt.xlim(starttime, endtime)\n",
    "# plt.xlim(plot_start, plot_end)\n",
    "ax.set_axisbelow(True)\n",
    "ax.xaxis.set_major_formatter(mdates.DateFormatter('%Y-%m-%d'))\n",
    "fig.autofmt_xdate()\n",
    "ax.tick_params(axis='both', labelsize=16)\n",
    "\n",
    "plt.legend()\n",
    "plt.savefig('figs/lineplot_Aasiaat_compareONSET-vs-DMI_2022.png',\n",
    "            facecolor='white', \n",
    "            transparent=False,\n",
    "           )"
   ]
  },
  {
   "cell_type": "code",
   "execution_count": null,
   "metadata": {},
   "outputs": [],
   "source": []
  },
  {
   "cell_type": "markdown",
   "metadata": {},
   "source": [
    "## Read in RBR"
   ]
  },
  {
   "cell_type": "code",
   "execution_count": null,
   "metadata": {
    "scrolled": false
   },
   "outputs": [],
   "source": [
    "# file_in = 'EtEllerAndet_20201018'\n",
    "dir_in = 'data/greenlandrising_tidegauge_data/aasiaat/RBR/20220914_1717/'\n",
    "file_in = '204972_20220914_1717'\n",
    "\n",
    "ext = '.txt'\n",
    "filepath = os.path.join(dir_in, file_in + ext)\n",
    "df_rbr = pd.read_fwf(filepath, skiprows=13, headers=None,)\n",
    "\n",
    "# ext = '.xlsx'\n",
    "# filepath = os.path.join(dir_in, file_in + ext)\n",
    "# df_rbr = pd.read_excel(filepath)\n",
    "\n",
    "df_rbr"
   ]
  },
  {
   "cell_type": "code",
   "execution_count": null,
   "metadata": {},
   "outputs": [],
   "source": [
    "# Cruise\tStation\tType\tyyyy-mm-ddThh:mm:ss.sss\tLongitude [degrees_east]\tLatitude [degrees_north]\tBot. Depth [m]\tDepth [m]\tTemperature [Degrees_C]\tPressure [dbar]\tSea pressure [dbar]\t\n",
    "\n",
    "\n",
    "columns = ['Cruise', 'Station', 'Type', 'Date', 'Time', 'Longitude', 'Latitude', 'BotDepth', 'Depth', 'Temperature', 'Pressure', 'SeaPressure']\n",
    "if len(df_rbr.columns) == len(columns):\n",
    "    df_rbr.columns = columns\n",
    "\n",
    "df_rbr"
   ]
  },
  {
   "cell_type": "code",
   "execution_count": null,
   "metadata": {},
   "outputs": [],
   "source": [
    "df_rbr['Datetime'] = pd.to_datetime(df_rbr['Date'].apply(str)+' '+df_rbr['Time'])"
   ]
  },
  {
   "cell_type": "code",
   "execution_count": null,
   "metadata": {},
   "outputs": [],
   "source": [
    "dt_rbr = pd.to_datetime(df_rbr['Datetime'])\n",
    "\n",
    "# create datetime index\n",
    "df_rbr.index = pd.DatetimeIndex(dt_rbr)"
   ]
  },
  {
   "cell_type": "code",
   "execution_count": null,
   "metadata": {},
   "outputs": [],
   "source": [
    "fig = plt.figure(figsize=(10,6))\n",
    "ax = fig.add_subplot(111)\n",
    "df_rbr[['Depth', 'Temperature', 'Pressure', 'SeaPressure']].plot(subplots=True, ax=ax)"
   ]
  },
  {
   "cell_type": "markdown",
   "metadata": {},
   "source": [
    "### shift"
   ]
  },
  {
   "cell_type": "code",
   "execution_count": null,
   "metadata": {},
   "outputs": [],
   "source": [
    "z_shift_rbr = (df_rbr['Depth'].loc[compare_start:compare_end].mean() - df_chart['SSH'].loc[compare_start:compare_end].mean())\n",
    "print(z_shift)\n",
    "df_rbr['Depth_shifted'] = (df_rbr['Depth'] - z_shift)"
   ]
  },
  {
   "cell_type": "code",
   "execution_count": null,
   "metadata": {},
   "outputs": [],
   "source": [
    "df_rbr_2hr = df_rbr.shift(periods=-3, freq=\"H\")"
   ]
  },
  {
   "cell_type": "code",
   "execution_count": null,
   "metadata": {},
   "outputs": [],
   "source": [
    "plot_start = pd.Timestamp('2022-08-24T00:00')\n",
    "plot_end = pd.Timestamp('2022-08-27T00:00')\n",
    "\n",
    "# plot_start = pd.Timestamp('2022-08-01T00:00')\n",
    "# plot_end = pd.Timestamp('2022-08-31T00:00')"
   ]
  },
  {
   "cell_type": "code",
   "execution_count": null,
   "metadata": {
    "scrolled": false
   },
   "outputs": [],
   "source": [
    "import matplotlib.dates as mdates\n",
    "\n",
    "# Set up\n",
    "fig = plt.figure(figsize=(8,6))\n",
    "ax = fig.add_subplot(111)\n",
    "\n",
    "# Plot\n",
    "ln1 = plt.plot(rt_minus1hr['waterlevel_shifted'], \n",
    "               linestyle='-', \n",
    "               marker='', \n",
    "               color='black', \n",
    "               label='GreenlandRising',\n",
    "               alpha=1,\n",
    "              )\n",
    "ln2 = plt.plot(df_chart[['SSH_adj']], \n",
    "               linestyle='', \n",
    "               marker='.', \n",
    "               color='red', \n",
    "               label='DMI Chart v2',\n",
    "               alpha=0.5,\n",
    "              )\n",
    "ln3 = plt.plot(df_rbr_2hr[['Depth_shifted']], \n",
    "               linestyle='', \n",
    "               marker='.', \n",
    "               color='blue', \n",
    "               label='RBR',\n",
    "               alpha=0.5,\n",
    "              )\n",
    "\n",
    "# Customize\n",
    "ax.set_title('Aasiaat, GL water levels')\n",
    "ax.set_ylabel('Water Level (meters)', fontsize=16)\n",
    "\n",
    "# Grids\n",
    "ax.minorticks_on()\n",
    "ax.grid(which='major', linestyle='-', linewidth='0.2', color='red')\n",
    "ax.grid(which='minor', linestyle=':', linewidth='0.2', color='black')\n",
    "\n",
    "# xaxis\n",
    "# plt.xlim(starttime, endtime)\n",
    "plt.xlim(plot_start, plot_end)\n",
    "ax.set_axisbelow(True)\n",
    "ax.xaxis.set_major_formatter(mdates.DateFormatter('%Y-%m-%d, %H GMT'))\n",
    "fig.autofmt_xdate()\n",
    "ax.tick_params(axis='both', labelsize=16)\n",
    "\n",
    "plt.legend()\n",
    "plt.tight_layout()\n",
    "# plt.savefig('figs/lineplot_Aasiaat_compareONSET-vs-DMI_Sep5th2022.png',\n",
    "#             facecolor='white', \n",
    "#             transparent=False,\n",
    "#            )"
   ]
  },
  {
   "cell_type": "code",
   "execution_count": null,
   "metadata": {},
   "outputs": [],
   "source": []
  },
  {
   "cell_type": "code",
   "execution_count": null,
   "metadata": {},
   "outputs": [],
   "source": []
  },
  {
   "cell_type": "code",
   "execution_count": null,
   "metadata": {},
   "outputs": [],
   "source": []
  },
  {
   "cell_type": "markdown",
   "metadata": {},
   "source": [
    "## Comine them!"
   ]
  },
  {
   "cell_type": "code",
   "execution_count": 37,
   "metadata": {
    "scrolled": true
   },
   "outputs": [
    {
     "name": "stdout",
     "output_type": "stream",
     "text": [
      "                     prs_shifted  WaterLevel_shifted_m   SSH_adj\n",
      "2020-10-14 00:00:45          NaN             -0.792281       NaN\n",
      "2020-10-14 00:01:45          NaN             -0.811178       NaN\n",
      "2020-10-14 00:02:45          NaN             -0.822151       NaN\n",
      "2020-10-14 00:03:00    -0.716476                   NaN       NaN\n",
      "2020-10-14 00:03:45          NaN             -0.833124       NaN\n",
      "...                          ...                   ...       ...\n",
      "2020-10-19 11:39:00          NaN                   NaN  2.469936\n",
      "2020-10-19 11:43:00     2.385524                   NaN       NaN\n",
      "2020-10-19 11:48:00     2.368524                   NaN       NaN\n",
      "2020-10-19 11:53:00     2.359524                   NaN       NaN\n",
      "2020-10-19 11:58:00     2.344524                   NaN       NaN\n",
      "\n",
      "[8209 rows x 3 columns]\n"
     ]
    }
   ],
   "source": [
    "df_combined = []\n",
    "\n",
    "# df_combined = pd.concat([df_monthly['SSH_adj'],\n",
    "#                          df_CCAR['SSH_adj'].loc[df_monthly.index[-1]:df_CCAR.index[-1]],\n",
    "#                          df['SSH_adj'].loc[df_CCAR.index[-1]:df.index[-1]]],\n",
    "#                          keys=['monthly', 'ccar', 'psmsl'])\n",
    "# df_combined = pd.concat([df_monthly,\n",
    "#                          df_CCAR.loc[df_monthly.index[-1]:df_CCAR.index[-1]],\n",
    "#                          df.loc[df_CCAR.index[-1]:df.index[-1]]])\n",
    "df_combined = pd.concat([df[['prs_shifted']],\n",
    "                         rt_2hr['WaterLevel_shifted_m'],\n",
    "                        df_chart_3hr['SSH_adj']],\n",
    "                       axis=1)\n",
    "\n",
    "# dt = pd.to_datetime(df_combined['Year'])\n",
    "# df_combined.index = pd.DatetimeIndex(dt)\n",
    "# df = df.drop('Date', axis=1)\n",
    "\n",
    "print(df_combined.loc['2020-10-14T00:00':'2020-10-19T12:00'])\n",
    "\n",
    "# rt_2hr['WaterLevel_shifted_m'].plot()\n",
    "# df['prs_shifted'].plot()\n",
    "\n",
    "# df_combined['SSH_adj'].plot(color='black')\n",
    "# df_combined['SSH_adj'].resample('M').mean().plot(color='red')\n",
    "\n"
   ]
  },
  {
   "cell_type": "code",
   "execution_count": 38,
   "metadata": {},
   "outputs": [
    {
     "name": "stdout",
     "output_type": "stream",
     "text": [
      "                     prs_shifted  WaterLevel_shifted_m   SSH_adj\n",
      "2020-10-14 00:00:00    -0.966059             -1.081850       NaN\n",
      "2020-10-14 01:00:00    -1.330976             -1.482433 -1.490064\n",
      "2020-10-14 02:00:00    -1.353393             -1.513497       NaN\n",
      "2020-10-14 03:00:00    -1.044893             -1.190603       NaN\n",
      "2020-10-14 04:00:00    -0.469226             -0.590240       NaN\n",
      "2020-10-14 05:00:00     0.219107              0.131108       NaN\n",
      "2020-10-14 06:00:00     0.828857              0.786640       NaN\n",
      "2020-10-14 07:00:00     1.221607              1.222442  1.419936\n",
      "2020-10-14 08:00:00     1.280441              1.297819       NaN\n",
      "2020-10-14 09:00:00     0.990607              0.990749       NaN\n",
      "2020-10-14 10:00:00     0.392978              0.399616       NaN\n",
      "2020-10-14 11:00:00    -0.288393             -0.345242       NaN\n",
      "2020-10-14 12:00:00    -0.951893             -1.065417       NaN\n",
      "2020-10-14 13:00:00    -1.407559             -1.564053       NaN\n",
      "2020-10-14 14:00:00    -1.513309             -1.691982 -1.560064\n",
      "2020-10-14 15:00:00    -1.232476             -1.413071       NaN\n",
      "2020-10-14 16:00:00    -0.627643             -0.775288       NaN\n",
      "2020-10-14 17:00:00     0.162774              0.048934       NaN\n",
      "2020-10-14 18:00:00     0.916024              0.851308       NaN\n",
      "2020-10-14 19:00:00     1.452191              1.448949       NaN\n",
      "2020-10-14 20:00:00     1.638607              1.670726  1.799936\n",
      "2020-10-14 21:00:00     1.401524              1.428659       NaN\n",
      "2020-10-14 22:00:00     0.805274              0.810237       NaN\n",
      "2020-10-14 23:00:00    -0.024476             -0.050826       NaN\n",
      "2020-10-15 00:00:00    -0.887393             -0.968130       NaN\n",
      "2020-10-15 01:00:00    -1.569976             -1.707466       NaN\n",
      "2020-10-15 02:00:00    -1.891559             -2.009131 -1.860064\n",
      "2020-10-15 03:00:00    -1.761643             -1.946373       NaN\n",
      "2020-10-15 04:00:00    -1.234393             -1.422204       NaN\n",
      "2020-10-15 05:00:00    -0.434643             -0.573877       NaN\n",
      "2020-10-15 06:00:00     0.459524              0.357554       NaN\n",
      "2020-10-15 07:00:00     1.191191              1.155036       NaN\n",
      "2020-10-15 08:00:00     1.587357              1.619143  1.829936\n",
      "2020-10-15 09:00:00     1.561857              1.599474       NaN\n",
      "2020-10-15 10:00:00     1.086441              1.105287       NaN\n",
      "2020-10-15 11:00:00     0.309191              0.298159       NaN\n"
     ]
    }
   ],
   "source": [
    "print(df_combined.loc['2020-10-14T00:00':'2020-10-19T12:00'].resample('H').mean().head(36))\n",
    "\n",
    "# OR resample using Max/Min (or absmax and absmin) to demonstrate impact sample rate, or data delivery rate\n",
    "\n"
   ]
  },
  {
   "cell_type": "code",
   "execution_count": 46,
   "metadata": {
    "scrolled": false
   },
   "outputs": [
    {
     "data": {
      "text/html": [
       "<div>\n",
       "<style scoped>\n",
       "    .dataframe tbody tr th:only-of-type {\n",
       "        vertical-align: middle;\n",
       "    }\n",
       "\n",
       "    .dataframe tbody tr th {\n",
       "        vertical-align: top;\n",
       "    }\n",
       "\n",
       "    .dataframe thead th {\n",
       "        text-align: right;\n",
       "    }\n",
       "</style>\n",
       "<table border=\"1\" class=\"dataframe\">\n",
       "  <thead>\n",
       "    <tr style=\"text-align: right;\">\n",
       "      <th></th>\n",
       "      <th>prs_shifted</th>\n",
       "      <th>WaterLevel_shifted_m</th>\n",
       "      <th>SSH_adj</th>\n",
       "    </tr>\n",
       "  </thead>\n",
       "  <tbody>\n",
       "    <tr>\n",
       "      <th>2020-10-14 00:00:00</th>\n",
       "      <td>-0.966059</td>\n",
       "      <td>-1.081850</td>\n",
       "      <td>NaN</td>\n",
       "    </tr>\n",
       "    <tr>\n",
       "      <th>2020-10-14 01:00:00</th>\n",
       "      <td>-1.330976</td>\n",
       "      <td>-1.482433</td>\n",
       "      <td>-1.490064</td>\n",
       "    </tr>\n",
       "    <tr>\n",
       "      <th>2020-10-14 02:00:00</th>\n",
       "      <td>-1.353393</td>\n",
       "      <td>-1.513497</td>\n",
       "      <td>NaN</td>\n",
       "    </tr>\n",
       "    <tr>\n",
       "      <th>2020-10-14 03:00:00</th>\n",
       "      <td>-1.044893</td>\n",
       "      <td>-1.190603</td>\n",
       "      <td>NaN</td>\n",
       "    </tr>\n",
       "    <tr>\n",
       "      <th>2020-10-14 04:00:00</th>\n",
       "      <td>-0.469226</td>\n",
       "      <td>-0.590240</td>\n",
       "      <td>NaN</td>\n",
       "    </tr>\n",
       "    <tr>\n",
       "      <th>...</th>\n",
       "      <td>...</td>\n",
       "      <td>...</td>\n",
       "      <td>...</td>\n",
       "    </tr>\n",
       "    <tr>\n",
       "      <th>2020-10-19 07:00:00</th>\n",
       "      <td>-1.229559</td>\n",
       "      <td>NaN</td>\n",
       "      <td>NaN</td>\n",
       "    </tr>\n",
       "    <tr>\n",
       "      <th>2020-10-19 08:00:00</th>\n",
       "      <td>-0.067309</td>\n",
       "      <td>NaN</td>\n",
       "      <td>NaN</td>\n",
       "    </tr>\n",
       "    <tr>\n",
       "      <th>2020-10-19 09:00:00</th>\n",
       "      <td>1.102857</td>\n",
       "      <td>NaN</td>\n",
       "      <td>NaN</td>\n",
       "    </tr>\n",
       "    <tr>\n",
       "      <th>2020-10-19 10:00:00</th>\n",
       "      <td>1.977607</td>\n",
       "      <td>NaN</td>\n",
       "      <td>NaN</td>\n",
       "    </tr>\n",
       "    <tr>\n",
       "      <th>2020-10-19 11:00:00</th>\n",
       "      <td>2.345024</td>\n",
       "      <td>NaN</td>\n",
       "      <td>2.469936</td>\n",
       "    </tr>\n",
       "  </tbody>\n",
       "</table>\n",
       "<p>132 rows × 3 columns</p>\n",
       "</div>"
      ],
      "text/plain": [
       "                     prs_shifted  WaterLevel_shifted_m   SSH_adj\n",
       "2020-10-14 00:00:00    -0.966059             -1.081850       NaN\n",
       "2020-10-14 01:00:00    -1.330976             -1.482433 -1.490064\n",
       "2020-10-14 02:00:00    -1.353393             -1.513497       NaN\n",
       "2020-10-14 03:00:00    -1.044893             -1.190603       NaN\n",
       "2020-10-14 04:00:00    -0.469226             -0.590240       NaN\n",
       "...                          ...                   ...       ...\n",
       "2020-10-19 07:00:00    -1.229559                   NaN       NaN\n",
       "2020-10-19 08:00:00    -0.067309                   NaN       NaN\n",
       "2020-10-19 09:00:00     1.102857                   NaN       NaN\n",
       "2020-10-19 10:00:00     1.977607                   NaN       NaN\n",
       "2020-10-19 11:00:00     2.345024                   NaN  2.469936\n",
       "\n",
       "[132 rows x 3 columns]"
      ]
     },
     "execution_count": 46,
     "metadata": {},
     "output_type": "execute_result"
    }
   ],
   "source": [
    "df_combined_hourly = df_combined.loc['2020-10-14T00:00':'2020-10-19T12:00'].resample('H').mean()\n",
    "df_combined_hourly"
   ]
  },
  {
   "cell_type": "markdown",
   "metadata": {},
   "source": [
    "## Write out to CSV"
   ]
  },
  {
   "cell_type": "code",
   "execution_count": 42,
   "metadata": {},
   "outputs": [],
   "source": [
    "# rename columns OR JUST CHANGE NAME IN CSV\n",
    "# df = df.rename(columns={'Year': 'YearDec'})\n",
    "\n",
    "# Make a human readable datetimecolumn\n",
    "# datetime_human = df_combined_hourly.index.strftime(\"%Y-%m-%d %H:%M\")\n",
    "\n",
    "columns = ['DATETIME', 'ONSET', 'DMI_gauge', 'DMI_chart']\n",
    "out_array = np.array([df_combined_hourly.index.strftime(\"%Y-%m-%d %H:%M\"),\n",
    "                      df_combined_hourly['WaterLevel_shifted_m'],\n",
    "                      df_combined_hourly['prs_shifted'],\n",
    "                      df_combined_hourly['SSH_adj']])\n",
    "\n",
    "df_out = pd.DataFrame(data=out_array.T, columns=columns) #, index=time)\n",
    "df_out = df_out.apply(pd.to_numeric, errors='ignore')\n",
    "# df_out.index = pd.to_datetime(trajectory.index)\n",
    "df_out.to_csv('data/combined_tidegauges_temp.csv')  # , na_rep=\" \")"
   ]
  },
  {
   "cell_type": "markdown",
   "metadata": {},
   "source": [
    "## Repeat, but keep the Onset data UNshifted"
   ]
  },
  {
   "cell_type": "code",
   "execution_count": 33,
   "metadata": {},
   "outputs": [],
   "source": [
    "# df_combined = []\n",
    "# df_combined = pd.concat([df[['prs_shifted']],\n",
    "#                          rt['WaterLevel_shifted_m'],\n",
    "#                         df_chart_3hr['SSH_adj']],\n",
    "#                        axis=1)\n",
    "\n",
    "# starttime = pd.Timestamp('2020-10-17T00:00')\n",
    "# endtime = pd.Timestamp('2020-10-18T00:00')"
   ]
  },
  {
   "cell_type": "code",
   "execution_count": 40,
   "metadata": {},
   "outputs": [],
   "source": [
    "# df_combined_hourly = []\n",
    "# df_combined_hourly = df_combined.loc['2020-10-15T00:00':'2020-10-18T00:00'].resample('30Min').mean()"
   ]
  },
  {
   "cell_type": "code",
   "execution_count": 44,
   "metadata": {},
   "outputs": [],
   "source": [
    "# # rename columns OR JUST CHANGE NAME IN CSV\n",
    "# # df = df.rename(columns={'Year': 'YearDec'})\n",
    "\n",
    "# # Make a human readable datetimecolumn\n",
    "# # datetime_human = df_combined_hourly.index.strftime(\"%Y-%m-%d %H:%M\")\n",
    "\n",
    "# columns = ['DATETIME', 'ONSET', 'DMI_gauge', 'DMI_chart']\n",
    "# out_array = np.array([df_combined_hourly.index.strftime(\"%Y-%m-%d %H:%M\"),\n",
    "#                       df_combined_hourly['WaterLevel_shifted_m'],\n",
    "#                       df_combined_hourly['prs_shifted'],\n",
    "#                       df_combined_hourly['SSH_adj']])\n",
    "\n",
    "# df_out = pd.DataFrame(data=out_array.T, columns=columns) #, index=time)\n",
    "# df_out = df_out.apply(pd.to_numeric, errors='ignore')\n",
    "# # df.index = pd.to_datetime(trajectory.index)\n",
    "# df_out.to_csv('data/combined_Nuuk_tidegauges+DMIchart_20201015_noshift.csv')  # , na_rep=\" \")"
   ]
  },
  {
   "cell_type": "code",
   "execution_count": null,
   "metadata": {},
   "outputs": [],
   "source": []
  }
 ],
 "metadata": {
  "kernelspec": {
   "display_name": "Python 3",
   "language": "python",
   "name": "python3"
  },
  "language_info": {
   "codemirror_mode": {
    "name": "ipython",
    "version": 3
   },
   "file_extension": ".py",
   "mimetype": "text/x-python",
   "name": "python",
   "nbconvert_exporter": "python",
   "pygments_lexer": "ipython3",
   "version": "3.8.3"
  }
 },
 "nbformat": 4,
 "nbformat_minor": 4
}
