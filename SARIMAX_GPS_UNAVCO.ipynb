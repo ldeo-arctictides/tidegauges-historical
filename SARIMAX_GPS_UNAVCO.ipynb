{
 "cells": [
  {
   "cell_type": "code",
   "execution_count": null,
   "metadata": {},
   "outputs": [],
   "source": [
    "import os\n",
    "import numpy as np\n",
    "import pandas as pd\n",
    "import matplotlib.pyplot as plt\n",
    "import statsmodels.api as sm\n",
    "import glob\n",
    "from statsmodels.tsa.arima_model import ARIMA\n",
    "from tidegauge_functions import read_GPS_SONEL, read_GPS_nam14_UNAVCO, calc_rolling_decomposition_GPS\n",
    "from statsmodels.tsa.seasonal import seasonal_decompose\n",
    "%matplotlib inline"
   ]
  },
  {
   "cell_type": "code",
   "execution_count": null,
   "metadata": {},
   "outputs": [],
   "source": [
    "# Establish Components of file patern for UNAVCO Data\n",
    "datum = '????'\n",
    "ext = '.csv'\n",
    "meth = '.cwu.nam14'\n",
    "dir_in = 'data/GPS'"
   ]
  },
  {
   "cell_type": "code",
   "execution_count": null,
   "metadata": {},
   "outputs": [],
   "source": [
    "# Join File pattern components\n",
    "pattern = os.path.join(dir_in, datum + meth + ext)\n",
    "print(pattern)"
   ]
  },
  {
   "cell_type": "code",
   "execution_count": null,
   "metadata": {},
   "outputs": [],
   "source": [
    "# Sort files using glob\n",
    "filenames = sorted(glob.glob(pattern))"
   ]
  },
  {
   "cell_type": "code",
   "execution_count": null,
   "metadata": {},
   "outputs": [],
   "source": [
    "# Finding best p,q\n",
    "def order_select(df, var, site)\n",
    "    res = sm.tsa.arma_order_select_ic(df[var], ic=['aic', 'bic'], trend='nc')\n",
    "    print(f\"{site}\")\n",
    "    print(res.aic_min_order)\n",
    "\n",
    "#result of this SLOW function is \"(4, 1)\""
   ]
  },
  {
   "cell_type": "code",
   "execution_count": null,
   "metadata": {},
   "outputs": [],
   "source": [
    "# Resample data to monthly\n",
    "def monthly_averaging(df, site):\n",
    "    \n",
    "    df_monthly = df.dropna().resample('1M').mean()\n",
    "    df_monthly.plot()\n",
    "    plt.suptitle(f\"{site} Monthly GPS Data\")\n",
    "    plt.show()\n",
    "    \n",
    "    return df_monthly"
   ]
  },
  {
   "cell_type": "code",
   "execution_count": null,
   "metadata": {},
   "outputs": [],
   "source": [
    "def test_SARIMAX_GPS_Monthly(df, var, site, steps, start, end, frequency):\n",
    "    #Create SARIMAX Model\n",
    "    mod = sm.tsa.statespace.SARIMAX(df_monthly[var].loc[df.index[0]: start].interpolate(), \n",
    "                                                        trend='n',\n",
    "                                                        order=(4,1,1),\n",
    "                                                        seasonal_order=(4,1,1,12),\n",
    "                                                        enforce_stationarity=False,\n",
    "                                                        enforce_invertibility=False,\n",
    "                                                        freq= frequency)\n",
    "    results_SARIMAX = mod.fit()\n",
    "    \n",
    "    # Getting 120 months\n",
    "    SARIMAX_forecast = round(results_SARIMAX.forecast(steps), 2)\n",
    "   \n",
    "    # Creating an index\n",
    "    idx = pd.date_range(start, end, freq=frequency)\n",
    " \n",
    "    SARIMAX_forecast = pd.DataFrame(list(zip(list(idx),list(SARIMAX_forecast))),\n",
    "                                    columns=['Date','ForecastSSH']).set_index('Date')\n",
    "    print(f'{site}')\n",
    "    print(results_SARIMAX.summary())\n",
    " \n",
    "    plt.plot(df[var].dropna(), color='black', marker=',', linestyle='', label='Data')\n",
    "    plt.plot(results_SARIMAX.fittedvalues, color='red', label='SARIMAX model') \n",
    "    plt.plot(SARIMAX_forecast.ForecastSSH, color='blue', label='Forecast') \n",
    "    plt.suptitle(f'{site} SARIMAX GPS Forecast {start} to {end}')\n",
    "    plt.ylabel('Vertical Land Motion [mm]')\n",
    "    plt.legend()\n",
    "    plt.savefig(f'figs/test_GPS_SARIMAX_forecast_{site}.png')\n",
    "    plt.show()\n",
    "    \n",
    "    ## Plot forecast - data (residual?)\n",
    "    plt.plot((SARIMAX_forecast.ForecastSSH) - df_monthly[var].dropna(), \n",
    "             color='black', marker='x', linestyle='-', label='Data')\n",
    "    plt.suptitle(f'{site} SARIMAX  Forecast ERROR')\n",
    "    plt.ylabel('Model Error (SARIMAX-GPS) [mm]')\n",
    "    plt.savefig(f'figs/test_GPS_SARIMAX_forecast_ERROR_{site}.png')\n",
    "    plt.show()\n"
   ]
  },
  {
   "cell_type": "code",
   "execution_count": null,
   "metadata": {},
   "outputs": [],
   "source": [
    "for f, filepath in enumerate(filenames):\n",
    "    df = read_GPS_nam14_UNAVCO(filepath)\n",
    "    df_monthly = monthly_averaging(df, filepath[-18:-14])\n",
    "    order_select(df_monthly, 'Vertical', filepath[-18:-14])"
   ]
  },
  {
   "cell_type": "code",
   "execution_count": null,
   "metadata": {},
   "outputs": [],
   "source": [
    "for f, filepath in enumerate(filenames):\n",
    "    df = read_GPS_nam14_UNAVCO(filepath)\n",
    "    df_monthly = monthly_averaging(df, filepath[-18:-14])\n",
    "    test_SARIMAX_GPS_Monthly(df_monthly, 'Vertical', filepath[-18:-14], 134, '2018-1-1', '2030-1-1', 'M')"
   ]
  }
 ],
 "metadata": {
  "kernelspec": {
   "display_name": "Python 3",
   "language": "python",
   "name": "python3"
  },
  "language_info": {
   "codemirror_mode": {
    "name": "ipython",
    "version": 3
   },
   "file_extension": ".py",
   "mimetype": "text/x-python",
   "name": "python",
   "nbconvert_exporter": "python",
   "pygments_lexer": "ipython3",
   "version": "3.7.6"
  }
 },
 "nbformat": 4,
 "nbformat_minor": 4
}
