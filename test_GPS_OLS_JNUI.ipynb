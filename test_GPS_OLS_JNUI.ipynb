{
 "cells": [
  {
   "cell_type": "code",
   "execution_count": 1,
   "metadata": {},
   "outputs": [],
   "source": [
    "import datetime as dt\n",
    "import os\n",
    "import numpy as np\n",
    "import pandas as pd\n",
    "import matplotlib.pyplot as plt\n",
    "import statsmodels.api as sm\n",
    "import glob\n",
    "from tidegauge_functions import read_GPS_SONEL\n",
    "\n",
    "%matplotlib inline"
   ]
  },
  {
   "cell_type": "code",
   "execution_count": 2,
   "metadata": {},
   "outputs": [],
   "source": [
    "datum = 'dJNU1_49519S001_NGL14.neu'\n",
    "dir_in = 'data/GPS'"
   ]
  },
  {
   "cell_type": "code",
   "execution_count": 3,
   "metadata": {},
   "outputs": [
    {
     "name": "stdout",
     "output_type": "stream",
     "text": [
      "data/GPS\\dJNU1_49519S001_NGL14.neu\n"
     ]
    }
   ],
   "source": [
    "pattern = os.path.join(dir_in, datum)\n",
    "print(pattern)"
   ]
  },
  {
   "cell_type": "code",
   "execution_count": 4,
   "metadata": {},
   "outputs": [],
   "source": [
    "filenames = sorted(glob.glob(pattern))  # , key=alphanum_key)"
   ]
  },
  {
   "cell_type": "code",
   "execution_count": 5,
   "metadata": {},
   "outputs": [
    {
     "name": "stdout",
     "output_type": "stream",
     "text": [
      "\n",
      "\n",
      "data/GPS\\dJNU1_49519S001_NGL14.neu\n",
      "            North   East  Vertical  NorthSTD  EastSTD  VerticalSTD\n",
      "Year                                                              \n",
      "2003-01-27  124.8  112.0    -168.5       3.4      2.5          4.6\n",
      "2003-01-28  127.2  112.2    -164.3       2.7      2.0          3.6\n",
      "2003-01-29  127.0  105.3    -162.1       2.8      2.1          3.6\n",
      "2003-01-30  125.8  109.2    -164.5       3.3      2.5          4.3\n",
      "2003-02-01  127.7  110.0    -162.6       2.7      2.0          3.6\n"
     ]
    }
   ],
   "source": [
    "for f, filepath in enumerate(filenames):\n",
    "    df = read_GPS_SONEL(filepath)\n",
    "    print(f'\\n\\n{filepath}')\n",
    "    print(df.head())"
   ]
  },
  {
   "cell_type": "code",
   "execution_count": null,
   "metadata": {},
   "outputs": [],
   "source": []
  },
  {
   "cell_type": "code",
   "execution_count": null,
   "metadata": {},
   "outputs": [],
   "source": [
    "from statsmodels.tsa.seasonal import seasonal_decompose\n",
    "def decompose(df, var, site, period):  \n",
    "    \n",
    "    decomposition = seasonal_decompose(df[var], freq = period)\n",
    "\n",
    "    trend = decomposition.trend\n",
    "    seasonal = decomposition.seasonal\n",
    "    residual = decomposition.resid\n",
    "    Amplitude = max(seasonal) - min(seasonal)\n",
    "    \n",
    "    decomposition.plot();\n",
    "    df['denoised'] = df[var] - residual\n",
    "    df['trend'] = trend\n",
    "    print(f'\\n\\n{filepath}')\n",
    "    print(df.head())\n",
    "    print(f'{site} Seasonal Amplitude =', Amplitude)\n",
    "    seasonal_amp = pd.DataFrame(list(zip(list({site}), list(Amplitude))),\n",
    "                            colums = ['Site_Name', 'Seasonal_Amplitude'])\n",
    "    seasonal_amp.to_csv('GPS_Seasonal_Amplitude_SONEL')"
   ]
  },
  {
   "cell_type": "code",
   "execution_count": null,
   "metadata": {},
   "outputs": [],
   "source": []
  },
  {
   "cell_type": "markdown",
   "metadata": {},
   "source": [
    "# Change Point Detection\n",
    "def change_pt_detection(df, var, points):\n",
    "    model = \"l1\"  \n",
    "    algo = rpt.Dynp(model=model, min_size=3, jump=5).fit(points)\n",
    "    my_bkps = algo.predict(n_bkps=10)\n",
    "\n",
    "    \n",
    "def change_pt_plot()\n",
    "    rpt.show.display(points, my_bkps, figsize=(10, 6))\n",
    "    plt.suptitle(f\"{site}Change Point Detection\")\n",
    "    plt.show()"
   ]
  },
  {
   "cell_type": "code",
   "execution_count": 20,
   "metadata": {},
   "outputs": [],
   "source": [
    "def test_calc_OLS(df, var):\n",
    "    \n",
    "    x, y = np.arange(len(df[var].dropna())), df[var].dropna()\n",
    "    x = sm.add_constant(x)\n",
    "    model = sm.OLS(y, x)\n",
    "    res = model.fit()\n",
    "    return res\n",
    "\n",
    "def test_plot_OLS(df, res, site, var, trend_array):\n",
    "    fig, ax = plt.subplots(1, 1, figsize=(12,6));\n",
    "    ax.plot(df[var].dropna().index, df[var].dropna().values, \n",
    "            label='trend', marker='.', linestyle='', color = 'darkgrey')\n",
    "    ax.plot(df[var].dropna().index, [res.params.x1*i + res.params.const for i in np.arange(len(df[var].dropna()))],\n",
    "           color = 'red')\n",
    "    # ax[1].plot(df['Vertical'].dropna().index, res.resid.values);\n",
    "    # ax[1].plot(df['Vertical'].dropna().index, np.abs(res.resid.values));\n",
    "    # ax[1].hlines(0, 0, len(res.resid), color='k');\n",
    "    ax.set_title(f\"Trend = {trend_array * 1:.2f} mm/yr\", fontsize=20);\n",
    "    # ax[1].set_title(\"Residuals\");\n",
    "    plt.suptitle(\"Juneau, Alaska, USA\", fontsize=25)\n",
    "    plt.xlabel('Date', fontsize=20)\n",
    "    plt.ylabel('Vertical Land Motion (mm)', fontsize=20)\n",
    "    plt.rc('xtick',labelsize=16)\n",
    "    plt.rc('ytick',labelsize=16)\n",
    "    plt.savefig(f'figs/test_GPS_OLS_Aesthetic_{site}.png')"
   ]
  },
  {
   "cell_type": "code",
   "execution_count": 11,
   "metadata": {
    "scrolled": true
   },
   "outputs": [
    {
     "name": "stdout",
     "output_type": "stream",
     "text": [
      "\n",
      "\n",
      "data/GPS\\dJNU1_49519S001_NGL14.neu\n",
      "f: 0\n"
     ]
    },
    {
     "ename": "NameError",
     "evalue": "name 'decompose' is not defined",
     "output_type": "error",
     "traceback": [
      "\u001b[1;31m---------------------------------------------------------------------------\u001b[0m",
      "\u001b[1;31mNameError\u001b[0m                                 Traceback (most recent call last)",
      "\u001b[1;32m<ipython-input-11-bca02081ac91>\u001b[0m in \u001b[0;36m<module>\u001b[1;34m\u001b[0m\n\u001b[0;32m      3\u001b[0m     \u001b[0mprint\u001b[0m\u001b[1;33m(\u001b[0m\u001b[1;34mf'f: {f}'\u001b[0m\u001b[1;33m)\u001b[0m\u001b[1;33m\u001b[0m\u001b[1;33m\u001b[0m\u001b[0m\n\u001b[0;32m      4\u001b[0m     \u001b[0mdf\u001b[0m \u001b[1;33m=\u001b[0m \u001b[0mread_GPS_SONEL\u001b[0m\u001b[1;33m(\u001b[0m\u001b[0mfilepath\u001b[0m\u001b[1;33m)\u001b[0m\u001b[1;33m\u001b[0m\u001b[1;33m\u001b[0m\u001b[0m\n\u001b[1;32m----> 5\u001b[1;33m     \u001b[0mdf\u001b[0m \u001b[1;33m=\u001b[0m \u001b[0mdecompose\u001b[0m\u001b[1;33m(\u001b[0m\u001b[0mdf\u001b[0m\u001b[1;33m,\u001b[0m \u001b[1;34m'Vertical'\u001b[0m\u001b[1;33m,\u001b[0m \u001b[0mfilepath\u001b[0m\u001b[1;33m[\u001b[0m\u001b[1;33m-\u001b[0m\u001b[1;36m24\u001b[0m\u001b[1;33m:\u001b[0m\u001b[1;33m-\u001b[0m\u001b[1;36m20\u001b[0m\u001b[1;33m]\u001b[0m\u001b[1;33m,\u001b[0m \u001b[1;36m365\u001b[0m\u001b[1;33m)\u001b[0m\u001b[1;33m\u001b[0m\u001b[1;33m\u001b[0m\u001b[0m\n\u001b[0m\u001b[0;32m      6\u001b[0m \u001b[1;33m\u001b[0m\u001b[0m\n",
      "\u001b[1;31mNameError\u001b[0m: name 'decompose' is not defined"
     ]
    }
   ],
   "source": [
    "for f, filepath in enumerate(filenames):\n",
    "    print(f'\\n\\n{filepath}')\n",
    "    print(f'f: {f}')\n",
    "    df = read_GPS_SONEL(filepath)\n",
    "    df = decompose(df, 'Vertical', filepath[-24:-20], 365)\n",
    "    "
   ]
  },
  {
   "cell_type": "code",
   "execution_count": 12,
   "metadata": {},
   "outputs": [],
   "source": [
    "def convert_trend_toyearly(df, res):\n",
    "    \n",
    "    period = df.index.year.value_counts().max()\n",
    "    yearlytrend = res.params.x1 * period\n",
    "    \n",
    "    return yearlytrend"
   ]
  },
  {
   "cell_type": "code",
   "execution_count": null,
   "metadata": {},
   "outputs": [],
   "source": [
    "df = read_GPS_nam14_UNAVCO(filepath)\n",
    "df.plot()"
   ]
  },
  {
   "cell_type": "code",
   "execution_count": 21,
   "metadata": {},
   "outputs": [
    {
     "name": "stdout",
     "output_type": "stream",
     "text": [
      "\n",
      "\n",
      "data/GPS\\dJNU1_49519S001_NGL14.neu\n",
      "f: 0\n",
      "Trend = 17.14 mm/yr\n",
      "                            OLS Regression Results                            \n",
      "==============================================================================\n",
      "Dep. Variable:               Vertical   R-squared:                       0.977\n",
      "Model:                            OLS   Adj. R-squared:                  0.977\n",
      "Method:                 Least Squares   F-statistic:                 2.323e+05\n",
      "Date:                Wed, 05 Aug 2020   Prob (F-statistic):               0.00\n",
      "Time:                        17:56:12   Log-Likelihood:                -21518.\n",
      "No. Observations:                5558   AIC:                         4.304e+04\n",
      "Df Residuals:                    5556   BIC:                         4.305e+04\n",
      "Df Model:                           1                                         \n",
      "Covariance Type:            nonrobust                                         \n",
      "==============================================================================\n",
      "                 coef    std err          t      P>|t|      [0.025      0.975]\n",
      "------------------------------------------------------------------------------\n",
      "const       -138.3661      0.312   -443.879      0.000    -138.977    -137.755\n",
      "x1             0.0468   9.72e-05    482.011      0.000       0.047       0.047\n",
      "==============================================================================\n",
      "Omnibus:                       68.105   Durbin-Watson:                   0.236\n",
      "Prob(Omnibus):                  0.000   Jarque-Bera (JB):               71.549\n",
      "Skew:                           0.255   Prob(JB):                     2.91e-16\n",
      "Kurtosis:                       3.220   Cond. No.                     6.42e+03\n",
      "==============================================================================\n",
      "\n",
      "Warnings:\n",
      "[1] Standard Errors assume that the covariance matrix of the errors is correctly specified.\n",
      "[2] The condition number is large, 6.42e+03. This might indicate that there are\n",
      "strong multicollinearity or other numerical problems.\n"
     ]
    },
    {
     "data": {
      "image/png": "[encoded data removed]",
      "text/plain": [
       "<Figure size 864x432 with 1 Axes>"
      ]
     },
     "metadata": {
      "needs_background": "light"
     },
     "output_type": "display_data"
    }
   ],
   "source": [
    "sonel_trend_array = np.full(np.shape(filenames)[0], np.nan)\n",
    "site_name_array = []\n",
    "\n",
    "\n",
    "for f, filepath in enumerate(filenames):\n",
    "    print(f'\\n\\n{filepath}')\n",
    "    print(f'f: {f}')\n",
    "    ## ToDo - extract and keep other important thing about each site from the file...Lat/Lon, name, etc.\n",
    "    \n",
    "    # Read in data\n",
    "    df = read_GPS_SONEL(filepath)\n",
    "    df = df[(df.index >= '2004-1-12')]\n",
    "    \n",
    "    # Get trend using linear regression\n",
    "    res = test_calc_OLS(df, 'Vertical')\n",
    "    sonel_trend_array[f] = convert_trend_toyearly(df, res)\n",
    "    \n",
    "    \n",
    "    # Save site name\n",
    "    site_name_array.append(filepath[-24:-20])\n",
    "    \n",
    "    print(f\"Trend = {sonel_trend_array[f] * 1:.2f} mm/yr\")\n",
    "    \n",
    "    print(res.summary())\n",
    "\n",
    "    # Make Plot\n",
    "    test_plot_OLS(df, res, filepath[-24:-20], 'Vertical', sonel_trend_array[f])"
   ]
  }
 ],
 "metadata": {
  "kernelspec": {
   "display_name": "Python 3",
   "language": "python",
   "name": "python3"
  },
  "language_info": {
   "codemirror_mode": {
    "name": "ipython",
    "version": 3
   },
   "file_extension": ".py",
   "mimetype": "text/x-python",
   "name": "python",
   "nbconvert_exporter": "python",
   "pygments_lexer": "ipython3",
   "version": "3.7.6"
  }
 },
 "nbformat": 4,
 "nbformat_minor": 4
}
