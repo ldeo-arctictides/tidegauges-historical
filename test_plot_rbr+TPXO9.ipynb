{
 "cells": [
  {
   "cell_type": "code",
   "execution_count": 1,
   "metadata": {},
   "outputs": [],
   "source": [
    "import os\n",
    "import numpy as np\n",
    "import pandas as pd\n",
    "import matplotlib.pyplot as plt\n",
    "\n",
    "import matplotlib.dates as mdates\n",
    "\n",
    "from tidegauge_functions import read_tidegauge_psmsl\n",
    "\n",
    "# %matplotlib notebook\n",
    "%matplotlib inline\n",
    "# %matplotlib widget"
   ]
  },
  {
   "cell_type": "code",
   "execution_count": 17,
   "metadata": {},
   "outputs": [],
   "source": [
    "def read_rbr(filepath):\n",
    "    df = pd.read_fwf(filepath, \n",
    "                     skiprows=13, \n",
    "                     headers=None,\n",
    "                    )\n",
    "    \n",
    "    columns = ['Cruise', 'Station', 'Type', 'Date', 'Time', 'Longitude', 'Latitude', 'BotDepth', 'Depth', 'Temperature', 'Pressure', 'SeaPressure']\n",
    "    if len(df.columns) == len(columns):\n",
    "        df.columns = columns\n",
    "\n",
    "    df['Datetime'] = pd.to_datetime(df['Date'].apply(str)+' '+df['Time'])\n",
    "\n",
    "    dt = pd.to_datetime(df['Datetime'])\n",
    "\n",
    "    # create datetime index\n",
    "    df.index = pd.DatetimeIndex(dt)\n",
    "    \n",
    "    return df\n",
    "\n",
    "\n",
    "\n",
    "def read_rbr_csv(filepath):\n",
    "    df = pd.read_csv(filepath)\n",
    "    df.index = pd.to_datetime(df['Time'])\n",
    "    # delete Time column\n",
    "    \n",
    "    return df"
   ]
  },
  {
   "cell_type": "code",
   "execution_count": 18,
   "metadata": {},
   "outputs": [
    {
     "data": {
      "text/html": [
       "<div>\n",
       "<style scoped>\n",
       "    .dataframe tbody tr th:only-of-type {\n",
       "        vertical-align: middle;\n",
       "    }\n",
       "\n",
       "    .dataframe tbody tr th {\n",
       "        vertical-align: top;\n",
       "    }\n",
       "\n",
       "    .dataframe thead th {\n",
       "        text-align: right;\n",
       "    }\n",
       "</style>\n",
       "<table border=\"1\" class=\"dataframe\">\n",
       "  <thead>\n",
       "    <tr style=\"text-align: right;\">\n",
       "      <th></th>\n",
       "      <th>Time</th>\n",
       "      <th>Temperature</th>\n",
       "      <th>Pressure</th>\n",
       "      <th>Sea pressure</th>\n",
       "      <th>Depth</th>\n",
       "      <th>Tidal slope</th>\n",
       "    </tr>\n",
       "    <tr>\n",
       "      <th>Time</th>\n",
       "      <th></th>\n",
       "      <th></th>\n",
       "      <th></th>\n",
       "      <th></th>\n",
       "      <th></th>\n",
       "      <th></th>\n",
       "    </tr>\n",
       "  </thead>\n",
       "  <tbody>\n",
       "    <tr>\n",
       "      <th>2022-09-18 06:29:00</th>\n",
       "      <td>2022-09-18 06:29:00.000</td>\n",
       "      <td>2.387111</td>\n",
       "      <td>9.968077</td>\n",
       "      <td>-0.164423</td>\n",
       "      <td>-0.163082</td>\n",
       "      <td>NaN</td>\n",
       "    </tr>\n",
       "    <tr>\n",
       "      <th>2022-09-18 06:39:00</th>\n",
       "      <td>2022-09-18 06:39:00.000</td>\n",
       "      <td>1.823355</td>\n",
       "      <td>9.967579</td>\n",
       "      <td>-0.164921</td>\n",
       "      <td>-0.163577</td>\n",
       "      <td>NaN</td>\n",
       "    </tr>\n",
       "    <tr>\n",
       "      <th>2022-09-18 06:49:00</th>\n",
       "      <td>2022-09-18 06:49:00.000</td>\n",
       "      <td>2.410338</td>\n",
       "      <td>9.968783</td>\n",
       "      <td>-0.163717</td>\n",
       "      <td>-0.162382</td>\n",
       "      <td>NaN</td>\n",
       "    </tr>\n",
       "    <tr>\n",
       "      <th>2022-09-18 06:59:00</th>\n",
       "      <td>2022-09-18 06:59:00.000</td>\n",
       "      <td>2.028100</td>\n",
       "      <td>9.968754</td>\n",
       "      <td>-0.163746</td>\n",
       "      <td>-0.162411</td>\n",
       "      <td>NaN</td>\n",
       "    </tr>\n",
       "    <tr>\n",
       "      <th>2022-09-18 07:09:00</th>\n",
       "      <td>2022-09-18 07:09:00.000</td>\n",
       "      <td>1.848641</td>\n",
       "      <td>9.968974</td>\n",
       "      <td>-0.163526</td>\n",
       "      <td>-0.162192</td>\n",
       "      <td>NaN</td>\n",
       "    </tr>\n",
       "    <tr>\n",
       "      <th>...</th>\n",
       "      <td>...</td>\n",
       "      <td>...</td>\n",
       "      <td>...</td>\n",
       "      <td>...</td>\n",
       "      <td>...</td>\n",
       "      <td>...</td>\n",
       "    </tr>\n",
       "    <tr>\n",
       "      <th>2022-09-21 05:29:00</th>\n",
       "      <td>2022-09-21 05:29:00.000</td>\n",
       "      <td>0.058975</td>\n",
       "      <td>13.530626</td>\n",
       "      <td>3.398126</td>\n",
       "      <td>3.370415</td>\n",
       "      <td>NaN</td>\n",
       "    </tr>\n",
       "    <tr>\n",
       "      <th>2022-09-21 05:39:00</th>\n",
       "      <td>2022-09-21 05:39:00.000</td>\n",
       "      <td>0.054678</td>\n",
       "      <td>13.524498</td>\n",
       "      <td>3.391998</td>\n",
       "      <td>3.364338</td>\n",
       "      <td>NaN</td>\n",
       "    </tr>\n",
       "    <tr>\n",
       "      <th>2022-09-21 05:49:00</th>\n",
       "      <td>2022-09-21 05:49:00.000</td>\n",
       "      <td>0.059775</td>\n",
       "      <td>13.566841</td>\n",
       "      <td>3.434341</td>\n",
       "      <td>3.406335</td>\n",
       "      <td>NaN</td>\n",
       "    </tr>\n",
       "    <tr>\n",
       "      <th>2022-09-21 05:59:00</th>\n",
       "      <td>2022-09-21 05:59:00.000</td>\n",
       "      <td>0.054413</td>\n",
       "      <td>13.517435</td>\n",
       "      <td>3.384935</td>\n",
       "      <td>3.357332</td>\n",
       "      <td>NaN</td>\n",
       "    </tr>\n",
       "    <tr>\n",
       "      <th>2022-09-21 06:09:00</th>\n",
       "      <td>2022-09-21 06:09:00.000</td>\n",
       "      <td>0.061274</td>\n",
       "      <td>13.595879</td>\n",
       "      <td>3.463379</td>\n",
       "      <td>3.435136</td>\n",
       "      <td>NaN</td>\n",
       "    </tr>\n",
       "  </tbody>\n",
       "</table>\n",
       "<p>431 rows × 6 columns</p>\n",
       "</div>"
      ],
      "text/plain": [
       "                                        Time  Temperature   Pressure  \\\n",
       "Time                                                                   \n",
       "2022-09-18 06:29:00  2022-09-18 06:29:00.000     2.387111   9.968077   \n",
       "2022-09-18 06:39:00  2022-09-18 06:39:00.000     1.823355   9.967579   \n",
       "2022-09-18 06:49:00  2022-09-18 06:49:00.000     2.410338   9.968783   \n",
       "2022-09-18 06:59:00  2022-09-18 06:59:00.000     2.028100   9.968754   \n",
       "2022-09-18 07:09:00  2022-09-18 07:09:00.000     1.848641   9.968974   \n",
       "...                                      ...          ...        ...   \n",
       "2022-09-21 05:29:00  2022-09-21 05:29:00.000     0.058975  13.530626   \n",
       "2022-09-21 05:39:00  2022-09-21 05:39:00.000     0.054678  13.524498   \n",
       "2022-09-21 05:49:00  2022-09-21 05:49:00.000     0.059775  13.566841   \n",
       "2022-09-21 05:59:00  2022-09-21 05:59:00.000     0.054413  13.517435   \n",
       "2022-09-21 06:09:00  2022-09-21 06:09:00.000     0.061274  13.595879   \n",
       "\n",
       "                     Sea pressure     Depth  Tidal slope  \n",
       "Time                                                      \n",
       "2022-09-18 06:29:00     -0.164423 -0.163082          NaN  \n",
       "2022-09-18 06:39:00     -0.164921 -0.163577          NaN  \n",
       "2022-09-18 06:49:00     -0.163717 -0.162382          NaN  \n",
       "2022-09-18 06:59:00     -0.163746 -0.162411          NaN  \n",
       "2022-09-18 07:09:00     -0.163526 -0.162192          NaN  \n",
       "...                           ...       ...          ...  \n",
       "2022-09-21 05:29:00      3.398126  3.370415          NaN  \n",
       "2022-09-21 05:39:00      3.391998  3.364338          NaN  \n",
       "2022-09-21 05:49:00      3.434341  3.406335          NaN  \n",
       "2022-09-21 05:59:00      3.384935  3.357332          NaN  \n",
       "2022-09-21 06:09:00      3.463379  3.435136          NaN  \n",
       "\n",
       "[431 rows x 6 columns]"
      ]
     },
     "execution_count": 18,
     "metadata": {},
     "output_type": "execute_result"
    }
   ],
   "source": [
    "# file_in = 'EtEllerAndet_20201018'\n",
    "# dir_in = 'data/greenlandrising_tidegauge_data/aasiaat/RBR/20220914_1717/'\n",
    "# file_in = '204972_20220914_1717'\n",
    "dir_in = '/Users/dporter/Downloads/GreenlandRising_data/204962_20220918_1157'\n",
    "file_in = '204962_20220918_1157_data'\n",
    "\n",
    "ext = '.txt'\n",
    "filepath = os.path.join(dir_in, file_in + ext)\n",
    "\n",
    "df_rbr = read_rbr_csv(filepath)\n",
    "\n",
    "df_rbr"
   ]
  },
  {
   "cell_type": "code",
   "execution_count": null,
   "metadata": {},
   "outputs": [],
   "source": []
  },
  {
   "cell_type": "code",
   "execution_count": 16,
   "metadata": {
    "scrolled": false
   },
   "outputs": [
    {
     "name": "stderr",
     "output_type": "stream",
     "text": [
      "/Users/dporter/.conda/envs/tidegauges-historical/lib/python3.8/site-packages/pandas/plotting/_matplotlib/__init__.py:61: UserWarning: To output multiple subplots, the figure containing the passed axes is being cleared\n",
      "  plot_obj.generate()\n",
      "/Users/dporter/.conda/envs/tidegauges-historical/lib/python3.8/site-packages/pandas/plotting/_matplotlib/tools.py:298: MatplotlibDeprecationWarning: \n",
      "The rowNum attribute was deprecated in Matplotlib 3.2 and will be removed two minor releases later. Use ax.get_subplotspec().rowspan.start instead.\n",
      "  layout[ax.rowNum, ax.colNum] = ax.get_visible()\n",
      "/Users/dporter/.conda/envs/tidegauges-historical/lib/python3.8/site-packages/pandas/plotting/_matplotlib/tools.py:298: MatplotlibDeprecationWarning: \n",
      "The colNum attribute was deprecated in Matplotlib 3.2 and will be removed two minor releases later. Use ax.get_subplotspec().colspan.start instead.\n",
      "  layout[ax.rowNum, ax.colNum] = ax.get_visible()\n",
      "/Users/dporter/.conda/envs/tidegauges-historical/lib/python3.8/site-packages/pandas/plotting/_matplotlib/tools.py:304: MatplotlibDeprecationWarning: \n",
      "The rowNum attribute was deprecated in Matplotlib 3.2 and will be removed two minor releases later. Use ax.get_subplotspec().rowspan.start instead.\n",
      "  if not layout[ax.rowNum + 1, ax.colNum]:\n",
      "/Users/dporter/.conda/envs/tidegauges-historical/lib/python3.8/site-packages/pandas/plotting/_matplotlib/tools.py:304: MatplotlibDeprecationWarning: \n",
      "The colNum attribute was deprecated in Matplotlib 3.2 and will be removed two minor releases later. Use ax.get_subplotspec().colspan.start instead.\n",
      "  if not layout[ax.rowNum + 1, ax.colNum]:\n",
      "/Users/dporter/.conda/envs/tidegauges-historical/lib/python3.8/site-packages/pandas/plotting/_matplotlib/tools.py:298: MatplotlibDeprecationWarning: \n",
      "The rowNum attribute was deprecated in Matplotlib 3.2 and will be removed two minor releases later. Use ax.get_subplotspec().rowspan.start instead.\n",
      "  layout[ax.rowNum, ax.colNum] = ax.get_visible()\n",
      "/Users/dporter/.conda/envs/tidegauges-historical/lib/python3.8/site-packages/pandas/plotting/_matplotlib/tools.py:298: MatplotlibDeprecationWarning: \n",
      "The colNum attribute was deprecated in Matplotlib 3.2 and will be removed two minor releases later. Use ax.get_subplotspec().colspan.start instead.\n",
      "  layout[ax.rowNum, ax.colNum] = ax.get_visible()\n",
      "/Users/dporter/.conda/envs/tidegauges-historical/lib/python3.8/site-packages/pandas/plotting/_matplotlib/tools.py:304: MatplotlibDeprecationWarning: \n",
      "The rowNum attribute was deprecated in Matplotlib 3.2 and will be removed two minor releases later. Use ax.get_subplotspec().rowspan.start instead.\n",
      "  if not layout[ax.rowNum + 1, ax.colNum]:\n",
      "/Users/dporter/.conda/envs/tidegauges-historical/lib/python3.8/site-packages/pandas/plotting/_matplotlib/tools.py:304: MatplotlibDeprecationWarning: \n",
      "The colNum attribute was deprecated in Matplotlib 3.2 and will be removed two minor releases later. Use ax.get_subplotspec().colspan.start instead.\n",
      "  if not layout[ax.rowNum + 1, ax.colNum]:\n"
     ]
    },
    {
     "data": {
      "text/plain": [
       "array([<AxesSubplot:xlabel='Time'>, <AxesSubplot:xlabel='Time'>,\n",
       "       <AxesSubplot:xlabel='Time'>], dtype=object)"
      ]
     },
     "execution_count": 16,
     "metadata": {},
     "output_type": "execute_result"
    },
    {
     "data": {
      "image/png": "[encoded data removed]",
      "text/plain": [
       "<Figure size 720x432 with 3 Axes>"
      ]
     },
     "metadata": {
      "needs_background": "light"
     },
     "output_type": "display_data"
    }
   ],
   "source": [
    "fig = plt.figure(figsize=(10,6))\n",
    "ax = fig.add_subplot(111)\n",
    "df_rbr[['Depth', 'Temperature', 'Pressure']].plot(subplots=True, ax=ax)"
   ]
  },
  {
   "cell_type": "code",
   "execution_count": null,
   "metadata": {},
   "outputs": [],
   "source": []
  },
  {
   "cell_type": "markdown",
   "metadata": {},
   "source": [
    "# Read in TPX09 output"
   ]
  },
  {
   "cell_type": "code",
   "execution_count": 30,
   "metadata": {},
   "outputs": [],
   "source": [
    "def read_pyTMDoutput_csv(filepath):\n",
    "    df = pd.read_csv(filepath)\n",
    "    df.index = pd.to_datetime(df['Unnamed: 0'])\n",
    "    # delete Time column\n",
    "    \n",
    "    return df"
   ]
  },
  {
   "cell_type": "code",
   "execution_count": 40,
   "metadata": {},
   "outputs": [
    {
     "data": {
      "text/html": [
       "<div>\n",
       "<style scoped>\n",
       "    .dataframe tbody tr th:only-of-type {\n",
       "        vertical-align: middle;\n",
       "    }\n",
       "\n",
       "    .dataframe tbody tr th {\n",
       "        vertical-align: top;\n",
       "    }\n",
       "\n",
       "    .dataframe thead th {\n",
       "        text-align: right;\n",
       "    }\n",
       "</style>\n",
       "<table border=\"1\" class=\"dataframe\">\n",
       "  <thead>\n",
       "    <tr style=\"text-align: right;\">\n",
       "      <th></th>\n",
       "      <th>Unnamed: 0</th>\n",
       "      <th>TIME</th>\n",
       "      <th>SSH</th>\n",
       "    </tr>\n",
       "    <tr>\n",
       "      <th>Unnamed: 0</th>\n",
       "      <th></th>\n",
       "      <th></th>\n",
       "      <th></th>\n",
       "    </tr>\n",
       "  </thead>\n",
       "  <tbody>\n",
       "    <tr>\n",
       "      <th>2022-09-15 22:00:00-02:00</th>\n",
       "      <td>2022-09-15 22:00:00-02:00</td>\n",
       "      <td>0.000000</td>\n",
       "      <td>-24.182034</td>\n",
       "    </tr>\n",
       "    <tr>\n",
       "      <th>2022-09-15 22:01:00-02:00</th>\n",
       "      <td>2022-09-15 22:01:00-02:00</td>\n",
       "      <td>0.000694</td>\n",
       "      <td>-24.280448</td>\n",
       "    </tr>\n",
       "    <tr>\n",
       "      <th>2022-09-15 22:02:00-02:00</th>\n",
       "      <td>2022-09-15 22:02:00-02:00</td>\n",
       "      <td>0.001389</td>\n",
       "      <td>-24.376096</td>\n",
       "    </tr>\n",
       "    <tr>\n",
       "      <th>2022-09-15 22:03:00-02:00</th>\n",
       "      <td>2022-09-15 22:03:00-02:00</td>\n",
       "      <td>0.002083</td>\n",
       "      <td>-24.468971</td>\n",
       "    </tr>\n",
       "    <tr>\n",
       "      <th>2022-09-15 22:04:00-02:00</th>\n",
       "      <td>2022-09-15 22:04:00-02:00</td>\n",
       "      <td>0.002778</td>\n",
       "      <td>-24.559067</td>\n",
       "    </tr>\n",
       "    <tr>\n",
       "      <th>...</th>\n",
       "      <td>...</td>\n",
       "      <td>...</td>\n",
       "      <td>...</td>\n",
       "    </tr>\n",
       "    <tr>\n",
       "      <th>2022-09-22 21:55:00-02:00</th>\n",
       "      <td>2022-09-22 21:55:00-02:00</td>\n",
       "      <td>6.996528</td>\n",
       "      <td>51.547775</td>\n",
       "    </tr>\n",
       "    <tr>\n",
       "      <th>2022-09-22 21:56:00-02:00</th>\n",
       "      <td>2022-09-22 21:56:00-02:00</td>\n",
       "      <td>6.997222</td>\n",
       "      <td>51.908735</td>\n",
       "    </tr>\n",
       "    <tr>\n",
       "      <th>2022-09-22 21:57:00-02:00</th>\n",
       "      <td>2022-09-22 21:57:00-02:00</td>\n",
       "      <td>6.997917</td>\n",
       "      <td>52.267652</td>\n",
       "    </tr>\n",
       "    <tr>\n",
       "      <th>2022-09-22 21:58:00-02:00</th>\n",
       "      <td>2022-09-22 21:58:00-02:00</td>\n",
       "      <td>6.998611</td>\n",
       "      <td>52.624507</td>\n",
       "    </tr>\n",
       "    <tr>\n",
       "      <th>2022-09-22 21:59:00-02:00</th>\n",
       "      <td>2022-09-22 21:59:00-02:00</td>\n",
       "      <td>6.999306</td>\n",
       "      <td>52.979279</td>\n",
       "    </tr>\n",
       "  </tbody>\n",
       "</table>\n",
       "<p>10080 rows × 3 columns</p>\n",
       "</div>"
      ],
      "text/plain": [
       "                                          Unnamed: 0      TIME        SSH\n",
       "Unnamed: 0                                                               \n",
       "2022-09-15 22:00:00-02:00  2022-09-15 22:00:00-02:00  0.000000 -24.182034\n",
       "2022-09-15 22:01:00-02:00  2022-09-15 22:01:00-02:00  0.000694 -24.280448\n",
       "2022-09-15 22:02:00-02:00  2022-09-15 22:02:00-02:00  0.001389 -24.376096\n",
       "2022-09-15 22:03:00-02:00  2022-09-15 22:03:00-02:00  0.002083 -24.468971\n",
       "2022-09-15 22:04:00-02:00  2022-09-15 22:04:00-02:00  0.002778 -24.559067\n",
       "...                                              ...       ...        ...\n",
       "2022-09-22 21:55:00-02:00  2022-09-22 21:55:00-02:00  6.996528  51.547775\n",
       "2022-09-22 21:56:00-02:00  2022-09-22 21:56:00-02:00  6.997222  51.908735\n",
       "2022-09-22 21:57:00-02:00  2022-09-22 21:57:00-02:00  6.997917  52.267652\n",
       "2022-09-22 21:58:00-02:00  2022-09-22 21:58:00-02:00  6.998611  52.624507\n",
       "2022-09-22 21:59:00-02:00  2022-09-22 21:59:00-02:00  6.999306  52.979279\n",
       "\n",
       "[10080 rows x 3 columns]"
      ]
     },
     "execution_count": 40,
     "metadata": {},
     "output_type": "execute_result"
    }
   ],
   "source": [
    "dir_in = '../pyTMD/'\n",
    "file_in = 'Kullorsuaq_H_2022-09-16'\n",
    "ext = '.csv'\n",
    "filepath = os.path.join(dir_in, file_in + ext)\n",
    "\n",
    "df_model = read_pyTMDoutput_csv(filepath)\n",
    "# df_model = pd.read_csv(filepath)\n",
    "df_model"
   ]
  },
  {
   "cell_type": "code",
   "execution_count": 43,
   "metadata": {},
   "outputs": [
    {
     "data": {
      "text/plain": [
       "<AxesSubplot:xlabel='Unnamed: 0'>"
      ]
     },
     "execution_count": 43,
     "metadata": {},
     "output_type": "execute_result"
    },
    {
     "data": {
      "image/png": "[encoded data removed]",
      "text/plain": [
       "<Figure size 432x288 with 1 Axes>"
      ]
     },
     "metadata": {
      "needs_background": "light"
     },
     "output_type": "display_data"
    }
   ],
   "source": [
    "df_model['SSH'].plot()"
   ]
  },
  {
   "cell_type": "markdown",
   "metadata": {},
   "source": [
    "## shift"
   ]
  },
  {
   "cell_type": "code",
   "execution_count": 69,
   "metadata": {},
   "outputs": [
    {
     "name": "stdout",
     "output_type": "stream",
     "text": [
      "2022-09-18 06:29:00 to 2022-09-21 06:09:00\n"
     ]
    }
   ],
   "source": [
    "# compare_start = pd.Timestamp('2022-08-24T00:00')\n",
    "# compare_end = pd.Timestamp('2022-08-27T00:00')\n",
    "\n",
    "compare_start = df_rbr.index[100]\n",
    "compare_end = df_rbr.index[-1]\n",
    "print(f'{comp_start} to {comp_end}')"
   ]
  },
  {
   "cell_type": "code",
   "execution_count": 89,
   "metadata": {},
   "outputs": [
    {
     "name": "stdout",
     "output_type": "stream",
     "text": [
      "3.5664723421517506\n"
     ]
    }
   ],
   "source": [
    "z_shift_rbr = (df_rbr['Depth'].loc[compare_start:compare_end].mean() - df_model['SSH'].loc[compare_start:compare_end].mean()/100)\n",
    "print(z_shift_rbr)\n",
    "df_rbr['Depth_shifted'] = (df_rbr['Depth'] - z_shift_rbr)"
   ]
  },
  {
   "cell_type": "code",
   "execution_count": 90,
   "metadata": {},
   "outputs": [],
   "source": [
    "df_rbr_plus5hr = df_rbr.shift(periods=+5, freq=\"H\")"
   ]
  },
  {
   "cell_type": "code",
   "execution_count": 103,
   "metadata": {},
   "outputs": [],
   "source": [
    "plot_start = pd.Timestamp('2022-09-18T12:00')\n",
    "plot_end = pd.Timestamp('2022-09-21T12:00')\n",
    "\n",
    "# plot_start = pd.Timestamp('2022-08-01T00:00')\n",
    "# plot_end = pd.Timestamp('2022-08-31T00:00')"
   ]
  },
  {
   "cell_type": "code",
   "execution_count": 116,
   "metadata": {},
   "outputs": [
    {
     "data": {
      "image/png": "[encoded data removed]",
      "text/plain": [
       "<Figure size 576x288 with 1 Axes>"
      ]
     },
     "metadata": {
      "needs_background": "light"
     },
     "output_type": "display_data"
    }
   ],
   "source": [
    "import matplotlib.dates as mdates\n",
    "\n",
    "# Set up\n",
    "fig = plt.figure(figsize=(8,4))\n",
    "ax = fig.add_subplot(111)\n",
    "\n",
    "# Plot\n",
    "# ln1 = plt.plot(rt_minus1hr['waterlevel_shifted'], \n",
    "#                linestyle='-', \n",
    "#                marker='', \n",
    "#                color='black', \n",
    "#                label='GreenlandRising',\n",
    "#                alpha=1,\n",
    "#               )\n",
    "ln1 = plt.plot(df_model[['SSH']]/100, \n",
    "               linestyle='-', \n",
    "               marker='', \n",
    "               color='red', \n",
    "               label='Model',\n",
    "               alpha=0.9,\n",
    "              )\n",
    "# ln2 = plt.plot(df_rbr[['Depth_shifted']], \n",
    "#                linestyle='', \n",
    "#                marker='.', \n",
    "#                color='grey', \n",
    "#                label='RBR',\n",
    "#                alpha=0.5,\n",
    "#               )\n",
    "ln3 = plt.plot(df_rbr_plus5hr[['Depth_shifted']], \n",
    "               linestyle='', \n",
    "               marker='.', \n",
    "               color='black', \n",
    "               label='RBR+5h',\n",
    "               alpha=1,\n",
    "              )\n",
    "\n",
    "\n",
    "# Customize\n",
    "ax.set_title(f'Water Level - RBR file:{file_in} (UTC)')\n",
    "ax.set_ylabel('Water Level (meters)', fontsize=16)\n",
    "\n",
    "# Grids\n",
    "ax.minorticks_on()\n",
    "ax.grid(which='major', linestyle='-', linewidth='0.2', color='red')\n",
    "ax.grid(which='minor', linestyle=':', linewidth='0.2', color='black')\n",
    "\n",
    "# xaxis\n",
    "# plt.xlim(starttime, endtime)\n",
    "plt.xlim(plot_start, plot_end)\n",
    "plt.ylim(-1, 1)\n",
    "ax.set_axisbelow(True)\n",
    "ax.xaxis.set_major_formatter(mdates.DateFormatter('%Y-%m-%d, %Hz'))\n",
    "fig.autofmt_xdate()\n",
    "ax.tick_params(axis='both', labelsize=12)\n",
    "\n",
    "plt.legend()\n",
    "plt.tight_layout()\n",
    "plt.savefig('figs/lineplot_Kullorsuaq_compareRBR_19Sep2022_UTC.png',\n",
    "            facecolor='white', \n",
    "            transparent=False,\n",
    "           )"
   ]
  },
  {
   "cell_type": "markdown",
   "metadata": {},
   "source": [
    "# Notes\n",
    "\n",
    "- Is the time shift correct?\n",
    "- Looks like RBR was set to UTC-5 using the last deployment file.\n",
    "- Make sure model output is UTC.  It has a \"-200\" string in the time column..."
   ]
  },
  {
   "cell_type": "code",
   "execution_count": null,
   "metadata": {},
   "outputs": [],
   "source": []
  }
 ],
 "metadata": {
  "kernelspec": {
   "display_name": "Python 3",
   "language": "python",
   "name": "python3"
  },
  "language_info": {
   "codemirror_mode": {
    "name": "ipython",
    "version": 3
   },
   "file_extension": ".py",
   "mimetype": "text/x-python",
   "name": "python",
   "nbconvert_exporter": "python",
   "pygments_lexer": "ipython3",
   "version": "3.8.3"
  }
 },
 "nbformat": 4,
 "nbformat_minor": 4
}
