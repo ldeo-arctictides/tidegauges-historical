{
 "cells": [
  {
   "cell_type": "markdown",
   "metadata": {},
   "source": [
    "# Test Notebook to learn how to read in GPS"
   ]
  },
  {
   "cell_type": "markdown",
   "metadata": {},
   "source": [
    "### Some sources of GPS data\n",
    "\n",
    "Greenland\n",
    "\n",
    "http://go-gnet.org/data/\n",
    "\n",
    "https://www.unavco.org/data/gps-gnss/data-access-methods/data-access-methods.html\n",
    "\n",
    "____"
   ]
  },
  {
   "cell_type": "markdown",
   "metadata": {},
   "source": [
    "### Load in some modules"
   ]
  },
  {
   "cell_type": "code",
   "execution_count": 1,
   "metadata": {
    "scrolled": true
   },
   "outputs": [],
   "source": [
    "import os\n",
    "import numpy as np\n",
    "import pandas as pd\n",
    "import matplotlib.pyplot as plt\n",
    "import statsmodels.api as sm\n",
    "import glob\n",
    "\n",
    "from tidegauge_functions import read_GPS_SONEL\n",
    "\n",
    "%matplotlib inline"
   ]
  },
  {
   "cell_type": "markdown",
   "metadata": {},
   "source": [
    "### Specify directories and filenames\n",
    "and other runtime options"
   ]
  },
  {
   "cell_type": "code",
   "execution_count": 2,
   "metadata": {},
   "outputs": [],
   "source": [
    "dir_in = 'data/GPS'\n",
    "file_in = 'KULU.cwu.nam14.csv'\n",
    "ext = 'csv'"
   ]
  },
  {
   "cell_type": "code",
   "execution_count": 3,
   "metadata": {},
   "outputs": [],
   "source": [
    "filepath = os.path.join(dir_in, file_in)"
   ]
  },
  {
   "cell_type": "markdown",
   "metadata": {},
   "source": [
    "### Basic `read_csv` to peek into the csv file"
   ]
  },
  {
   "cell_type": "code",
   "execution_count": 4,
   "metadata": {},
   "outputs": [
    {
     "name": "stdout",
     "output_type": "stream",
     "text": [
      "['PBO Station Position Time Series.\\n', 'Format Version, 1.2.0\\n', 'Reference Frame, NAM14\\n', '4-character ID, KULU\\n', 'Station name, Kulusuk_GPS     \\n', 'Begin Date, 1996-07-25\\n', 'End Date, 2019-08-13\\n', 'Release Date, 2020-02-13\\n', 'Source file, KULU.cwu.nam14.pos\\n', 'Offset from source file, -6.35 mm North, -27.61 mm East, 69.00 mm Vertical\\n', 'Reference position, 65.5793353842 North Latitude, -37.1493578847 East Longitude, 67.48358 meters elevation\\n', 'Date, North (mm), East (mm), Vertical (mm), North Std. Deviation (mm), East Std. Deviation (mm), Vertical Std. Deviation (mm), Quality,\\n', '1996-07-25,0.00, 0.00, 0.00, 3.08, 2.19, 9.93, repro,\\n']\n"
     ]
    }
   ],
   "source": [
    "# with open(filepath) as myfile:\n",
    "#     firstNlines=myfile.readlines()[0:5] #put here the interval you want\n",
    "    \n",
    "# print(firstNlines)\n",
    "\n",
    "with open(filepath) as myfile:\n",
    "    head = [next(myfile) for x in range(13)]\n",
    "print(head)"
   ]
  },
  {
   "cell_type": "code",
   "execution_count": 5,
   "metadata": {},
   "outputs": [
    {
     "data": {
      "text/html": [
       "<div>\n",
       "<style scoped>\n",
       "    .dataframe tbody tr th:only-of-type {\n",
       "        vertical-align: middle;\n",
       "    }\n",
       "\n",
       "    .dataframe tbody tr th {\n",
       "        vertical-align: top;\n",
       "    }\n",
       "\n",
       "    .dataframe thead th {\n",
       "        text-align: right;\n",
       "    }\n",
       "</style>\n",
       "<table border=\"1\" class=\"dataframe\">\n",
       "  <thead>\n",
       "    <tr style=\"text-align: right;\">\n",
       "      <th></th>\n",
       "      <th>0</th>\n",
       "      <th>1</th>\n",
       "      <th>2</th>\n",
       "      <th>3</th>\n",
       "      <th>4</th>\n",
       "      <th>5</th>\n",
       "      <th>6</th>\n",
       "      <th>7</th>\n",
       "      <th>8</th>\n",
       "    </tr>\n",
       "  </thead>\n",
       "  <tbody>\n",
       "    <tr>\n",
       "      <th>0</th>\n",
       "      <td>1996-07-25</td>\n",
       "      <td>0.00</td>\n",
       "      <td>0.00</td>\n",
       "      <td>0.00</td>\n",
       "      <td>3.08</td>\n",
       "      <td>2.19</td>\n",
       "      <td>9.93</td>\n",
       "      <td>repro</td>\n",
       "      <td>NaN</td>\n",
       "    </tr>\n",
       "    <tr>\n",
       "      <th>1</th>\n",
       "      <td>1996-07-26</td>\n",
       "      <td>-1.07</td>\n",
       "      <td>-0.16</td>\n",
       "      <td>-0.64</td>\n",
       "      <td>3.72</td>\n",
       "      <td>2.64</td>\n",
       "      <td>12.29</td>\n",
       "      <td>repro</td>\n",
       "      <td>NaN</td>\n",
       "    </tr>\n",
       "    <tr>\n",
       "      <th>2</th>\n",
       "      <td>1996-07-27</td>\n",
       "      <td>0.16</td>\n",
       "      <td>-2.04</td>\n",
       "      <td>11.45</td>\n",
       "      <td>4.15</td>\n",
       "      <td>2.93</td>\n",
       "      <td>13.92</td>\n",
       "      <td>repro</td>\n",
       "      <td>NaN</td>\n",
       "    </tr>\n",
       "    <tr>\n",
       "      <th>3</th>\n",
       "      <td>1996-07-28</td>\n",
       "      <td>-0.53</td>\n",
       "      <td>-0.65</td>\n",
       "      <td>11.62</td>\n",
       "      <td>3.05</td>\n",
       "      <td>2.19</td>\n",
       "      <td>10.03</td>\n",
       "      <td>repro</td>\n",
       "      <td>NaN</td>\n",
       "    </tr>\n",
       "    <tr>\n",
       "      <th>4</th>\n",
       "      <td>1996-07-29</td>\n",
       "      <td>-5.19</td>\n",
       "      <td>-0.85</td>\n",
       "      <td>5.00</td>\n",
       "      <td>2.90</td>\n",
       "      <td>2.07</td>\n",
       "      <td>9.80</td>\n",
       "      <td>repro</td>\n",
       "      <td>NaN</td>\n",
       "    </tr>\n",
       "    <tr>\n",
       "      <th>...</th>\n",
       "      <td>...</td>\n",
       "      <td>...</td>\n",
       "      <td>...</td>\n",
       "      <td>...</td>\n",
       "      <td>...</td>\n",
       "      <td>...</td>\n",
       "      <td>...</td>\n",
       "      <td>...</td>\n",
       "      <td>...</td>\n",
       "    </tr>\n",
       "    <tr>\n",
       "      <th>6677</th>\n",
       "      <td>2019-08-09</td>\n",
       "      <td>-18.97</td>\n",
       "      <td>-54.44</td>\n",
       "      <td>142.87</td>\n",
       "      <td>2.15</td>\n",
       "      <td>1.47</td>\n",
       "      <td>7.51</td>\n",
       "      <td>suppf</td>\n",
       "      <td>NaN</td>\n",
       "    </tr>\n",
       "    <tr>\n",
       "      <th>6678</th>\n",
       "      <td>2019-08-10</td>\n",
       "      <td>-19.59</td>\n",
       "      <td>-53.63</td>\n",
       "      <td>146.31</td>\n",
       "      <td>2.26</td>\n",
       "      <td>1.54</td>\n",
       "      <td>7.76</td>\n",
       "      <td>suppf</td>\n",
       "      <td>NaN</td>\n",
       "    </tr>\n",
       "    <tr>\n",
       "      <th>6679</th>\n",
       "      <td>2019-08-11</td>\n",
       "      <td>-19.04</td>\n",
       "      <td>-53.98</td>\n",
       "      <td>150.46</td>\n",
       "      <td>2.28</td>\n",
       "      <td>1.52</td>\n",
       "      <td>7.57</td>\n",
       "      <td>suppf</td>\n",
       "      <td>NaN</td>\n",
       "    </tr>\n",
       "    <tr>\n",
       "      <th>6680</th>\n",
       "      <td>2019-08-12</td>\n",
       "      <td>-18.85</td>\n",
       "      <td>-54.11</td>\n",
       "      <td>147.44</td>\n",
       "      <td>2.20</td>\n",
       "      <td>1.52</td>\n",
       "      <td>7.61</td>\n",
       "      <td>suppf</td>\n",
       "      <td>NaN</td>\n",
       "    </tr>\n",
       "    <tr>\n",
       "      <th>6681</th>\n",
       "      <td>2019-08-13</td>\n",
       "      <td>-19.66</td>\n",
       "      <td>-53.95</td>\n",
       "      <td>142.99</td>\n",
       "      <td>3.31</td>\n",
       "      <td>2.32</td>\n",
       "      <td>11.39</td>\n",
       "      <td>suppf</td>\n",
       "      <td>NaN</td>\n",
       "    </tr>\n",
       "  </tbody>\n",
       "</table>\n",
       "<p>6682 rows × 9 columns</p>\n",
       "</div>"
      ],
      "text/plain": [
       "               0      1      2       3     4     5      6       7   8\n",
       "0     1996-07-25   0.00   0.00    0.00  3.08  2.19   9.93   repro NaN\n",
       "1     1996-07-26  -1.07  -0.16   -0.64  3.72  2.64  12.29   repro NaN\n",
       "2     1996-07-27   0.16  -2.04   11.45  4.15  2.93  13.92   repro NaN\n",
       "3     1996-07-28  -0.53  -0.65   11.62  3.05  2.19  10.03   repro NaN\n",
       "4     1996-07-29  -5.19  -0.85    5.00  2.90  2.07   9.80   repro NaN\n",
       "...          ...    ...    ...     ...   ...   ...    ...     ...  ..\n",
       "6677  2019-08-09 -18.97 -54.44  142.87  2.15  1.47   7.51   suppf NaN\n",
       "6678  2019-08-10 -19.59 -53.63  146.31  2.26  1.54   7.76   suppf NaN\n",
       "6679  2019-08-11 -19.04 -53.98  150.46  2.28  1.52   7.57   suppf NaN\n",
       "6680  2019-08-12 -18.85 -54.11  147.44  2.20  1.52   7.61   suppf NaN\n",
       "6681  2019-08-13 -19.66 -53.95  142.99  3.31  2.32  11.39   suppf NaN\n",
       "\n",
       "[6682 rows x 9 columns]"
      ]
     },
     "execution_count": 5,
     "metadata": {},
     "output_type": "execute_result"
    }
   ],
   "source": [
    "df = pd.read_csv(filepath, skiprows=12, header=None)\n",
    "df\n"
   ]
  },
  {
   "cell_type": "code",
   "execution_count": 6,
   "metadata": {},
   "outputs": [
    {
     "data": {
      "text/html": [
       "<div>\n",
       "<style scoped>\n",
       "    .dataframe tbody tr th:only-of-type {\n",
       "        vertical-align: middle;\n",
       "    }\n",
       "\n",
       "    .dataframe tbody tr th {\n",
       "        vertical-align: top;\n",
       "    }\n",
       "\n",
       "    .dataframe thead th {\n",
       "        text-align: right;\n",
       "    }\n",
       "</style>\n",
       "<table border=\"1\" class=\"dataframe\">\n",
       "  <thead>\n",
       "    <tr style=\"text-align: right;\">\n",
       "      <th></th>\n",
       "      <th>North</th>\n",
       "      <th>East</th>\n",
       "      <th>Vertical</th>\n",
       "      <th>NorthSTD</th>\n",
       "      <th>EastSTD</th>\n",
       "      <th>VerticalSTD</th>\n",
       "      <th>Quality</th>\n",
       "    </tr>\n",
       "    <tr>\n",
       "      <th>Date</th>\n",
       "      <th></th>\n",
       "      <th></th>\n",
       "      <th></th>\n",
       "      <th></th>\n",
       "      <th></th>\n",
       "      <th></th>\n",
       "      <th></th>\n",
       "    </tr>\n",
       "  </thead>\n",
       "  <tbody>\n",
       "    <tr>\n",
       "      <th>1996-07-25</th>\n",
       "      <td>0.00</td>\n",
       "      <td>0.00</td>\n",
       "      <td>0.00</td>\n",
       "      <td>3.08</td>\n",
       "      <td>2.19</td>\n",
       "      <td>9.93</td>\n",
       "      <td>repro</td>\n",
       "    </tr>\n",
       "    <tr>\n",
       "      <th>1996-07-26</th>\n",
       "      <td>-1.07</td>\n",
       "      <td>-0.16</td>\n",
       "      <td>-0.64</td>\n",
       "      <td>3.72</td>\n",
       "      <td>2.64</td>\n",
       "      <td>12.29</td>\n",
       "      <td>repro</td>\n",
       "    </tr>\n",
       "    <tr>\n",
       "      <th>1996-07-27</th>\n",
       "      <td>0.16</td>\n",
       "      <td>-2.04</td>\n",
       "      <td>11.45</td>\n",
       "      <td>4.15</td>\n",
       "      <td>2.93</td>\n",
       "      <td>13.92</td>\n",
       "      <td>repro</td>\n",
       "    </tr>\n",
       "    <tr>\n",
       "      <th>1996-07-28</th>\n",
       "      <td>-0.53</td>\n",
       "      <td>-0.65</td>\n",
       "      <td>11.62</td>\n",
       "      <td>3.05</td>\n",
       "      <td>2.19</td>\n",
       "      <td>10.03</td>\n",
       "      <td>repro</td>\n",
       "    </tr>\n",
       "    <tr>\n",
       "      <th>1996-07-29</th>\n",
       "      <td>-5.19</td>\n",
       "      <td>-0.85</td>\n",
       "      <td>5.00</td>\n",
       "      <td>2.90</td>\n",
       "      <td>2.07</td>\n",
       "      <td>9.80</td>\n",
       "      <td>repro</td>\n",
       "    </tr>\n",
       "    <tr>\n",
       "      <th>...</th>\n",
       "      <td>...</td>\n",
       "      <td>...</td>\n",
       "      <td>...</td>\n",
       "      <td>...</td>\n",
       "      <td>...</td>\n",
       "      <td>...</td>\n",
       "      <td>...</td>\n",
       "    </tr>\n",
       "    <tr>\n",
       "      <th>2019-08-09</th>\n",
       "      <td>-18.97</td>\n",
       "      <td>-54.44</td>\n",
       "      <td>142.87</td>\n",
       "      <td>2.15</td>\n",
       "      <td>1.47</td>\n",
       "      <td>7.51</td>\n",
       "      <td>suppf</td>\n",
       "    </tr>\n",
       "    <tr>\n",
       "      <th>2019-08-10</th>\n",
       "      <td>-19.59</td>\n",
       "      <td>-53.63</td>\n",
       "      <td>146.31</td>\n",
       "      <td>2.26</td>\n",
       "      <td>1.54</td>\n",
       "      <td>7.76</td>\n",
       "      <td>suppf</td>\n",
       "    </tr>\n",
       "    <tr>\n",
       "      <th>2019-08-11</th>\n",
       "      <td>-19.04</td>\n",
       "      <td>-53.98</td>\n",
       "      <td>150.46</td>\n",
       "      <td>2.28</td>\n",
       "      <td>1.52</td>\n",
       "      <td>7.57</td>\n",
       "      <td>suppf</td>\n",
       "    </tr>\n",
       "    <tr>\n",
       "      <th>2019-08-12</th>\n",
       "      <td>-18.85</td>\n",
       "      <td>-54.11</td>\n",
       "      <td>147.44</td>\n",
       "      <td>2.20</td>\n",
       "      <td>1.52</td>\n",
       "      <td>7.61</td>\n",
       "      <td>suppf</td>\n",
       "    </tr>\n",
       "    <tr>\n",
       "      <th>2019-08-13</th>\n",
       "      <td>-19.66</td>\n",
       "      <td>-53.95</td>\n",
       "      <td>142.99</td>\n",
       "      <td>3.31</td>\n",
       "      <td>2.32</td>\n",
       "      <td>11.39</td>\n",
       "      <td>suppf</td>\n",
       "    </tr>\n",
       "  </tbody>\n",
       "</table>\n",
       "<p>6682 rows × 7 columns</p>\n",
       "</div>"
      ],
      "text/plain": [
       "            North   East  Vertical  NorthSTD  EastSTD  VerticalSTD Quality\n",
       "Date                                                                      \n",
       "1996-07-25   0.00   0.00      0.00      3.08     2.19         9.93   repro\n",
       "1996-07-26  -1.07  -0.16     -0.64      3.72     2.64        12.29   repro\n",
       "1996-07-27   0.16  -2.04     11.45      4.15     2.93        13.92   repro\n",
       "1996-07-28  -0.53  -0.65     11.62      3.05     2.19        10.03   repro\n",
       "1996-07-29  -5.19  -0.85      5.00      2.90     2.07         9.80   repro\n",
       "...           ...    ...       ...       ...      ...          ...     ...\n",
       "2019-08-09 -18.97 -54.44    142.87      2.15     1.47         7.51   suppf\n",
       "2019-08-10 -19.59 -53.63    146.31      2.26     1.54         7.76   suppf\n",
       "2019-08-11 -19.04 -53.98    150.46      2.28     1.52         7.57   suppf\n",
       "2019-08-12 -18.85 -54.11    147.44      2.20     1.52         7.61   suppf\n",
       "2019-08-13 -19.66 -53.95    142.99      3.31     2.32        11.39   suppf\n",
       "\n",
       "[6682 rows x 7 columns]"
      ]
     },
     "execution_count": 6,
     "metadata": {},
     "output_type": "execute_result"
    }
   ],
   "source": [
    "column_names=['Date', 'North', 'East', 'Vertical', 'NorthSTD', 'EastSTD', 'VerticalSTD', 'Quality', 'NaN'] \n",
    "df = pd.read_csv(filepath, skiprows=12, header=None, names=column_names)\n",
    "dt = pd.to_datetime(df['Date'])\n",
    "df.index = pd.DatetimeIndex(dt)\n",
    "df = df.drop('Date', axis=1)\n",
    "df = df.drop('NaN', axis=1)\n",
    "df"
   ]
  },
  {
   "cell_type": "code",
   "execution_count": 7,
   "metadata": {},
   "outputs": [
    {
     "data": {
      "text/plain": [
       "<AxesSubplot:xlabel='Date'>"
      ]
     },
     "execution_count": 7,
     "metadata": {},
     "output_type": "execute_result"
    },
    {
     "data": {
      "image/png": "[encoded data removed]",
      "text/plain": [
       "<Figure size 432x288 with 1 Axes>"
      ]
     },
     "metadata": {
      "needs_background": "light"
     },
     "output_type": "display_data"
    }
   ],
   "source": [
    "df[['North', 'East', 'Vertical']].plot(linestyle='', marker=',')"
   ]
  },
  {
   "cell_type": "code",
   "execution_count": 8,
   "metadata": {},
   "outputs": [
    {
     "name": "stderr",
     "output_type": "stream",
     "text": [
      "/Users/dporter/.conda/envs/tidegauges-historical/lib/python3.8/site-packages/pandas/plotting/_matplotlib/tools.py:298: MatplotlibDeprecationWarning: \n",
      "The rowNum attribute was deprecated in Matplotlib 3.2 and will be removed two minor releases later. Use ax.get_subplotspec().rowspan.start instead.\n",
      "  layout[ax.rowNum, ax.colNum] = ax.get_visible()\n",
      "/Users/dporter/.conda/envs/tidegauges-historical/lib/python3.8/site-packages/pandas/plotting/_matplotlib/tools.py:298: MatplotlibDeprecationWarning: \n",
      "The colNum attribute was deprecated in Matplotlib 3.2 and will be removed two minor releases later. Use ax.get_subplotspec().colspan.start instead.\n",
      "  layout[ax.rowNum, ax.colNum] = ax.get_visible()\n",
      "/Users/dporter/.conda/envs/tidegauges-historical/lib/python3.8/site-packages/pandas/plotting/_matplotlib/tools.py:304: MatplotlibDeprecationWarning: \n",
      "The rowNum attribute was deprecated in Matplotlib 3.2 and will be removed two minor releases later. Use ax.get_subplotspec().rowspan.start instead.\n",
      "  if not layout[ax.rowNum + 1, ax.colNum]:\n",
      "/Users/dporter/.conda/envs/tidegauges-historical/lib/python3.8/site-packages/pandas/plotting/_matplotlib/tools.py:304: MatplotlibDeprecationWarning: \n",
      "The colNum attribute was deprecated in Matplotlib 3.2 and will be removed two minor releases later. Use ax.get_subplotspec().colspan.start instead.\n",
      "  if not layout[ax.rowNum + 1, ax.colNum]:\n",
      "/Users/dporter/.conda/envs/tidegauges-historical/lib/python3.8/site-packages/pandas/plotting/_matplotlib/tools.py:298: MatplotlibDeprecationWarning: \n",
      "The rowNum attribute was deprecated in Matplotlib 3.2 and will be removed two minor releases later. Use ax.get_subplotspec().rowspan.start instead.\n",
      "  layout[ax.rowNum, ax.colNum] = ax.get_visible()\n",
      "/Users/dporter/.conda/envs/tidegauges-historical/lib/python3.8/site-packages/pandas/plotting/_matplotlib/tools.py:298: MatplotlibDeprecationWarning: \n",
      "The colNum attribute was deprecated in Matplotlib 3.2 and will be removed two minor releases later. Use ax.get_subplotspec().colspan.start instead.\n",
      "  layout[ax.rowNum, ax.colNum] = ax.get_visible()\n",
      "/Users/dporter/.conda/envs/tidegauges-historical/lib/python3.8/site-packages/pandas/plotting/_matplotlib/tools.py:304: MatplotlibDeprecationWarning: \n",
      "The rowNum attribute was deprecated in Matplotlib 3.2 and will be removed two minor releases later. Use ax.get_subplotspec().rowspan.start instead.\n",
      "  if not layout[ax.rowNum + 1, ax.colNum]:\n",
      "/Users/dporter/.conda/envs/tidegauges-historical/lib/python3.8/site-packages/pandas/plotting/_matplotlib/tools.py:304: MatplotlibDeprecationWarning: \n",
      "The colNum attribute was deprecated in Matplotlib 3.2 and will be removed two minor releases later. Use ax.get_subplotspec().colspan.start instead.\n",
      "  if not layout[ax.rowNum + 1, ax.colNum]:\n"
     ]
    },
    {
     "data": {
      "text/plain": [
       "array([[<AxesSubplot:xlabel='Date'>],\n",
       "       [<AxesSubplot:xlabel='Date'>],\n",
       "       [<AxesSubplot:xlabel='Date'>]], dtype=object)"
      ]
     },
     "execution_count": 8,
     "metadata": {},
     "output_type": "execute_result"
    },
    {
     "data": {
      "image/png": "[encoded data removed]",
      "text/plain": [
       "<Figure size 216x576 with 3 Axes>"
      ]
     },
     "metadata": {
      "needs_background": "light"
     },
     "output_type": "display_data"
    }
   ],
   "source": [
    "df[['North', 'East', 'Vertical']].plot(subplots=True, \n",
    "                                       layout=(3, 1), figsize=(3, 8), \n",
    "                                       linestyle='', marker=',',\n",
    "                                       sharex=True)"
   ]
  },
  {
   "cell_type": "code",
   "execution_count": 9,
   "metadata": {},
   "outputs": [
    {
     "data": {
      "text/plain": [
       "<AxesSubplot:ylabel='Frequency'>"
      ]
     },
     "execution_count": 9,
     "metadata": {},
     "output_type": "execute_result"
    },
    {
     "data": {
      "image/png": "[encoded data removed]",
      "text/plain": [
       "<Figure size 432x288 with 1 Axes>"
      ]
     },
     "metadata": {
      "needs_background": "light"
     },
     "output_type": "display_data"
    }
   ],
   "source": [
    "df[['North', 'East', 'Vertical']].plot.hist(alpha=0.5, bins=30)"
   ]
  },
  {
   "cell_type": "code",
   "execution_count": 10,
   "metadata": {},
   "outputs": [
    {
     "data": {
      "image/png": "[encoded data removed]",
      "text/plain": [
       "<Figure size 432x288 with 2 Axes>"
      ]
     },
     "metadata": {
      "needs_background": "light"
     },
     "output_type": "display_data"
    }
   ],
   "source": [
    "df.plot.hexbin(x='East', y='North', C='Vertical')\n",
    "plt.xlim([-50, 50])\n",
    "plt.ylim([-50, 50])\n",
    "plt.tight_layout()"
   ]
  },
  {
   "cell_type": "code",
   "execution_count": 11,
   "metadata": {},
   "outputs": [
    {
     "data": {
      "text/plain": [
       "Timedelta('8419 days 00:00:00')"
      ]
     },
     "execution_count": 11,
     "metadata": {},
     "output_type": "execute_result"
    }
   ],
   "source": [
    "df.index[-1] - df.index[0]"
   ]
  },
  {
   "cell_type": "markdown",
   "metadata": {},
   "source": [
    "# Read in SONEL"
   ]
  },
  {
   "cell_type": "code",
   "execution_count": 12,
   "metadata": {},
   "outputs": [
    {
     "name": "stdout",
     "output_type": "stream",
     "text": [
      "data/GPS/dNUUK_43013M001_NGL14.neu\n"
     ]
    }
   ],
   "source": [
    "station = 'NUUK'\n",
    "datum = 'NGL14'\n",
    "ext = '.neu'\n",
    "file_in = 'd' + station + '_43013M001_' + datum + ext\n",
    "dir_in = 'data/GPS'\n",
    "filepath = os.path.join(dir_in, file_in)\n",
    "print(filepath)"
   ]
  },
  {
   "cell_type": "code",
   "execution_count": 13,
   "metadata": {},
   "outputs": [
    {
     "data": {
      "text/html": [
       "<div>\n",
       "<style scoped>\n",
       "    .dataframe tbody tr th:only-of-type {\n",
       "        vertical-align: middle;\n",
       "    }\n",
       "\n",
       "    .dataframe tbody tr th {\n",
       "        vertical-align: top;\n",
       "    }\n",
       "\n",
       "    .dataframe thead th {\n",
       "        text-align: right;\n",
       "    }\n",
       "</style>\n",
       "<table border=\"1\" class=\"dataframe\">\n",
       "  <thead>\n",
       "    <tr style=\"text-align: right;\">\n",
       "      <th></th>\n",
       "      <th>Year</th>\n",
       "      <th>DN</th>\n",
       "      <th>DE</th>\n",
       "      <th>DU</th>\n",
       "      <th>SDN</th>\n",
       "      <th>SDE</th>\n",
       "      <th>SDU</th>\n",
       "    </tr>\n",
       "  </thead>\n",
       "  <tbody>\n",
       "    <tr>\n",
       "      <th>0</th>\n",
       "      <td>2008.7502</td>\n",
       "      <td>-0.0470</td>\n",
       "      <td>0.0758</td>\n",
       "      <td>-0.0311</td>\n",
       "      <td>0.0033</td>\n",
       "      <td>0.0023</td>\n",
       "      <td>0.0054</td>\n",
       "    </tr>\n",
       "    <tr>\n",
       "      <th>1</th>\n",
       "      <td>2008.7556</td>\n",
       "      <td>-0.0473</td>\n",
       "      <td>0.0769</td>\n",
       "      <td>-0.0288</td>\n",
       "      <td>0.0021</td>\n",
       "      <td>0.0014</td>\n",
       "      <td>0.0035</td>\n",
       "    </tr>\n",
       "    <tr>\n",
       "      <th>2</th>\n",
       "      <td>2008.7584</td>\n",
       "      <td>-0.0463</td>\n",
       "      <td>0.0764</td>\n",
       "      <td>-0.0275</td>\n",
       "      <td>0.0021</td>\n",
       "      <td>0.0014</td>\n",
       "      <td>0.0035</td>\n",
       "    </tr>\n",
       "    <tr>\n",
       "      <th>3</th>\n",
       "      <td>2009.0021</td>\n",
       "      <td>-0.0431</td>\n",
       "      <td>0.0743</td>\n",
       "      <td>-0.0350</td>\n",
       "      <td>0.0021</td>\n",
       "      <td>0.0014</td>\n",
       "      <td>0.0034</td>\n",
       "    </tr>\n",
       "    <tr>\n",
       "      <th>4</th>\n",
       "      <td>2009.0048</td>\n",
       "      <td>-0.0426</td>\n",
       "      <td>0.0744</td>\n",
       "      <td>-0.0365</td>\n",
       "      <td>0.0021</td>\n",
       "      <td>0.0014</td>\n",
       "      <td>0.0035</td>\n",
       "    </tr>\n",
       "    <tr>\n",
       "      <th>...</th>\n",
       "      <td>...</td>\n",
       "      <td>...</td>\n",
       "      <td>...</td>\n",
       "      <td>...</td>\n",
       "      <td>...</td>\n",
       "      <td>...</td>\n",
       "      <td>...</td>\n",
       "    </tr>\n",
       "    <tr>\n",
       "      <th>2829</th>\n",
       "      <td>2019.4497</td>\n",
       "      <td>0.0794</td>\n",
       "      <td>-0.1144</td>\n",
       "      <td>-0.0170</td>\n",
       "      <td>0.0021</td>\n",
       "      <td>0.0014</td>\n",
       "      <td>0.0034</td>\n",
       "    </tr>\n",
       "    <tr>\n",
       "      <th>2830</th>\n",
       "      <td>2019.4524</td>\n",
       "      <td>0.0796</td>\n",
       "      <td>-0.1157</td>\n",
       "      <td>-0.0229</td>\n",
       "      <td>0.0021</td>\n",
       "      <td>0.0014</td>\n",
       "      <td>0.0034</td>\n",
       "    </tr>\n",
       "    <tr>\n",
       "      <th>2831</th>\n",
       "      <td>2019.4552</td>\n",
       "      <td>0.0813</td>\n",
       "      <td>-0.1154</td>\n",
       "      <td>-0.0155</td>\n",
       "      <td>0.0021</td>\n",
       "      <td>0.0014</td>\n",
       "      <td>0.0034</td>\n",
       "    </tr>\n",
       "    <tr>\n",
       "      <th>2832</th>\n",
       "      <td>2019.4579</td>\n",
       "      <td>0.0802</td>\n",
       "      <td>-0.1171</td>\n",
       "      <td>-0.0123</td>\n",
       "      <td>0.0020</td>\n",
       "      <td>0.0014</td>\n",
       "      <td>0.0034</td>\n",
       "    </tr>\n",
       "    <tr>\n",
       "      <th>2833</th>\n",
       "      <td>2019.4606</td>\n",
       "      <td>0.0799</td>\n",
       "      <td>-0.1161</td>\n",
       "      <td>-0.0188</td>\n",
       "      <td>0.0021</td>\n",
       "      <td>0.0014</td>\n",
       "      <td>0.0034</td>\n",
       "    </tr>\n",
       "  </tbody>\n",
       "</table>\n",
       "<p>2834 rows × 7 columns</p>\n",
       "</div>"
      ],
      "text/plain": [
       "           Year      DN      DE      DU     SDN     SDE     SDU\n",
       "0     2008.7502 -0.0470  0.0758 -0.0311  0.0033  0.0023  0.0054\n",
       "1     2008.7556 -0.0473  0.0769 -0.0288  0.0021  0.0014  0.0035\n",
       "2     2008.7584 -0.0463  0.0764 -0.0275  0.0021  0.0014  0.0035\n",
       "3     2009.0021 -0.0431  0.0743 -0.0350  0.0021  0.0014  0.0034\n",
       "4     2009.0048 -0.0426  0.0744 -0.0365  0.0021  0.0014  0.0035\n",
       "...         ...     ...     ...     ...     ...     ...     ...\n",
       "2829  2019.4497  0.0794 -0.1144 -0.0170  0.0021  0.0014  0.0034\n",
       "2830  2019.4524  0.0796 -0.1157 -0.0229  0.0021  0.0014  0.0034\n",
       "2831  2019.4552  0.0813 -0.1154 -0.0155  0.0021  0.0014  0.0034\n",
       "2832  2019.4579  0.0802 -0.1171 -0.0123  0.0020  0.0014  0.0034\n",
       "2833  2019.4606  0.0799 -0.1161 -0.0188  0.0021  0.0014  0.0034\n",
       "\n",
       "[2834 rows x 7 columns]"
      ]
     },
     "execution_count": 13,
     "metadata": {},
     "output_type": "execute_result"
    }
   ],
   "source": [
    "# column_names=['Date', 'North', 'East', 'Vertical', 'NorthSTD', 'EastSTD', 'VerticalSTD', 'Quality', 'NaN'] \n",
    "column_names=['Year', 'DN', 'DE', 'DU', 'SDN', 'SDE', 'SDU']\n",
    "df = pd.read_csv(filepath, skiprows=22, header=None, delimiter='\\s+', names=column_names)\n",
    "# dt = pd.to_datetime(df['Year'])\n",
    "# df.index = pd.DatetimeIndex(dt)\n",
    "# df = df.drop('Date', axis=1)\n",
    "# df = df.drop('NaN', axis=1)\n",
    "df"
   ]
  },
  {
   "cell_type": "code",
   "execution_count": 14,
   "metadata": {},
   "outputs": [],
   "source": [
    "# # if necessary\n",
    "# df['Year'] = df['Year'].astype(str)\n",
    "# a = df['Year'].str[:4]\n",
    "# b = df['Year'].str[5:].map(d)\n",
    "\n",
    "# dt = pd.to_datetime(a + '.' + b, format='%Y.%m')\n",
    "# print(dt)"
   ]
  },
  {
   "cell_type": "code",
   "execution_count": 15,
   "metadata": {},
   "outputs": [
    {
     "name": "stdout",
     "output_type": "stream",
     "text": [
      "count    2834.000000\n",
      "mean     2012.441426\n",
      "std         2.295715\n",
      "min      2008.000000\n",
      "25%      2010.000000\n",
      "50%      2012.000000\n",
      "75%      2014.000000\n",
      "max      2019.000000\n",
      "Name: Year, dtype: float64\n",
      "count    2834.000000\n",
      "mean      179.447777\n",
      "std       103.658786\n",
      "min         1.000000\n",
      "25%        91.000000\n",
      "50%       178.500000\n",
      "75%       267.000000\n",
      "max       365.000000\n",
      "Name: Year, dtype: float64\n"
     ]
    }
   ],
   "source": [
    "year = df['Year'].astype(int)\n",
    "print (year.describe())\n",
    "\n",
    "# b = df['Year'].sub(a).add(1/12).mul(12).round(0).astype(int)\n",
    "doy = ((df['Year'] - year) * 365).astype(int) + 1\n",
    "print (doy.describe())"
   ]
  },
  {
   "cell_type": "code",
   "execution_count": 16,
   "metadata": {},
   "outputs": [
    {
     "data": {
      "text/plain": [
       "366     2009\n",
       "726     2010\n",
       "1081    2011\n",
       "1446    2012\n",
       "1801    2013\n",
       "2163    2014\n",
       "2528    2015\n",
       "Name: Year, dtype: int64"
      ]
     },
     "execution_count": 16,
     "metadata": {},
     "output_type": "execute_result"
    }
   ],
   "source": [
    "year[doy==365]"
   ]
  },
  {
   "cell_type": "code",
   "execution_count": 17,
   "metadata": {},
   "outputs": [
    {
     "name": "stdout",
     "output_type": "stream",
     "text": [
      "0      2008-09-30\n",
      "1      2008-10-02\n",
      "2      2008-10-03\n",
      "3      2009-01-01\n",
      "4      2009-01-02\n",
      "          ...    \n",
      "2829   2019-06-14\n",
      "2830   2019-06-15\n",
      "2831   2019-06-16\n",
      "2832   2019-06-17\n",
      "2833   2019-06-18\n",
      "Name: Year, Length: 2834, dtype: datetime64[ns]\n"
     ]
    },
    {
     "data": {
      "text/plain": [
       "<AxesSubplot:>"
      ]
     },
     "execution_count": 17,
     "metadata": {},
     "output_type": "execute_result"
    },
    {
     "data": {
      "image/png": "[encoded data removed]",
      "text/plain": [
       "<Figure size 432x288 with 1 Axes>"
      ]
     },
     "metadata": {
      "needs_background": "light"
     },
     "output_type": "display_data"
    }
   ],
   "source": [
    "c = pd.to_datetime(year.astype(str) + doy.astype(str), format='%Y%j')\n",
    "print(c)\n",
    "c.plot()"
   ]
  },
  {
   "cell_type": "code",
   "execution_count": 18,
   "metadata": {},
   "outputs": [
    {
     "data": {
      "text/plain": [
       "<AxesSubplot:xlabel='Year'>"
      ]
     },
     "execution_count": 18,
     "metadata": {},
     "output_type": "execute_result"
    },
    {
     "data": {
      "image/png": "[encoded data removed]",
      "text/plain": [
       "<Figure size 432x288 with 1 Axes>"
      ]
     },
     "metadata": {
      "needs_background": "light"
     },
     "output_type": "display_data"
    }
   ],
   "source": [
    "# column_names=['Date', 'North', 'East', 'Vertical', 'NorthSTD', 'EastSTD', 'VerticalSTD', 'Quality', 'NaN'] \n",
    "column_names=['Year', 'DN', 'DE', 'DU', 'SDN', 'SDE', 'SDU']\n",
    "df = pd.read_csv(filepath, skiprows=22, header=None, delimiter='\\s+', names=column_names)\n",
    "year = df['Year'].astype(int)\n",
    "doy = ((df['Year'] - year) * 365).astype(int) + 1\n",
    "dt = pd.to_datetime(year.astype(str) + doy.astype(str), format='%Y%j')\n",
    "df = df.rename(columns={'Year': 'YearDec'})\n",
    "df.index = pd.DatetimeIndex(dt)\n",
    "# df = df.drop('Date', axis=1)\n",
    "# df = df.drop('NaN', axis=1)\n",
    "df[['DU']].plot(linestyle='',marker=',')"
   ]
  },
  {
   "cell_type": "code",
   "execution_count": 19,
   "metadata": {},
   "outputs": [
    {
     "data": {
      "text/plain": [
       "<AxesSubplot:xlabel='Year'>"
      ]
     },
     "execution_count": 19,
     "metadata": {},
     "output_type": "execute_result"
    },
    {
     "data": {
      "image/png": "[encoded data removed]",
      "text/plain": [
       "<Figure size 432x288 with 1 Axes>"
      ]
     },
     "metadata": {
      "needs_background": "light"
     },
     "output_type": "display_data"
    }
   ],
   "source": [
    "def test_read_GPS_SONEL(sonel_file):\n",
    "    column_names=['Year', 'DN', 'DE', 'DU', 'SDN', 'SDE', 'SDU']\n",
    "    df = pd.read_csv(sonel_file, skiprows=22, header=None, delimiter='\\s+', names=column_names)\n",
    "    year = df['Year'].astype(int)\n",
    "    doy = ((df['Year'] - year) * 365).astype(int) + 1\n",
    "    dt = pd.to_datetime(year.astype(str) + doy.astype(str), format='%Y%j')\n",
    "    df = df.rename(columns={'Year': 'YearDec'})\n",
    "    df.index = pd.DatetimeIndex(dt)\n",
    "\n",
    "    return df\n",
    "\n",
    "df_sonel = test_read_GPS_SONEL(filepath)\n",
    "\n",
    "df_sonel[['DU']].plot(linestyle='',marker=',')\n",
    "\n"
   ]
  },
  {
   "cell_type": "markdown",
   "metadata": {},
   "source": [
    "Now using function imported from file..."
   ]
  },
  {
   "cell_type": "code",
   "execution_count": 20,
   "metadata": {},
   "outputs": [
    {
     "data": {
      "text/plain": [
       "<AxesSubplot:xlabel='Year'>"
      ]
     },
     "execution_count": 20,
     "metadata": {},
     "output_type": "execute_result"
    },
    {
     "data": {
      "image/png": "[encoded data removed]",
      "text/plain": [
       "<Figure size 432x288 with 1 Axes>"
      ]
     },
     "metadata": {
      "needs_background": "light"
     },
     "output_type": "display_data"
    }
   ],
   "source": [
    "df_sonel = read_GPS_SONEL(filepath)\n",
    "\n",
    "df_sonel[['Vertical']].plot(linestyle='',marker=',')"
   ]
  },
  {
   "cell_type": "code",
   "execution_count": null,
   "metadata": {},
   "outputs": [],
   "source": []
  },
  {
   "cell_type": "markdown",
   "metadata": {},
   "source": [
    "# Resample to MONTHLY data"
   ]
  },
  {
   "cell_type": "code",
   "execution_count": 21,
   "metadata": {},
   "outputs": [
    {
     "data": {
      "text/plain": [
       "<AxesSubplot:xlabel='Year'>"
      ]
     },
     "execution_count": 21,
     "metadata": {},
     "output_type": "execute_result"
    },
    {
     "data": {
      "image/png": "[encoded data removed]",
      "text/plain": [
       "<Figure size 432x288 with 1 Axes>"
      ]
     },
     "metadata": {
      "needs_background": "light"
     },
     "output_type": "display_data"
    }
   ],
   "source": [
    "df_monthly = df.dropna().resample('1M').mean()\n",
    "df_monthly.plot()"
   ]
  },
  {
   "cell_type": "markdown",
   "metadata": {},
   "source": [
    "## Loop through files"
   ]
  },
  {
   "cell_type": "code",
   "execution_count": 22,
   "metadata": {},
   "outputs": [],
   "source": [
    "# station = 'NUUK'\n",
    "datum = 'NGL14'\n",
    "ext = '.neu'\n",
    "# file_in = 'd' + station + '_43013M001_' + datum + ext\n",
    "dir_in = 'data/GPS'"
   ]
  },
  {
   "cell_type": "code",
   "execution_count": 35,
   "metadata": {},
   "outputs": [
    {
     "name": "stdout",
     "output_type": "stream",
     "text": [
      "data/GPS/d*NGL14.neu\n"
     ]
    }
   ],
   "source": [
    "\n",
    "pattern = os.path.join(dir_in, 'd*' + datum + ext)\n",
    "print(pattern)"
   ]
  },
  {
   "cell_type": "code",
   "execution_count": 38,
   "metadata": {},
   "outputs": [
    {
     "name": "stdout",
     "output_type": "stream",
     "text": [
      "data/GPS/d*.neu\n",
      "['data/GPS/dAB44_99999X006_ULR6B.neu', 'data/GPS/dAB48_XXXXXXXXX_JPL14.neu', 'data/GPS/dAB50_99999X007_ULR6B.neu', 'data/GPS/dALRT_40162M001_ULR6B.neu', 'data/GPS/dANC2_XXXXXXXXX_NGL14.neu', 'data/GPS/dCHUR_40128M002_ULR6B.neu', 'data/GPS/dEYAC_99999X043_ULR6B.neu', 'data/GPS/dJNU1_49519S001_NGL14.neu', 'data/GPS/dKEN5_XXXXXXXXX_NGL14.neu', 'data/GPS/dNUUK_43013M001_NGL14.neu', 'data/GPS/dQAQ1_43007M001_ULR6B.neu', 'data/GPS/dQIKI_40166M001_ULR6B.neu', 'data/GPS/dRESO_40149M001_ULR6B.neu', 'data/GPS/dSCOR_43006M002_ULR6B.neu', 'data/GPS/dTBON_XXXXXXXXX_NGL14.neu', 'data/GPS/dTHU1_43001M001_ULR6B.neu', 'data/GPS/dTHU2_43001M002_ULR6B.neu', 'data/GPS/dTHU3_43001M002_ULR6B.neu']\n"
     ]
    }
   ],
   "source": [
    "pattern = os.path.join(dir_in, 'd*'+ ext)\n",
    "print(pattern)\n",
    "\n",
    "filenames = sorted(glob.glob(pattern))  # , key=alphanum_key)\n",
    "print(filenames)\n"
   ]
  },
  {
   "cell_type": "code",
   "execution_count": 25,
   "metadata": {},
   "outputs": [
    {
     "name": "stdout",
     "output_type": "stream",
     "text": [
      "\n",
      "\n",
      "data/GPS/dANC2_XXXXXXXXX_NGL14.neu\n",
      "            North  East  Vertical  NorthSTD  EastSTD  VerticalSTD\n",
      "Year                                                             \n",
      "2009-12-10   85.6  71.0     -35.6       2.2      1.4          3.1\n",
      "2009-12-11   85.8  68.9     -35.4       2.2      1.4          3.2\n",
      "2009-12-12   88.6  71.4     -35.9       2.2      1.4          3.2\n",
      "2009-12-13   87.0  71.0     -33.2       2.2      1.4          3.1\n",
      "2009-12-14   86.5  70.9     -30.4       2.2      1.4          3.1\n",
      "\n",
      "\n",
      "data/GPS/dJNU1_49519S001_NGL14.neu\n",
      "            North   East  Vertical  NorthSTD  EastSTD  VerticalSTD\n",
      "Year                                                              \n",
      "2003-01-27  124.8  112.0    -168.5       3.4      2.5          4.6\n",
      "2003-01-28  127.2  112.2    -164.3       2.7      2.0          3.6\n",
      "2003-01-29  127.0  105.3    -162.1       2.8      2.1          3.6\n",
      "2003-01-30  125.8  109.2    -164.5       3.3      2.5          4.3\n",
      "2003-02-01  127.7  110.0    -162.6       2.7      2.0          3.6\n",
      "\n",
      "\n",
      "data/GPS/dKEN5_XXXXXXXXX_NGL14.neu\n",
      "            North  East  Vertical  NorthSTD  EastSTD  VerticalSTD\n",
      "Year                                                             \n",
      "1996-01-31  355.9  52.9    -334.1       2.9      1.8          3.9\n",
      "1996-02-01  354.0  54.0    -331.9       3.0      1.9          4.2\n",
      "1996-02-03  351.9  52.8    -321.6       2.9      1.8          4.0\n",
      "1996-02-04  350.6  51.8    -313.5       3.0      1.9          4.1\n",
      "1996-02-05  353.9  52.4    -306.7       3.0      1.9          4.1\n",
      "\n",
      "\n",
      "data/GPS/dNUUK_43013M001_NGL14.neu\n",
      "            North  East  Vertical  NorthSTD  EastSTD  VerticalSTD\n",
      "Year                                                             \n",
      "2008-09-30  -47.0  75.8     -31.1       3.3      2.3          5.4\n",
      "2008-10-02  -47.3  76.9     -28.8       2.1      1.4          3.5\n",
      "2008-10-03  -46.3  76.4     -27.5       2.1      1.4          3.5\n",
      "2009-01-01  -43.1  74.3     -35.0       2.1      1.4          3.4\n",
      "2009-01-02  -42.6  74.4     -36.5       2.1      1.4          3.5\n",
      "\n",
      "\n",
      "data/GPS/dTBON_XXXXXXXXX_NGL14.neu\n",
      "            North   East  Vertical  NorthSTD  EastSTD  VerticalSTD\n",
      "Year                                                              \n",
      "2008-04-26   81.7  121.5     -20.8       2.4      1.5          3.4\n",
      "2008-04-27   84.8  120.9     -27.0       2.4      1.5          3.4\n",
      "2008-04-28   84.0  121.1     -28.1       2.4      1.5          3.4\n",
      "2008-04-29   82.5  121.1     -27.0       2.3      1.4          3.4\n",
      "2008-04-30   82.7  121.5     -25.5       2.3      1.4          3.4\n"
     ]
    }
   ],
   "source": [
    "for f, filepath in enumerate(filenames):\n",
    "    df = read_GPS_SONEL(filepath)\n",
    "    print(f'\\n\\n{filepath}')\n",
    "    print(df.head())"
   ]
  },
  {
   "cell_type": "code",
   "execution_count": 46,
   "metadata": {},
   "outputs": [],
   "source": [
    "# just a single station\n",
    "filepath = os.path.join(dir_in, 'dNUUK_43013M001_NGL14' + ext)\n",
    "df = read_GPS_SONEL(filepath)"
   ]
  },
  {
   "cell_type": "markdown",
   "metadata": {},
   "source": [
    "### write some test functions for linear regression and plotting"
   ]
  },
  {
   "cell_type": "code",
   "execution_count": 47,
   "metadata": {},
   "outputs": [],
   "source": [
    "def test_calc_OLS(df, var):\n",
    "    \n",
    "    x, y = np.arange(len(df[var].dropna())), df[var].dropna()\n",
    "    x = sm.add_constant(x)\n",
    "    model = sm.OLS(y, x)\n",
    "    res = model.fit()\n",
    "    \n",
    "    return res\n",
    "\n",
    "def test_plot_OLS_overlay(df, res, site, var, data_units, simpletrend=True):\n",
    "    fig, ax = plt.subplots(1, 1, figsize=(12,6));\n",
    "    ax.plot(df[var].dropna().index, df[var].dropna().values, \n",
    "            label='Data', marker=',', linestyle='', color='black')\n",
    "    \n",
    "    ## Plot linea model\n",
    "    if simpletrend:\n",
    "        ax.plot((df[var].index[0], df[var].index[-1]), \n",
    "            (res.params.x1*1 + res.params.const, res.params.x1*df.shape[0] + res.params.const),\n",
    "               label='Trend', linestyle='--', color='purple')\n",
    "    else:\n",
    "            ax.plot(df[var].index, [res.params.x1*i + res.params.const for i in np.arange(len(df[var]))])\n",
    "\n",
    "    ## zero line\n",
    "#     ax.plot((df[var].index[0], df[var].index[-1]), (0, 0), 'k')\n",
    "    \n",
    "    ## customize\n",
    "#     ax.set_title(f\"Trend = {res.params.x1 * 1000:.2f} mm/yr\");\n",
    "    ax.set_ylabel(data_units)\n",
    "    plt.suptitle(f\"{site}\")\n",
    "    plt.legend()\n",
    "    plt.savefig(f'figs/test_GPS_OLS_{site}.png')\n",
    "    \n",
    "    \n",
    "res = test_calc_OLS(df, 'Vertical')"
   ]
  },
  {
   "cell_type": "code",
   "execution_count": 48,
   "metadata": {},
   "outputs": [
    {
     "data": {
      "image/png": "[encoded data removed]",
      "text/plain": [
       "<Figure size 864x432 with 1 Axes>"
      ]
     },
     "metadata": {
      "needs_background": "light"
     },
     "output_type": "display_data"
    }
   ],
   "source": [
    "# test_plot_OLS_overlay(df, res, filepath[-24:-20], 'DU', 'meters')\n",
    "from tidegauge_functions import plot_OLS_overlay\n",
    "\n",
    "plot_OLS_overlay(df, res, filepath[-24:-20], 'Vertical', 'mm')"
   ]
  },
  {
   "cell_type": "markdown",
   "metadata": {},
   "source": [
    "## For Nuuk"
   ]
  },
  {
   "cell_type": "code",
   "execution_count": 80,
   "metadata": {},
   "outputs": [
    {
     "data": {
      "text/html": [
       "<div>\n",
       "<style scoped>\n",
       "    .dataframe tbody tr th:only-of-type {\n",
       "        vertical-align: middle;\n",
       "    }\n",
       "\n",
       "    .dataframe tbody tr th {\n",
       "        vertical-align: top;\n",
       "    }\n",
       "\n",
       "    .dataframe thead th {\n",
       "        text-align: right;\n",
       "    }\n",
       "</style>\n",
       "<table border=\"1\" class=\"dataframe\">\n",
       "  <thead>\n",
       "    <tr style=\"text-align: right;\">\n",
       "      <th></th>\n",
       "      <th>North</th>\n",
       "      <th>East</th>\n",
       "      <th>Vertical</th>\n",
       "      <th>NorthSTD</th>\n",
       "      <th>EastSTD</th>\n",
       "      <th>VerticalSTD</th>\n",
       "    </tr>\n",
       "    <tr>\n",
       "      <th>Year</th>\n",
       "      <th></th>\n",
       "      <th></th>\n",
       "      <th></th>\n",
       "      <th></th>\n",
       "      <th></th>\n",
       "      <th></th>\n",
       "    </tr>\n",
       "  </thead>\n",
       "  <tbody>\n",
       "    <tr>\n",
       "      <th>2008-09-30</th>\n",
       "      <td>-47.0</td>\n",
       "      <td>75.8</td>\n",
       "      <td>-31.1</td>\n",
       "      <td>3.3</td>\n",
       "      <td>2.3</td>\n",
       "      <td>5.4</td>\n",
       "    </tr>\n",
       "    <tr>\n",
       "      <th>2008-10-02</th>\n",
       "      <td>-47.3</td>\n",
       "      <td>76.9</td>\n",
       "      <td>-28.8</td>\n",
       "      <td>2.1</td>\n",
       "      <td>1.4</td>\n",
       "      <td>3.5</td>\n",
       "    </tr>\n",
       "    <tr>\n",
       "      <th>2008-10-03</th>\n",
       "      <td>-46.3</td>\n",
       "      <td>76.4</td>\n",
       "      <td>-27.5</td>\n",
       "      <td>2.1</td>\n",
       "      <td>1.4</td>\n",
       "      <td>3.5</td>\n",
       "    </tr>\n",
       "    <tr>\n",
       "      <th>2009-01-01</th>\n",
       "      <td>-43.1</td>\n",
       "      <td>74.3</td>\n",
       "      <td>-35.0</td>\n",
       "      <td>2.1</td>\n",
       "      <td>1.4</td>\n",
       "      <td>3.4</td>\n",
       "    </tr>\n",
       "    <tr>\n",
       "      <th>2009-01-02</th>\n",
       "      <td>-42.6</td>\n",
       "      <td>74.4</td>\n",
       "      <td>-36.5</td>\n",
       "      <td>2.1</td>\n",
       "      <td>1.4</td>\n",
       "      <td>3.5</td>\n",
       "    </tr>\n",
       "    <tr>\n",
       "      <th>...</th>\n",
       "      <td>...</td>\n",
       "      <td>...</td>\n",
       "      <td>...</td>\n",
       "      <td>...</td>\n",
       "      <td>...</td>\n",
       "      <td>...</td>\n",
       "    </tr>\n",
       "    <tr>\n",
       "      <th>2019-06-14</th>\n",
       "      <td>79.4</td>\n",
       "      <td>-114.4</td>\n",
       "      <td>-17.0</td>\n",
       "      <td>2.1</td>\n",
       "      <td>1.4</td>\n",
       "      <td>3.4</td>\n",
       "    </tr>\n",
       "    <tr>\n",
       "      <th>2019-06-15</th>\n",
       "      <td>79.6</td>\n",
       "      <td>-115.7</td>\n",
       "      <td>-22.9</td>\n",
       "      <td>2.1</td>\n",
       "      <td>1.4</td>\n",
       "      <td>3.4</td>\n",
       "    </tr>\n",
       "    <tr>\n",
       "      <th>2019-06-16</th>\n",
       "      <td>81.3</td>\n",
       "      <td>-115.4</td>\n",
       "      <td>-15.5</td>\n",
       "      <td>2.1</td>\n",
       "      <td>1.4</td>\n",
       "      <td>3.4</td>\n",
       "    </tr>\n",
       "    <tr>\n",
       "      <th>2019-06-17</th>\n",
       "      <td>80.2</td>\n",
       "      <td>-117.1</td>\n",
       "      <td>-12.3</td>\n",
       "      <td>2.0</td>\n",
       "      <td>1.4</td>\n",
       "      <td>3.4</td>\n",
       "    </tr>\n",
       "    <tr>\n",
       "      <th>2019-06-18</th>\n",
       "      <td>79.9</td>\n",
       "      <td>-116.1</td>\n",
       "      <td>-18.8</td>\n",
       "      <td>2.1</td>\n",
       "      <td>1.4</td>\n",
       "      <td>3.4</td>\n",
       "    </tr>\n",
       "  </tbody>\n",
       "</table>\n",
       "<p>2834 rows × 6 columns</p>\n",
       "</div>"
      ],
      "text/plain": [
       "            North   East  Vertical  NorthSTD  EastSTD  VerticalSTD\n",
       "Year                                                              \n",
       "2008-09-30  -47.0   75.8     -31.1       3.3      2.3          5.4\n",
       "2008-10-02  -47.3   76.9     -28.8       2.1      1.4          3.5\n",
       "2008-10-03  -46.3   76.4     -27.5       2.1      1.4          3.5\n",
       "2009-01-01  -43.1   74.3     -35.0       2.1      1.4          3.4\n",
       "2009-01-02  -42.6   74.4     -36.5       2.1      1.4          3.5\n",
       "...           ...    ...       ...       ...      ...          ...\n",
       "2019-06-14   79.4 -114.4     -17.0       2.1      1.4          3.4\n",
       "2019-06-15   79.6 -115.7     -22.9       2.1      1.4          3.4\n",
       "2019-06-16   81.3 -115.4     -15.5       2.1      1.4          3.4\n",
       "2019-06-17   80.2 -117.1     -12.3       2.0      1.4          3.4\n",
       "2019-06-18   79.9 -116.1     -18.8       2.1      1.4          3.4\n",
       "\n",
       "[2834 rows x 6 columns]"
      ]
     },
     "execution_count": 80,
     "metadata": {},
     "output_type": "execute_result"
    }
   ],
   "source": [
    "df_out = df.where(df['Vertical']>-50, df['Vertical']+100, axis=0)\\\n",
    ".where(df['Vertical']<100, axis=0)\n",
    "df_out"
   ]
  },
  {
   "cell_type": "code",
   "execution_count": 81,
   "metadata": {},
   "outputs": [
    {
     "data": {
      "text/plain": [
       "<AxesSubplot:xlabel='Year'>"
      ]
     },
     "execution_count": 81,
     "metadata": {},
     "output_type": "execute_result"
    },
    {
     "data": {
      "image/png": "[encoded data removed]",
      "text/plain": [
       "<Figure size 432x288 with 1 Axes>"
      ]
     },
     "metadata": {
      "needs_background": "light"
     },
     "output_type": "display_data"
    }
   ],
   "source": [
    "df_out['Vertical'].plot(linestyle='None', marker='.')"
   ]
  },
  {
   "cell_type": "code",
   "execution_count": 82,
   "metadata": {},
   "outputs": [],
   "source": [
    "columns = ['DATETIME', 'vertical_mm']\n",
    "out_array = np.array([df_out.index.strftime(\"%Y-%m-%d %H:%M\"),\n",
    "                      df_out['Vertical']])\n",
    "\n",
    "df_out = pd.DataFrame(data=out_array.T, columns=columns) #, index=time)\n",
    "df_out = df_out.apply(pd.to_numeric, errors='ignore')\n",
    "# df.index = pd.to_datetime(trajectory.index)\n",
    "df_out.to_csv('data/gps_Nuuk_vertical.csv')  # , na_rep=\" \")"
   ]
  },
  {
   "cell_type": "code",
   "execution_count": 28,
   "metadata": {},
   "outputs": [
    {
     "data": {
      "image/png": "[encoded data removed]",
      "text/plain": [
       "<Figure size 864x432 with 1 Axes>"
      ]
     },
     "metadata": {
      "needs_background": "light"
     },
     "output_type": "display_data"
    }
   ],
   "source": [
    "def test_plot_OLS_overlay_Nuuk(df, res, site, var, data_units, simpletrend=True):\n",
    "    fig, ax = plt.subplots(1, 1, figsize=(12,6));\n",
    "    ax.plot(df[var].dropna().index, df[var].dropna().values, \n",
    "            label='Data', marker='.', linestyle='', color='black')\n",
    "    \n",
    "    ## Plot linea model\n",
    "    if simpletrend:\n",
    "        ax.plot((df[var].index[0], df[var].index[-1]), \n",
    "            (res.params.x1*1 + res.params.const, res.params.x1*df.shape[0] + res.params.const),\n",
    "               label='Trend', linestyle='--', lw=4, color='purple')\n",
    "    else:\n",
    "            ax.plot(df[var].index, [res.params.x1*i + res.params.const for i in np.arange(len(df[var]))])\n",
    "\n",
    "    ## zero line\n",
    "#     ax.plot((df[var].index[0], df[var].index[-1]), (0, 0), 'k')\n",
    "    \n",
    "    ## customize\n",
    "    period = df.index.year.value_counts().max()\n",
    "    ax.set_title(f\"Trend = {res.params.x1 * period:.2f} mm/yr\");\n",
    "    \n",
    "    ax.set_ylim([-30, 30])\n",
    "    ax.set_ylabel(data_units)\n",
    "    plt.suptitle(f\"GPS Vertical Uplift: {site}\")\n",
    "    plt.legend()\n",
    "    plt.savefig(f'figs/test_GPS_OLS_{site}.png')\n",
    "    \n",
    "    \n",
    "test_plot_OLS_overlay_Nuuk(df_sonel.loc['2012-01-01':'2017-01-01'], res, 'Nuuk', 'Vertical', 'mm')"
   ]
  },
  {
   "cell_type": "markdown",
   "metadata": {},
   "source": [
    "%%% as pointed out by isaiah we need to convert time units for our trends"
   ]
  },
  {
   "cell_type": "code",
   "execution_count": 42,
   "metadata": {},
   "outputs": [
    {
     "name": "stdout",
     "output_type": "stream",
     "text": [
      "7.0670 mm/yr\n"
     ]
    }
   ],
   "source": [
    "def convert_trend_toyearly(df, res):\n",
    "    period = df.index.year.value_counts().max()\n",
    "    yearlytrend = res.params.x1 * period\n",
    "    \n",
    "    return yearlytrend\n",
    "\n",
    "trend = convert_trend_toyearly(df_sonel, res)\n",
    "print(f'{trend:1.4f} mm/yr')\n"
   ]
  },
  {
   "cell_type": "code",
   "execution_count": 44,
   "metadata": {},
   "outputs": [
    {
     "data": {
      "text/html": [
       "<div>\n",
       "<style scoped>\n",
       "    .dataframe tbody tr th:only-of-type {\n",
       "        vertical-align: middle;\n",
       "    }\n",
       "\n",
       "    .dataframe tbody tr th {\n",
       "        vertical-align: top;\n",
       "    }\n",
       "\n",
       "    .dataframe thead th {\n",
       "        text-align: right;\n",
       "    }\n",
       "</style>\n",
       "<table border=\"1\" class=\"dataframe\">\n",
       "  <thead>\n",
       "    <tr style=\"text-align: right;\">\n",
       "      <th></th>\n",
       "      <th>North</th>\n",
       "      <th>East</th>\n",
       "      <th>Vertical</th>\n",
       "      <th>NorthSTD</th>\n",
       "      <th>EastSTD</th>\n",
       "      <th>VerticalSTD</th>\n",
       "    </tr>\n",
       "    <tr>\n",
       "      <th>Year</th>\n",
       "      <th></th>\n",
       "      <th></th>\n",
       "      <th></th>\n",
       "      <th></th>\n",
       "      <th></th>\n",
       "      <th></th>\n",
       "    </tr>\n",
       "  </thead>\n",
       "  <tbody>\n",
       "    <tr>\n",
       "      <th>1998-11-15</th>\n",
       "      <td>-27.6</td>\n",
       "      <td>128.2</td>\n",
       "      <td>-45.7</td>\n",
       "      <td>2.7</td>\n",
       "      <td>2.5</td>\n",
       "      <td>8.0</td>\n",
       "    </tr>\n",
       "    <tr>\n",
       "      <th>1998-11-16</th>\n",
       "      <td>-25.1</td>\n",
       "      <td>123.1</td>\n",
       "      <td>-43.8</td>\n",
       "      <td>3.1</td>\n",
       "      <td>3.3</td>\n",
       "      <td>8.5</td>\n",
       "    </tr>\n",
       "    <tr>\n",
       "      <th>1998-11-17</th>\n",
       "      <td>-26.5</td>\n",
       "      <td>125.1</td>\n",
       "      <td>-40.7</td>\n",
       "      <td>2.6</td>\n",
       "      <td>2.5</td>\n",
       "      <td>8.8</td>\n",
       "    </tr>\n",
       "    <tr>\n",
       "      <th>1998-11-19</th>\n",
       "      <td>-26.6</td>\n",
       "      <td>127.3</td>\n",
       "      <td>-41.9</td>\n",
       "      <td>2.7</td>\n",
       "      <td>2.7</td>\n",
       "      <td>8.3</td>\n",
       "    </tr>\n",
       "    <tr>\n",
       "      <th>1998-11-20</th>\n",
       "      <td>-25.3</td>\n",
       "      <td>126.3</td>\n",
       "      <td>-34.8</td>\n",
       "      <td>2.8</td>\n",
       "      <td>2.7</td>\n",
       "      <td>8.4</td>\n",
       "    </tr>\n",
       "    <tr>\n",
       "      <th>...</th>\n",
       "      <td>...</td>\n",
       "      <td>...</td>\n",
       "      <td>...</td>\n",
       "      <td>...</td>\n",
       "      <td>...</td>\n",
       "      <td>...</td>\n",
       "    </tr>\n",
       "    <tr>\n",
       "      <th>2013-12-26</th>\n",
       "      <td>46.2</td>\n",
       "      <td>-213.4</td>\n",
       "      <td>71.8</td>\n",
       "      <td>2.5</td>\n",
       "      <td>2.6</td>\n",
       "      <td>6.7</td>\n",
       "    </tr>\n",
       "    <tr>\n",
       "      <th>2013-12-27</th>\n",
       "      <td>44.2</td>\n",
       "      <td>-216.5</td>\n",
       "      <td>69.3</td>\n",
       "      <td>3.2</td>\n",
       "      <td>3.3</td>\n",
       "      <td>8.3</td>\n",
       "    </tr>\n",
       "    <tr>\n",
       "      <th>2013-12-28</th>\n",
       "      <td>44.1</td>\n",
       "      <td>-215.8</td>\n",
       "      <td>70.1</td>\n",
       "      <td>2.7</td>\n",
       "      <td>2.5</td>\n",
       "      <td>7.4</td>\n",
       "    </tr>\n",
       "    <tr>\n",
       "      <th>2013-12-29</th>\n",
       "      <td>44.5</td>\n",
       "      <td>-210.7</td>\n",
       "      <td>69.2</td>\n",
       "      <td>2.5</td>\n",
       "      <td>2.4</td>\n",
       "      <td>7.1</td>\n",
       "    </tr>\n",
       "    <tr>\n",
       "      <th>2013-12-30</th>\n",
       "      <td>45.2</td>\n",
       "      <td>-210.9</td>\n",
       "      <td>67.9</td>\n",
       "      <td>2.6</td>\n",
       "      <td>2.5</td>\n",
       "      <td>7.1</td>\n",
       "    </tr>\n",
       "  </tbody>\n",
       "</table>\n",
       "<p>5119 rows × 6 columns</p>\n",
       "</div>"
      ],
      "text/plain": [
       "            North   East  Vertical  NorthSTD  EastSTD  VerticalSTD\n",
       "Year                                                              \n",
       "1998-11-15  -27.6  128.2     -45.7       2.7      2.5          8.0\n",
       "1998-11-16  -25.1  123.1     -43.8       3.1      3.3          8.5\n",
       "1998-11-17  -26.5  125.1     -40.7       2.6      2.5          8.8\n",
       "1998-11-19  -26.6  127.3     -41.9       2.7      2.7          8.3\n",
       "1998-11-20  -25.3  126.3     -34.8       2.8      2.7          8.4\n",
       "...           ...    ...       ...       ...      ...          ...\n",
       "2013-12-26   46.2 -213.4      71.8       2.5      2.6          6.7\n",
       "2013-12-27   44.2 -216.5      69.3       3.2      3.3          8.3\n",
       "2013-12-28   44.1 -215.8      70.1       2.7      2.5          7.4\n",
       "2013-12-29   44.5 -210.7      69.2       2.5      2.4          7.1\n",
       "2013-12-30   45.2 -210.9      67.9       2.6      2.5          7.1\n",
       "\n",
       "[5119 rows x 6 columns]"
      ]
     },
     "execution_count": 44,
     "metadata": {},
     "output_type": "execute_result"
    }
   ],
   "source": [
    "df"
   ]
  },
  {
   "cell_type": "markdown",
   "metadata": {},
   "source": [
    "## Write to CSV"
   ]
  },
  {
   "cell_type": "code",
   "execution_count": 45,
   "metadata": {},
   "outputs": [],
   "source": [
    "columns = ['DATETIME', 'vertical_mm']\n",
    "out_array = np.array([df.index.strftime(\"%Y-%m-%d %H:%M\"),\n",
    "                      df['Vertical']])\n",
    "\n",
    "df_out = pd.DataFrame(data=out_array.T, columns=columns) #, index=time)\n",
    "df_out = df_out.apply(pd.to_numeric, errors='ignore')\n",
    "# df.index = pd.to_datetime(trajectory.index)\n",
    "df_out.to_csv('data/gps_THULE2_vertical.csv')  # , na_rep=\" \")"
   ]
  },
  {
   "cell_type": "code",
   "execution_count": null,
   "metadata": {},
   "outputs": [],
   "source": []
  },
  {
   "cell_type": "markdown",
   "metadata": {},
   "source": [
    "## Loop through each file, save trend, and plot ALL WITH FUNCTIONS"
   ]
  },
  {
   "cell_type": "code",
   "execution_count": 30,
   "metadata": {},
   "outputs": [
    {
     "name": "stdout",
     "output_type": "stream",
     "text": [
      "\n",
      "\n",
      "data/GPS/dANC2_XXXXXXXXX_NGL14.neu\n",
      "f: 0\n",
      "Trend = 6.84 mm/yr\n",
      "\n",
      "\n",
      "data/GPS/dJNU1_49519S001_NGL14.neu\n",
      "f: 1\n",
      "Trend = 49.87 mm/yr\n",
      "\n",
      "\n",
      "data/GPS/dKEN5_XXXXXXXXX_NGL14.neu\n",
      "f: 2\n",
      "Trend = 62.81 mm/yr\n",
      "\n",
      "\n",
      "data/GPS/dNUUK_43013M001_NGL14.neu\n",
      "f: 3\n",
      "Trend = 25.23 mm/yr\n",
      "\n",
      "\n",
      "data/GPS/dTBON_XXXXXXXXX_NGL14.neu\n",
      "f: 4\n",
      "Trend = 12.78 mm/yr\n"
     ]
    },
    {
     "data": {
      "image/png": "[encoded data removed]",
      "text/plain": [
       "<Figure size 864x432 with 1 Axes>"
      ]
     },
     "metadata": {
      "needs_background": "light"
     },
     "output_type": "display_data"
    },
    {
     "data": {
      "image/png": "[encoded data removed]",
      "text/plain": [
       "<Figure size 864x432 with 1 Axes>"
      ]
     },
     "metadata": {
      "needs_background": "light"
     },
     "output_type": "display_data"
    },
    {
     "data": {
      "image/png": "[encoded data removed]",
      "text/plain": [
       "<Figure size 864x432 with 1 Axes>"
      ]
     },
     "metadata": {
      "needs_background": "light"
     },
     "output_type": "display_data"
    },
    {
     "data": {
      "image/png": "[encoded data removed]",
      "text/plain": [
       "<Figure size 864x432 with 1 Axes>"
      ]
     },
     "metadata": {
      "needs_background": "light"
     },
     "output_type": "display_data"
    },
    {
     "data": {
      "image/png": "[encoded data removed]",
      "text/plain": [
       "<Figure size 864x432 with 1 Axes>"
      ]
     },
     "metadata": {
      "needs_background": "light"
     },
     "output_type": "display_data"
    }
   ],
   "source": [
    "sonel_trend_array = np.full(np.shape(filenames)[0], np.nan)\n",
    "site_name_array = []\n",
    "\n",
    "\n",
    "for f, filepath in enumerate(filenames):\n",
    "    print(f'\\n\\n{filepath}')\n",
    "    print(f'f: {f}')\n",
    "    ## ToDo - extract and keep other important thing about each site from the file...Lat/Lon, name, etc.\n",
    "    \n",
    "    # Read in data\n",
    "    df = read_GPS_SONEL(filepath)\n",
    "\n",
    "    # Get trend using linear regression\n",
    "    res = test_calc_OLS(df, 'Vertical')\n",
    "    sonel_trend_array[f] = res.params.x1\n",
    "    \n",
    "    # Save site name\n",
    "    site_name_array.append(filepath[-24:-20])\n",
    "    \n",
    "    print(f\"Trend = {sonel_trend_array[f] * 1000:.2f} mm/yr\")\n",
    "#     print(res.summary())\n",
    "\n",
    "    # Make Plot\n",
    "    test_plot_OLS_overlay(df, res, filepath[-24:-20], 'Vertical', 'mm')\n",
    "#     plot_OLS_overlay(df, res, filepath[-24:-20], 'Vertical', 'mm')\n"
   ]
  },
  {
   "cell_type": "code",
   "execution_count": 31,
   "metadata": {},
   "outputs": [
    {
     "name": "stdout",
     "output_type": "stream",
     "text": [
      "[0.00683767 0.04987282 0.06280627 0.02523198 0.0127793 ]\n",
      "['ANC2', 'JNU1', 'KEN5', 'NUUK', 'TBON']\n"
     ]
    }
   ],
   "source": [
    "print(sonel_trend_array)\n",
    "print(site_name_array)\n"
   ]
  },
  {
   "cell_type": "markdown",
   "metadata": {},
   "source": [
    "## Write to CSV"
   ]
  },
  {
   "cell_type": "code",
   "execution_count": 32,
   "metadata": {},
   "outputs": [],
   "source": [
    "columns = ['TREND_sonel', 'SITE']\n",
    "out_array = np.array([sonel_trend_array,\n",
    "                      site_name_array])\n",
    "\n",
    "df = pd.DataFrame(data=out_array.T, columns=columns) #, index=time)\n",
    "df = df.apply(pd.to_numeric, errors='ignore')\n",
    "# df.index = pd.to_datetime(trajectory.index)\n",
    "df.to_csv('data/trends_OLS_SONEL.csv')  # , na_rep=\" \")"
   ]
  },
  {
   "cell_type": "markdown",
   "metadata": {},
   "source": [
    "### test function to extract some details from a header"
   ]
  },
  {
   "cell_type": "code",
   "execution_count": 33,
   "metadata": {},
   "outputs": [
    {
     "data": {
      "text/plain": [
       "('ANC2', '61.17522442', '-149.98344307', '')"
      ]
     },
     "execution_count": 33,
     "metadata": {},
     "output_type": "execute_result"
    }
   ],
   "source": [
    "def test_get_SONEL_headerinfo(infile):\n",
    "    with open(infile, \"r\") as f:\n",
    "        for line in f:\n",
    "#             print(line)\n",
    "            if 'Site ID' in line:\n",
    "                site = line.split(':')[1].split(' ')[1][:-1]\n",
    "            if 'Latitude' in line:\n",
    "                lat = line.split(':')[1].split(' ')[3]\n",
    "            if 'Longitude' in line:\n",
    "                lon = line.split(':')[1].split(' ')[1]\n",
    "            if 'Height' in line:\n",
    "#                 print(line)\n",
    "#                 print(line.split(':'))\n",
    "                height = line.split(':')[1].split(' ')[2]\n",
    "    \n",
    "#                 lat = line.index('Latitude')\n",
    "#                 numbers.append(line[start:start+13])\n",
    "    \n",
    "    return site, lat, lon, height\n",
    "\n",
    "# site_id, latitude, longitude, height = get_SONEL_headerinfo(filenames[0])\n",
    "test_get_SONEL_headerinfo(filenames[0])"
   ]
  },
  {
   "cell_type": "code",
   "execution_count": 34,
   "metadata": {},
   "outputs": [
    {
     "name": "stdout",
     "output_type": "stream",
     "text": [
      "# Site ID: TBON\n",
      "\n",
      "Height is 93.169\n"
     ]
    },
    {
     "data": {
      "text/plain": [
       "('TBON', '61.17971547', '-149.78514271', '93.169')"
      ]
     },
     "execution_count": 34,
     "metadata": {},
     "output_type": "execute_result"
    }
   ],
   "source": [
    "def test_get_SONEL_headerinfo_v2(infile):\n",
    "    with open(infile, \"r\") as f:\n",
    "        for line in f:\n",
    "#             print(line)\n",
    "            if 'Site ID' in line:\n",
    "                print(line)\n",
    "#                 print(line[line.find(':')+1:].split()[0])\n",
    "                site = line[line.find(':')+1:].split()[0]\n",
    "            if 'Latitude' in line:\n",
    "                lat = line[line.find(':')+1:].split()[0]\n",
    "            if 'Longitude' in line:\n",
    "#                 lon = line.split(':')[1].split(' ')[1]\n",
    "                lon = line[line.find(':')+1:].split()[0]\n",
    "            if 'Height' in line:\n",
    "#                 print('\\n',line)\n",
    "#                 print(line.split(':'))\n",
    "                height = line[line.find(':')+1:].split()[0]\n",
    "                print(f'Height is {height}')\n",
    "                \n",
    "    \n",
    "#                 lat = line.index('Latitude')\n",
    "#                 numbers.append(line[start:start+13])\n",
    "    \n",
    "    return site, lat, lon, height\n",
    "\n",
    "# site_id, latitude, longitude, height = get_SONEL_headerinfo(filenames[0])\n",
    "test_get_SONEL_headerinfo_v2(filenames[-1])"
   ]
  },
  {
   "cell_type": "code",
   "execution_count": null,
   "metadata": {},
   "outputs": [],
   "source": []
  },
  {
   "cell_type": "code",
   "execution_count": null,
   "metadata": {},
   "outputs": [],
   "source": []
  }
 ],
 "metadata": {
  "kernelspec": {
   "display_name": "Python 3",
   "language": "python",
   "name": "python3"
  },
  "language_info": {
   "codemirror_mode": {
    "name": "ipython",
    "version": 3
   },
   "file_extension": ".py",
   "mimetype": "text/x-python",
   "name": "python",
   "nbconvert_exporter": "python",
   "pygments_lexer": "ipython3",
   "version": "3.8.3"
  }
 },
 "nbformat": 4,
 "nbformat_minor": 4
}
