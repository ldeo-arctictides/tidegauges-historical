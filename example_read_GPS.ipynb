{
 "cells": [
  {
   "cell_type": "markdown",
   "metadata": {},
   "source": [
    "# Test Notebook to learn how to read in GPS"
   ]
  },
  {
   "cell_type": "markdown",
   "metadata": {},
   "source": [
    "### Some sources of GPS data\n",
    "\n",
    "Greenland\n",
    "\n",
    "http://go-gnet.org/data/\n",
    "\n",
    "https://www.unavco.org/data/gps-gnss/data-access-methods/data-access-methods.html\n",
    "\n",
    "____"
   ]
  },
  {
   "cell_type": "markdown",
   "metadata": {},
   "source": [
    "### Load in some modules"
   ]
  },
  {
   "cell_type": "code",
   "execution_count": 1,
   "metadata": {
    "scrolled": true
   },
   "outputs": [],
   "source": [
    "import os\n",
    "import numpy as np\n",
    "import pandas as pd\n",
    "import matplotlib.pyplot as plt\n",
    "import statsmodels.api as sm\n",
    "\n",
    "from tidegauge_functions import read_GPS_SONEL\n",
    "\n",
    "%matplotlib inline"
   ]
  },
  {
   "cell_type": "markdown",
   "metadata": {},
   "source": [
    "### Specify directories and filenames\n",
    "and other runtime options"
   ]
  },
  {
   "cell_type": "code",
   "execution_count": 2,
   "metadata": {},
   "outputs": [],
   "source": [
    "dir_in = 'data/GPS'\n",
    "file_in = 'KULU.cwu.nam14.csv'\n",
    "ext = 'csv'"
   ]
  },
  {
   "cell_type": "code",
   "execution_count": 3,
   "metadata": {},
   "outputs": [],
   "source": [
    "filepath = os.path.join(dir_in, file_in)"
   ]
  },
  {
   "cell_type": "markdown",
   "metadata": {},
   "source": [
    "### Basic `read_csv` to peek into the csv file"
   ]
  },
  {
   "cell_type": "code",
   "execution_count": 4,
   "metadata": {},
   "outputs": [
    {
     "name": "stdout",
     "output_type": "stream",
     "text": [
      "['PBO Station Position Time Series.\\n', 'Format Version, 1.2.0\\n', 'Reference Frame, NAM14\\n', '4-character ID, KULU\\n', 'Station name, Kulusuk_GPS     \\n', 'Begin Date, 1996-07-25\\n', 'End Date, 2019-08-13\\n', 'Release Date, 2020-02-13\\n', 'Source file, KULU.cwu.nam14.pos\\n', 'Offset from source file, -6.35 mm North, -27.61 mm East, 69.00 mm Vertical\\n', 'Reference position, 65.5793353842 North Latitude, -37.1493578847 East Longitude, 67.48358 meters elevation\\n', 'Date, North (mm), East (mm), Vertical (mm), North Std. Deviation (mm), East Std. Deviation (mm), Vertical Std. Deviation (mm), Quality,\\n', '1996-07-25,0.00, 0.00, 0.00, 3.08, 2.19, 9.93, repro,\\n']\n"
     ]
    }
   ],
   "source": [
    "# with open(filepath) as myfile:\n",
    "#     firstNlines=myfile.readlines()[0:5] #put here the interval you want\n",
    "    \n",
    "# print(firstNlines)\n",
    "\n",
    "with open(filepath) as myfile:\n",
    "    head = [next(myfile) for x in range(13)]\n",
    "print(head)"
   ]
  },
  {
   "cell_type": "code",
   "execution_count": 5,
   "metadata": {},
   "outputs": [
    {
     "data": {
      "text/html": [
       "<div>\n",
       "<style scoped>\n",
       "    .dataframe tbody tr th:only-of-type {\n",
       "        vertical-align: middle;\n",
       "    }\n",
       "\n",
       "    .dataframe tbody tr th {\n",
       "        vertical-align: top;\n",
       "    }\n",
       "\n",
       "    .dataframe thead th {\n",
       "        text-align: right;\n",
       "    }\n",
       "</style>\n",
       "<table border=\"1\" class=\"dataframe\">\n",
       "  <thead>\n",
       "    <tr style=\"text-align: right;\">\n",
       "      <th></th>\n",
       "      <th>0</th>\n",
       "      <th>1</th>\n",
       "      <th>2</th>\n",
       "      <th>3</th>\n",
       "      <th>4</th>\n",
       "      <th>5</th>\n",
       "      <th>6</th>\n",
       "      <th>7</th>\n",
       "      <th>8</th>\n",
       "    </tr>\n",
       "  </thead>\n",
       "  <tbody>\n",
       "    <tr>\n",
       "      <th>0</th>\n",
       "      <td>1996-07-25</td>\n",
       "      <td>0.00</td>\n",
       "      <td>0.00</td>\n",
       "      <td>0.00</td>\n",
       "      <td>3.08</td>\n",
       "      <td>2.19</td>\n",
       "      <td>9.93</td>\n",
       "      <td>repro</td>\n",
       "      <td>NaN</td>\n",
       "    </tr>\n",
       "    <tr>\n",
       "      <th>1</th>\n",
       "      <td>1996-07-26</td>\n",
       "      <td>-1.07</td>\n",
       "      <td>-0.16</td>\n",
       "      <td>-0.64</td>\n",
       "      <td>3.72</td>\n",
       "      <td>2.64</td>\n",
       "      <td>12.29</td>\n",
       "      <td>repro</td>\n",
       "      <td>NaN</td>\n",
       "    </tr>\n",
       "    <tr>\n",
       "      <th>2</th>\n",
       "      <td>1996-07-27</td>\n",
       "      <td>0.16</td>\n",
       "      <td>-2.04</td>\n",
       "      <td>11.45</td>\n",
       "      <td>4.15</td>\n",
       "      <td>2.93</td>\n",
       "      <td>13.92</td>\n",
       "      <td>repro</td>\n",
       "      <td>NaN</td>\n",
       "    </tr>\n",
       "    <tr>\n",
       "      <th>3</th>\n",
       "      <td>1996-07-28</td>\n",
       "      <td>-0.53</td>\n",
       "      <td>-0.65</td>\n",
       "      <td>11.62</td>\n",
       "      <td>3.05</td>\n",
       "      <td>2.19</td>\n",
       "      <td>10.03</td>\n",
       "      <td>repro</td>\n",
       "      <td>NaN</td>\n",
       "    </tr>\n",
       "    <tr>\n",
       "      <th>4</th>\n",
       "      <td>1996-07-29</td>\n",
       "      <td>-5.19</td>\n",
       "      <td>-0.85</td>\n",
       "      <td>5.00</td>\n",
       "      <td>2.90</td>\n",
       "      <td>2.07</td>\n",
       "      <td>9.80</td>\n",
       "      <td>repro</td>\n",
       "      <td>NaN</td>\n",
       "    </tr>\n",
       "    <tr>\n",
       "      <th>...</th>\n",
       "      <td>...</td>\n",
       "      <td>...</td>\n",
       "      <td>...</td>\n",
       "      <td>...</td>\n",
       "      <td>...</td>\n",
       "      <td>...</td>\n",
       "      <td>...</td>\n",
       "      <td>...</td>\n",
       "      <td>...</td>\n",
       "    </tr>\n",
       "    <tr>\n",
       "      <th>6677</th>\n",
       "      <td>2019-08-09</td>\n",
       "      <td>-18.97</td>\n",
       "      <td>-54.44</td>\n",
       "      <td>142.87</td>\n",
       "      <td>2.15</td>\n",
       "      <td>1.47</td>\n",
       "      <td>7.51</td>\n",
       "      <td>suppf</td>\n",
       "      <td>NaN</td>\n",
       "    </tr>\n",
       "    <tr>\n",
       "      <th>6678</th>\n",
       "      <td>2019-08-10</td>\n",
       "      <td>-19.59</td>\n",
       "      <td>-53.63</td>\n",
       "      <td>146.31</td>\n",
       "      <td>2.26</td>\n",
       "      <td>1.54</td>\n",
       "      <td>7.76</td>\n",
       "      <td>suppf</td>\n",
       "      <td>NaN</td>\n",
       "    </tr>\n",
       "    <tr>\n",
       "      <th>6679</th>\n",
       "      <td>2019-08-11</td>\n",
       "      <td>-19.04</td>\n",
       "      <td>-53.98</td>\n",
       "      <td>150.46</td>\n",
       "      <td>2.28</td>\n",
       "      <td>1.52</td>\n",
       "      <td>7.57</td>\n",
       "      <td>suppf</td>\n",
       "      <td>NaN</td>\n",
       "    </tr>\n",
       "    <tr>\n",
       "      <th>6680</th>\n",
       "      <td>2019-08-12</td>\n",
       "      <td>-18.85</td>\n",
       "      <td>-54.11</td>\n",
       "      <td>147.44</td>\n",
       "      <td>2.20</td>\n",
       "      <td>1.52</td>\n",
       "      <td>7.61</td>\n",
       "      <td>suppf</td>\n",
       "      <td>NaN</td>\n",
       "    </tr>\n",
       "    <tr>\n",
       "      <th>6681</th>\n",
       "      <td>2019-08-13</td>\n",
       "      <td>-19.66</td>\n",
       "      <td>-53.95</td>\n",
       "      <td>142.99</td>\n",
       "      <td>3.31</td>\n",
       "      <td>2.32</td>\n",
       "      <td>11.39</td>\n",
       "      <td>suppf</td>\n",
       "      <td>NaN</td>\n",
       "    </tr>\n",
       "  </tbody>\n",
       "</table>\n",
       "<p>6682 rows × 9 columns</p>\n",
       "</div>"
      ],
      "text/plain": [
       "               0      1      2       3     4     5      6       7   8\n",
       "0     1996-07-25   0.00   0.00    0.00  3.08  2.19   9.93   repro NaN\n",
       "1     1996-07-26  -1.07  -0.16   -0.64  3.72  2.64  12.29   repro NaN\n",
       "2     1996-07-27   0.16  -2.04   11.45  4.15  2.93  13.92   repro NaN\n",
       "3     1996-07-28  -0.53  -0.65   11.62  3.05  2.19  10.03   repro NaN\n",
       "4     1996-07-29  -5.19  -0.85    5.00  2.90  2.07   9.80   repro NaN\n",
       "...          ...    ...    ...     ...   ...   ...    ...     ...  ..\n",
       "6677  2019-08-09 -18.97 -54.44  142.87  2.15  1.47   7.51   suppf NaN\n",
       "6678  2019-08-10 -19.59 -53.63  146.31  2.26  1.54   7.76   suppf NaN\n",
       "6679  2019-08-11 -19.04 -53.98  150.46  2.28  1.52   7.57   suppf NaN\n",
       "6680  2019-08-12 -18.85 -54.11  147.44  2.20  1.52   7.61   suppf NaN\n",
       "6681  2019-08-13 -19.66 -53.95  142.99  3.31  2.32  11.39   suppf NaN\n",
       "\n",
       "[6682 rows x 9 columns]"
      ]
     },
     "execution_count": 5,
     "metadata": {},
     "output_type": "execute_result"
    }
   ],
   "source": [
    "df = pd.read_csv(filepath, skiprows=12, header=None)\n",
    "df\n"
   ]
  },
  {
   "cell_type": "code",
   "execution_count": 6,
   "metadata": {},
   "outputs": [
    {
     "data": {
      "text/html": [
       "<div>\n",
       "<style scoped>\n",
       "    .dataframe tbody tr th:only-of-type {\n",
       "        vertical-align: middle;\n",
       "    }\n",
       "\n",
       "    .dataframe tbody tr th {\n",
       "        vertical-align: top;\n",
       "    }\n",
       "\n",
       "    .dataframe thead th {\n",
       "        text-align: right;\n",
       "    }\n",
       "</style>\n",
       "<table border=\"1\" class=\"dataframe\">\n",
       "  <thead>\n",
       "    <tr style=\"text-align: right;\">\n",
       "      <th></th>\n",
       "      <th>North</th>\n",
       "      <th>East</th>\n",
       "      <th>Vertical</th>\n",
       "      <th>NorthSTD</th>\n",
       "      <th>EastSTD</th>\n",
       "      <th>VerticalSTD</th>\n",
       "      <th>Quality</th>\n",
       "    </tr>\n",
       "    <tr>\n",
       "      <th>Date</th>\n",
       "      <th></th>\n",
       "      <th></th>\n",
       "      <th></th>\n",
       "      <th></th>\n",
       "      <th></th>\n",
       "      <th></th>\n",
       "      <th></th>\n",
       "    </tr>\n",
       "  </thead>\n",
       "  <tbody>\n",
       "    <tr>\n",
       "      <th>1996-07-25</th>\n",
       "      <td>0.00</td>\n",
       "      <td>0.00</td>\n",
       "      <td>0.00</td>\n",
       "      <td>3.08</td>\n",
       "      <td>2.19</td>\n",
       "      <td>9.93</td>\n",
       "      <td>repro</td>\n",
       "    </tr>\n",
       "    <tr>\n",
       "      <th>1996-07-26</th>\n",
       "      <td>-1.07</td>\n",
       "      <td>-0.16</td>\n",
       "      <td>-0.64</td>\n",
       "      <td>3.72</td>\n",
       "      <td>2.64</td>\n",
       "      <td>12.29</td>\n",
       "      <td>repro</td>\n",
       "    </tr>\n",
       "    <tr>\n",
       "      <th>1996-07-27</th>\n",
       "      <td>0.16</td>\n",
       "      <td>-2.04</td>\n",
       "      <td>11.45</td>\n",
       "      <td>4.15</td>\n",
       "      <td>2.93</td>\n",
       "      <td>13.92</td>\n",
       "      <td>repro</td>\n",
       "    </tr>\n",
       "    <tr>\n",
       "      <th>1996-07-28</th>\n",
       "      <td>-0.53</td>\n",
       "      <td>-0.65</td>\n",
       "      <td>11.62</td>\n",
       "      <td>3.05</td>\n",
       "      <td>2.19</td>\n",
       "      <td>10.03</td>\n",
       "      <td>repro</td>\n",
       "    </tr>\n",
       "    <tr>\n",
       "      <th>1996-07-29</th>\n",
       "      <td>-5.19</td>\n",
       "      <td>-0.85</td>\n",
       "      <td>5.00</td>\n",
       "      <td>2.90</td>\n",
       "      <td>2.07</td>\n",
       "      <td>9.80</td>\n",
       "      <td>repro</td>\n",
       "    </tr>\n",
       "    <tr>\n",
       "      <th>...</th>\n",
       "      <td>...</td>\n",
       "      <td>...</td>\n",
       "      <td>...</td>\n",
       "      <td>...</td>\n",
       "      <td>...</td>\n",
       "      <td>...</td>\n",
       "      <td>...</td>\n",
       "    </tr>\n",
       "    <tr>\n",
       "      <th>2019-08-09</th>\n",
       "      <td>-18.97</td>\n",
       "      <td>-54.44</td>\n",
       "      <td>142.87</td>\n",
       "      <td>2.15</td>\n",
       "      <td>1.47</td>\n",
       "      <td>7.51</td>\n",
       "      <td>suppf</td>\n",
       "    </tr>\n",
       "    <tr>\n",
       "      <th>2019-08-10</th>\n",
       "      <td>-19.59</td>\n",
       "      <td>-53.63</td>\n",
       "      <td>146.31</td>\n",
       "      <td>2.26</td>\n",
       "      <td>1.54</td>\n",
       "      <td>7.76</td>\n",
       "      <td>suppf</td>\n",
       "    </tr>\n",
       "    <tr>\n",
       "      <th>2019-08-11</th>\n",
       "      <td>-19.04</td>\n",
       "      <td>-53.98</td>\n",
       "      <td>150.46</td>\n",
       "      <td>2.28</td>\n",
       "      <td>1.52</td>\n",
       "      <td>7.57</td>\n",
       "      <td>suppf</td>\n",
       "    </tr>\n",
       "    <tr>\n",
       "      <th>2019-08-12</th>\n",
       "      <td>-18.85</td>\n",
       "      <td>-54.11</td>\n",
       "      <td>147.44</td>\n",
       "      <td>2.20</td>\n",
       "      <td>1.52</td>\n",
       "      <td>7.61</td>\n",
       "      <td>suppf</td>\n",
       "    </tr>\n",
       "    <tr>\n",
       "      <th>2019-08-13</th>\n",
       "      <td>-19.66</td>\n",
       "      <td>-53.95</td>\n",
       "      <td>142.99</td>\n",
       "      <td>3.31</td>\n",
       "      <td>2.32</td>\n",
       "      <td>11.39</td>\n",
       "      <td>suppf</td>\n",
       "    </tr>\n",
       "  </tbody>\n",
       "</table>\n",
       "<p>6682 rows × 7 columns</p>\n",
       "</div>"
      ],
      "text/plain": [
       "            North   East  Vertical  NorthSTD  EastSTD  VerticalSTD Quality\n",
       "Date                                                                      \n",
       "1996-07-25   0.00   0.00      0.00      3.08     2.19         9.93   repro\n",
       "1996-07-26  -1.07  -0.16     -0.64      3.72     2.64        12.29   repro\n",
       "1996-07-27   0.16  -2.04     11.45      4.15     2.93        13.92   repro\n",
       "1996-07-28  -0.53  -0.65     11.62      3.05     2.19        10.03   repro\n",
       "1996-07-29  -5.19  -0.85      5.00      2.90     2.07         9.80   repro\n",
       "...           ...    ...       ...       ...      ...          ...     ...\n",
       "2019-08-09 -18.97 -54.44    142.87      2.15     1.47         7.51   suppf\n",
       "2019-08-10 -19.59 -53.63    146.31      2.26     1.54         7.76   suppf\n",
       "2019-08-11 -19.04 -53.98    150.46      2.28     1.52         7.57   suppf\n",
       "2019-08-12 -18.85 -54.11    147.44      2.20     1.52         7.61   suppf\n",
       "2019-08-13 -19.66 -53.95    142.99      3.31     2.32        11.39   suppf\n",
       "\n",
       "[6682 rows x 7 columns]"
      ]
     },
     "execution_count": 6,
     "metadata": {},
     "output_type": "execute_result"
    }
   ],
   "source": [
    "column_names=['Date', 'North', 'East', 'Vertical', 'NorthSTD', 'EastSTD', 'VerticalSTD', 'Quality', 'NaN'] \n",
    "df = pd.read_csv(filepath, skiprows=12, header=None, names=column_names)\n",
    "dt = pd.to_datetime(df['Date'])\n",
    "df.index = pd.DatetimeIndex(dt)\n",
    "df = df.drop('Date', axis=1)\n",
    "df = df.drop('NaN', axis=1)\n",
    "df"
   ]
  },
  {
   "cell_type": "code",
   "execution_count": 7,
   "metadata": {},
   "outputs": [
    {
     "data": {
      "text/plain": [
       "<matplotlib.axes._subplots.AxesSubplot at 0x7faf98ebe5d0>"
      ]
     },
     "execution_count": 7,
     "metadata": {},
     "output_type": "execute_result"
    },
    {
     "data": {
      "image/png": "[encoded data removed]",
      "text/plain": [
       "<Figure size 432x288 with 1 Axes>"
      ]
     },
     "metadata": {
      "needs_background": "light"
     },
     "output_type": "display_data"
    }
   ],
   "source": [
    "df[['North', 'East', 'Vertical']].plot(linestyle='', marker=',')"
   ]
  },
  {
   "cell_type": "code",
   "execution_count": 8,
   "metadata": {},
   "outputs": [
    {
     "data": {
      "text/plain": [
       "array([[<matplotlib.axes._subplots.AxesSubplot object at 0x7faf78ebb510>],\n",
       "       [<matplotlib.axes._subplots.AxesSubplot object at 0x7faf98f25510>],\n",
       "       [<matplotlib.axes._subplots.AxesSubplot object at 0x7faf4819aa10>]],\n",
       "      dtype=object)"
      ]
     },
     "execution_count": 8,
     "metadata": {},
     "output_type": "execute_result"
    },
    {
     "data": {
      "image/png": "[encoded data removed]",
      "text/plain": [
       "<Figure size 216x576 with 3 Axes>"
      ]
     },
     "metadata": {
      "needs_background": "light"
     },
     "output_type": "display_data"
    }
   ],
   "source": [
    "df[['North', 'East', 'Vertical']].plot(subplots=True, \n",
    "                                       layout=(3, 1), figsize=(3, 8), \n",
    "                                       linestyle='', marker=',',\n",
    "                                       sharex=True)"
   ]
  },
  {
   "cell_type": "code",
   "execution_count": 9,
   "metadata": {},
   "outputs": [
    {
     "data": {
      "text/plain": [
       "<matplotlib.axes._subplots.AxesSubplot at 0x7faf9907b4d0>"
      ]
     },
     "execution_count": 9,
     "metadata": {},
     "output_type": "execute_result"
    },
    {
     "data": {
      "image/png": "[encoded data removed]",
      "text/plain": [
       "<Figure size 432x288 with 1 Axes>"
      ]
     },
     "metadata": {
      "needs_background": "light"
     },
     "output_type": "display_data"
    }
   ],
   "source": [
    "df[['North', 'East', 'Vertical']].plot.hist(alpha=0.5, bins=30)"
   ]
  },
  {
   "cell_type": "code",
   "execution_count": 10,
   "metadata": {},
   "outputs": [
    {
     "data": {
      "image/png": "[encoded data removed]",
      "text/plain": [
       "<Figure size 432x288 with 2 Axes>"
      ]
     },
     "metadata": {
      "needs_background": "light"
     },
     "output_type": "display_data"
    }
   ],
   "source": [
    "df.plot.hexbin(x='East', y='North', C='Vertical')\n",
    "plt.xlim([-50, 50])\n",
    "plt.ylim([-50, 50])\n",
    "plt.tight_layout()"
   ]
  },
  {
   "cell_type": "code",
   "execution_count": 11,
   "metadata": {},
   "outputs": [
    {
     "data": {
      "text/plain": [
       "Timedelta('8419 days 00:00:00')"
      ]
     },
     "execution_count": 11,
     "metadata": {},
     "output_type": "execute_result"
    }
   ],
   "source": [
    "df.index[-1] - df.index[0]"
   ]
  },
  {
   "cell_type": "markdown",
   "metadata": {},
   "source": [
    "# Read in SONEL"
   ]
  },
  {
   "cell_type": "code",
   "execution_count": 34,
   "metadata": {},
   "outputs": [
    {
     "name": "stdout",
     "output_type": "stream",
     "text": [
      "data/GPS/dNUUK_43013M001_NGL14.neu\n"
     ]
    }
   ],
   "source": [
    "station = 'NUUK'\n",
    "datum = 'NGL14'\n",
    "ext = '.neu'\n",
    "file_in = 'd' + station + '_43013M001_' + datum + ext\n",
    "dir_in = 'data/GPS'\n",
    "filepath = os.path.join(dir_in, file_in)\n",
    "print(filepath)"
   ]
  },
  {
   "cell_type": "code",
   "execution_count": 35,
   "metadata": {},
   "outputs": [
    {
     "data": {
      "text/html": [
       "<div>\n",
       "<style scoped>\n",
       "    .dataframe tbody tr th:only-of-type {\n",
       "        vertical-align: middle;\n",
       "    }\n",
       "\n",
       "    .dataframe tbody tr th {\n",
       "        vertical-align: top;\n",
       "    }\n",
       "\n",
       "    .dataframe thead th {\n",
       "        text-align: right;\n",
       "    }\n",
       "</style>\n",
       "<table border=\"1\" class=\"dataframe\">\n",
       "  <thead>\n",
       "    <tr style=\"text-align: right;\">\n",
       "      <th></th>\n",
       "      <th>Year</th>\n",
       "      <th>DN</th>\n",
       "      <th>DE</th>\n",
       "      <th>DU</th>\n",
       "      <th>SDN</th>\n",
       "      <th>SDE</th>\n",
       "      <th>SDU</th>\n",
       "    </tr>\n",
       "  </thead>\n",
       "  <tbody>\n",
       "    <tr>\n",
       "      <th>0</th>\n",
       "      <td>2008.7502</td>\n",
       "      <td>-0.0470</td>\n",
       "      <td>0.0758</td>\n",
       "      <td>-0.0311</td>\n",
       "      <td>0.0033</td>\n",
       "      <td>0.0023</td>\n",
       "      <td>0.0054</td>\n",
       "    </tr>\n",
       "    <tr>\n",
       "      <th>1</th>\n",
       "      <td>2008.7556</td>\n",
       "      <td>-0.0473</td>\n",
       "      <td>0.0769</td>\n",
       "      <td>-0.0288</td>\n",
       "      <td>0.0021</td>\n",
       "      <td>0.0014</td>\n",
       "      <td>0.0035</td>\n",
       "    </tr>\n",
       "    <tr>\n",
       "      <th>2</th>\n",
       "      <td>2008.7584</td>\n",
       "      <td>-0.0463</td>\n",
       "      <td>0.0764</td>\n",
       "      <td>-0.0275</td>\n",
       "      <td>0.0021</td>\n",
       "      <td>0.0014</td>\n",
       "      <td>0.0035</td>\n",
       "    </tr>\n",
       "    <tr>\n",
       "      <th>3</th>\n",
       "      <td>2009.0021</td>\n",
       "      <td>-0.0431</td>\n",
       "      <td>0.0743</td>\n",
       "      <td>-0.0350</td>\n",
       "      <td>0.0021</td>\n",
       "      <td>0.0014</td>\n",
       "      <td>0.0034</td>\n",
       "    </tr>\n",
       "    <tr>\n",
       "      <th>4</th>\n",
       "      <td>2009.0048</td>\n",
       "      <td>-0.0426</td>\n",
       "      <td>0.0744</td>\n",
       "      <td>-0.0365</td>\n",
       "      <td>0.0021</td>\n",
       "      <td>0.0014</td>\n",
       "      <td>0.0035</td>\n",
       "    </tr>\n",
       "    <tr>\n",
       "      <th>...</th>\n",
       "      <td>...</td>\n",
       "      <td>...</td>\n",
       "      <td>...</td>\n",
       "      <td>...</td>\n",
       "      <td>...</td>\n",
       "      <td>...</td>\n",
       "      <td>...</td>\n",
       "    </tr>\n",
       "    <tr>\n",
       "      <th>2829</th>\n",
       "      <td>2019.4497</td>\n",
       "      <td>0.0794</td>\n",
       "      <td>-0.1144</td>\n",
       "      <td>-0.0170</td>\n",
       "      <td>0.0021</td>\n",
       "      <td>0.0014</td>\n",
       "      <td>0.0034</td>\n",
       "    </tr>\n",
       "    <tr>\n",
       "      <th>2830</th>\n",
       "      <td>2019.4524</td>\n",
       "      <td>0.0796</td>\n",
       "      <td>-0.1157</td>\n",
       "      <td>-0.0229</td>\n",
       "      <td>0.0021</td>\n",
       "      <td>0.0014</td>\n",
       "      <td>0.0034</td>\n",
       "    </tr>\n",
       "    <tr>\n",
       "      <th>2831</th>\n",
       "      <td>2019.4552</td>\n",
       "      <td>0.0813</td>\n",
       "      <td>-0.1154</td>\n",
       "      <td>-0.0155</td>\n",
       "      <td>0.0021</td>\n",
       "      <td>0.0014</td>\n",
       "      <td>0.0034</td>\n",
       "    </tr>\n",
       "    <tr>\n",
       "      <th>2832</th>\n",
       "      <td>2019.4579</td>\n",
       "      <td>0.0802</td>\n",
       "      <td>-0.1171</td>\n",
       "      <td>-0.0123</td>\n",
       "      <td>0.0020</td>\n",
       "      <td>0.0014</td>\n",
       "      <td>0.0034</td>\n",
       "    </tr>\n",
       "    <tr>\n",
       "      <th>2833</th>\n",
       "      <td>2019.4606</td>\n",
       "      <td>0.0799</td>\n",
       "      <td>-0.1161</td>\n",
       "      <td>-0.0188</td>\n",
       "      <td>0.0021</td>\n",
       "      <td>0.0014</td>\n",
       "      <td>0.0034</td>\n",
       "    </tr>\n",
       "  </tbody>\n",
       "</table>\n",
       "<p>2834 rows × 7 columns</p>\n",
       "</div>"
      ],
      "text/plain": [
       "           Year      DN      DE      DU     SDN     SDE     SDU\n",
       "0     2008.7502 -0.0470  0.0758 -0.0311  0.0033  0.0023  0.0054\n",
       "1     2008.7556 -0.0473  0.0769 -0.0288  0.0021  0.0014  0.0035\n",
       "2     2008.7584 -0.0463  0.0764 -0.0275  0.0021  0.0014  0.0035\n",
       "3     2009.0021 -0.0431  0.0743 -0.0350  0.0021  0.0014  0.0034\n",
       "4     2009.0048 -0.0426  0.0744 -0.0365  0.0021  0.0014  0.0035\n",
       "...         ...     ...     ...     ...     ...     ...     ...\n",
       "2829  2019.4497  0.0794 -0.1144 -0.0170  0.0021  0.0014  0.0034\n",
       "2830  2019.4524  0.0796 -0.1157 -0.0229  0.0021  0.0014  0.0034\n",
       "2831  2019.4552  0.0813 -0.1154 -0.0155  0.0021  0.0014  0.0034\n",
       "2832  2019.4579  0.0802 -0.1171 -0.0123  0.0020  0.0014  0.0034\n",
       "2833  2019.4606  0.0799 -0.1161 -0.0188  0.0021  0.0014  0.0034\n",
       "\n",
       "[2834 rows x 7 columns]"
      ]
     },
     "execution_count": 35,
     "metadata": {},
     "output_type": "execute_result"
    }
   ],
   "source": [
    "# column_names=['Date', 'North', 'East', 'Vertical', 'NorthSTD', 'EastSTD', 'VerticalSTD', 'Quality', 'NaN'] \n",
    "column_names=['Year', 'DN', 'DE', 'DU', 'SDN', 'SDE', 'SDU']\n",
    "df = pd.read_csv(filepath, skiprows=22, header=None, delimiter='\\s+', names=column_names)\n",
    "# dt = pd.to_datetime(df['Year'])\n",
    "# df.index = pd.DatetimeIndex(dt)\n",
    "# df = df.drop('Date', axis=1)\n",
    "# df = df.drop('NaN', axis=1)\n",
    "df"
   ]
  },
  {
   "cell_type": "code",
   "execution_count": 36,
   "metadata": {},
   "outputs": [],
   "source": [
    "# # if necessary\n",
    "# df['Year'] = df['Year'].astype(str)\n",
    "# a = df['Year'].str[:4]\n",
    "# b = df['Year'].str[5:].map(d)\n",
    "\n",
    "# dt = pd.to_datetime(a + '.' + b, format='%Y.%m')\n",
    "# print(dt)"
   ]
  },
  {
   "cell_type": "code",
   "execution_count": 37,
   "metadata": {},
   "outputs": [
    {
     "name": "stdout",
     "output_type": "stream",
     "text": [
      "count    2834.000000\n",
      "mean     2012.441426\n",
      "std         2.295715\n",
      "min      2008.000000\n",
      "25%      2010.000000\n",
      "50%      2012.000000\n",
      "75%      2014.000000\n",
      "max      2019.000000\n",
      "Name: Year, dtype: float64\n",
      "count    2834.000000\n",
      "mean      179.447777\n",
      "std       103.658786\n",
      "min         1.000000\n",
      "25%        91.000000\n",
      "50%       178.500000\n",
      "75%       267.000000\n",
      "max       365.000000\n",
      "Name: Year, dtype: float64\n"
     ]
    }
   ],
   "source": [
    "year = df['Year'].astype(int)\n",
    "print (year.describe())\n",
    "\n",
    "# b = df['Year'].sub(a).add(1/12).mul(12).round(0).astype(int)\n",
    "doy = ((df['Year'] - year) * 365).astype(int) + 1\n",
    "print (doy.describe())"
   ]
  },
  {
   "cell_type": "code",
   "execution_count": 38,
   "metadata": {},
   "outputs": [
    {
     "data": {
      "text/plain": [
       "366     2009\n",
       "726     2010\n",
       "1081    2011\n",
       "1446    2012\n",
       "1801    2013\n",
       "2163    2014\n",
       "2528    2015\n",
       "Name: Year, dtype: int64"
      ]
     },
     "execution_count": 38,
     "metadata": {},
     "output_type": "execute_result"
    }
   ],
   "source": [
    "year[doy==365]"
   ]
  },
  {
   "cell_type": "code",
   "execution_count": 39,
   "metadata": {},
   "outputs": [
    {
     "name": "stdout",
     "output_type": "stream",
     "text": [
      "0      2008-09-30\n",
      "1      2008-10-02\n",
      "2      2008-10-03\n",
      "3      2009-01-01\n",
      "4      2009-01-02\n",
      "          ...    \n",
      "2829   2019-06-14\n",
      "2830   2019-06-15\n",
      "2831   2019-06-16\n",
      "2832   2019-06-17\n",
      "2833   2019-06-18\n",
      "Name: Year, Length: 2834, dtype: datetime64[ns]\n"
     ]
    },
    {
     "data": {
      "text/plain": [
       "<matplotlib.axes._subplots.AxesSubplot at 0x7faf7922d590>"
      ]
     },
     "execution_count": 39,
     "metadata": {},
     "output_type": "execute_result"
    },
    {
     "data": {
      "image/png": "[encoded data removed]",
      "text/plain": [
       "<Figure size 432x288 with 1 Axes>"
      ]
     },
     "metadata": {
      "needs_background": "light"
     },
     "output_type": "display_data"
    }
   ],
   "source": [
    "c = pd.to_datetime(year.astype(str) + doy.astype(str), format='%Y%j')\n",
    "print(c)\n",
    "c.plot()"
   ]
  },
  {
   "cell_type": "code",
   "execution_count": 40,
   "metadata": {},
   "outputs": [
    {
     "data": {
      "text/plain": [
       "<matplotlib.axes._subplots.AxesSubplot at 0x7faf4822e1d0>"
      ]
     },
     "execution_count": 40,
     "metadata": {},
     "output_type": "execute_result"
    },
    {
     "data": {
      "image/png": "[encoded data removed]",
      "text/plain": [
       "<Figure size 432x288 with 1 Axes>"
      ]
     },
     "metadata": {
      "needs_background": "light"
     },
     "output_type": "display_data"
    }
   ],
   "source": [
    "# column_names=['Date', 'North', 'East', 'Vertical', 'NorthSTD', 'EastSTD', 'VerticalSTD', 'Quality', 'NaN'] \n",
    "column_names=['Year', 'DN', 'DE', 'DU', 'SDN', 'SDE', 'SDU']\n",
    "df = pd.read_csv(filepath, skiprows=22, header=None, delimiter='\\s+', names=column_names)\n",
    "year = df['Year'].astype(int)\n",
    "doy = ((df['Year'] - year) * 365).astype(int) + 1\n",
    "dt = pd.to_datetime(year.astype(str) + doy.astype(str), format='%Y%j')\n",
    "df = df.rename(columns={'Year': 'YearDec'})\n",
    "df.index = pd.DatetimeIndex(dt)\n",
    "# df = df.drop('Date', axis=1)\n",
    "# df = df.drop('NaN', axis=1)\n",
    "df[['DU']].plot(linestyle='',marker=',')"
   ]
  },
  {
   "cell_type": "code",
   "execution_count": 46,
   "metadata": {},
   "outputs": [
    {
     "data": {
      "text/plain": [
       "<matplotlib.axes._subplots.AxesSubplot at 0x7faf6b0735d0>"
      ]
     },
     "execution_count": 46,
     "metadata": {},
     "output_type": "execute_result"
    },
    {
     "data": {
      "image/png": "[encoded data removed]",
      "text/plain": [
       "<Figure size 432x288 with 1 Axes>"
      ]
     },
     "metadata": {
      "needs_background": "light"
     },
     "output_type": "display_data"
    }
   ],
   "source": [
    "def test_read_GPS_SONEL(sonel_file):\n",
    "    column_names=['Year', 'DN', 'DE', 'DU', 'SDN', 'SDE', 'SDU']\n",
    "    df = pd.read_csv(sonel_file, skiprows=22, header=None, delimiter='\\s+', names=column_names)\n",
    "    year = df['Year'].astype(int)\n",
    "    doy = ((df['Year'] - year) * 365).astype(int) + 1\n",
    "    dt = pd.to_datetime(year.astype(str) + doy.astype(str), format='%Y%j')\n",
    "    df = df.rename(columns={'Year': 'YearDec'})\n",
    "    df.index = pd.DatetimeIndex(dt)\n",
    "\n",
    "    return df\n",
    "\n",
    "df_sonel = test_read_GPS_SONEL(filepath)\n",
    "\n",
    "df_sonel[['DU']].plot(linestyle='',marker=',')\n",
    "\n"
   ]
  },
  {
   "cell_type": "markdown",
   "metadata": {},
   "source": [
    "Now using function imported from file..."
   ]
  },
  {
   "cell_type": "code",
   "execution_count": 45,
   "metadata": {},
   "outputs": [
    {
     "data": {
      "text/plain": [
       "<matplotlib.axes._subplots.AxesSubplot at 0x7faf9a0995d0>"
      ]
     },
     "execution_count": 45,
     "metadata": {},
     "output_type": "execute_result"
    },
    {
     "data": {
      "image/png": "[encoded data removed]",
      "text/plain": [
       "<Figure size 432x288 with 1 Axes>"
      ]
     },
     "metadata": {
      "needs_background": "light"
     },
     "output_type": "display_data"
    }
   ],
   "source": [
    "df_sonel = read_GPS_SONEL(filepath)\n",
    "\n",
    "df_sonel[['Vertical']].plot(linestyle='',marker=',')"
   ]
  },
  {
   "cell_type": "code",
   "execution_count": null,
   "metadata": {},
   "outputs": [],
   "source": []
  },
  {
   "cell_type": "markdown",
   "metadata": {},
   "source": [
    "# Resample to MONTHLY data"
   ]
  },
  {
   "cell_type": "code",
   "execution_count": 22,
   "metadata": {},
   "outputs": [
    {
     "data": {
      "text/plain": [
       "<matplotlib.axes._subplots.AxesSubplot at 0x7faf79103410>"
      ]
     },
     "execution_count": 22,
     "metadata": {},
     "output_type": "execute_result"
    },
    {
     "data": {
      "image/png": "[encoded data removed]",
      "text/plain": [
       "<Figure size 432x288 with 1 Axes>"
      ]
     },
     "metadata": {
      "needs_background": "light"
     },
     "output_type": "display_data"
    }
   ],
   "source": [
    "df_monthly = df.dropna().resample('1M').mean()\n",
    "df_monthly.plot()"
   ]
  },
  {
   "cell_type": "markdown",
   "metadata": {},
   "source": [
    "## Loop through files"
   ]
  },
  {
   "cell_type": "code",
   "execution_count": 23,
   "metadata": {},
   "outputs": [],
   "source": [
    "station = 'NUUK'\n",
    "datum = 'NGL14'\n",
    "ext = '.neu'\n",
    "file_in = 'd' + station + '_43013M001_' + datum + ext\n",
    "dir_in = 'data/GPS'"
   ]
  },
  {
   "cell_type": "code",
   "execution_count": 24,
   "metadata": {},
   "outputs": [
    {
     "name": "stdout",
     "output_type": "stream",
     "text": [
      "data/GPS/d*NGL14.neu\n"
     ]
    }
   ],
   "source": [
    "\n",
    "pattern = os.path.join(dir_in, 'd*' + datum + ext)\n",
    "print(pattern)"
   ]
  },
  {
   "cell_type": "code",
   "execution_count": 25,
   "metadata": {},
   "outputs": [
    {
     "name": "stdout",
     "output_type": "stream",
     "text": [
      "['data/GPS/dAKSE_XXXXXXXXX_NGL14.neu', 'data/GPS/dAKSI_XXXXXXXXX_NGL14.neu', 'data/GPS/dANC2_XXXXXXXXX_NGL14.neu', 'data/GPS/dJNU1_49519S001_NGL14.neu', 'data/GPS/dKEN5_XXXXXXXXX_NGL14.neu', 'data/GPS/dNUUK_43013M001_NGL14.neu', 'data/GPS/dTBON_XXXXXXXXX_NGL14.neu']\n"
     ]
    }
   ],
   "source": [
    "import glob\n",
    "\n",
    "filenames = sorted(glob.glob(pattern))  # , key=alphanum_key)\n",
    "print(filenames)\n"
   ]
  },
  {
   "cell_type": "code",
   "execution_count": 26,
   "metadata": {},
   "outputs": [
    {
     "name": "stdout",
     "output_type": "stream",
     "text": [
      "\n",
      "\n",
      "data/GPS/dAKSE_XXXXXXXXX_NGL14.neu\n",
      "              YearDec   North    East  Vertical  NorthSTD  EastSTD  \\\n",
      "Year                                                                 \n",
      "2017-09-27  2017.7385 -0.0055  0.0060    0.0097    0.0025   0.0017   \n",
      "2017-09-28  2017.7413 -0.0079  0.0065    0.0110    0.0025   0.0017   \n",
      "2017-09-29  2017.7440 -0.0071  0.0055    0.0070    0.0024   0.0016   \n",
      "2017-09-30  2017.7467 -0.0051  0.0036   -0.0021    0.0024   0.0016   \n",
      "2017-10-01  2017.7495 -0.0044  0.0031   -0.0006    0.0024   0.0016   \n",
      "\n",
      "            VerticalSTD  \n",
      "Year                     \n",
      "2017-09-27       0.0034  \n",
      "2017-09-28       0.0035  \n",
      "2017-09-29       0.0033  \n",
      "2017-09-30       0.0033  \n",
      "2017-10-01       0.0034  \n",
      "\n",
      "\n",
      "data/GPS/dAKSI_XXXXXXXXX_NGL14.neu\n",
      "              YearDec   North    East  Vertical  NorthSTD  EastSTD  \\\n",
      "Year                                                                 \n",
      "2018-01-17  2018.0452  0.0058  0.0065    0.0071    0.0022   0.0016   \n",
      "2018-01-18  2018.0479  0.0049  0.0070    0.0075    0.0022   0.0016   \n",
      "2018-01-19  2018.0507  0.0039  0.0064    0.0077    0.0022   0.0016   \n",
      "2018-01-20  2018.0534  0.0052  0.0069    0.0043    0.0022   0.0016   \n",
      "2018-01-21  2018.0561  0.0063  0.0069    0.0028    0.0022   0.0016   \n",
      "\n",
      "            VerticalSTD  \n",
      "Year                     \n",
      "2018-01-17       0.0028  \n",
      "2018-01-18       0.0028  \n",
      "2018-01-19       0.0028  \n",
      "2018-01-20       0.0027  \n",
      "2018-01-21       0.0028  \n",
      "\n",
      "\n",
      "data/GPS/dANC2_XXXXXXXXX_NGL14.neu\n",
      "              YearDec   North    East  Vertical  NorthSTD  EastSTD  \\\n",
      "Year                                                                 \n",
      "2009-12-10  2009.9411  0.0856  0.0710   -0.0356    0.0022   0.0014   \n",
      "2009-12-11  2009.9439  0.0858  0.0689   -0.0354    0.0022   0.0014   \n",
      "2009-12-12  2009.9466  0.0886  0.0714   -0.0359    0.0022   0.0014   \n",
      "2009-12-13  2009.9493  0.0870  0.0710   -0.0332    0.0022   0.0014   \n",
      "2009-12-14  2009.9521  0.0865  0.0709   -0.0304    0.0022   0.0014   \n",
      "\n",
      "            VerticalSTD  \n",
      "Year                     \n",
      "2009-12-10       0.0031  \n",
      "2009-12-11       0.0032  \n",
      "2009-12-12       0.0032  \n",
      "2009-12-13       0.0031  \n",
      "2009-12-14       0.0031  \n",
      "\n",
      "\n",
      "data/GPS/dJNU1_49519S001_NGL14.neu\n",
      "              YearDec   North    East  Vertical  NorthSTD  EastSTD  \\\n",
      "Year                                                                 \n",
      "2003-01-27  2003.0719  0.1248  0.1120   -0.1685    0.0034   0.0025   \n",
      "2003-01-28  2003.0746  0.1272  0.1122   -0.1643    0.0027   0.0020   \n",
      "2003-01-29  2003.0773  0.1270  0.1053   -0.1621    0.0028   0.0021   \n",
      "2003-01-30  2003.0801  0.1258  0.1092   -0.1645    0.0033   0.0025   \n",
      "2003-02-01  2003.0856  0.1277  0.1100   -0.1626    0.0027   0.0020   \n",
      "\n",
      "            VerticalSTD  \n",
      "Year                     \n",
      "2003-01-27       0.0046  \n",
      "2003-01-28       0.0036  \n",
      "2003-01-29       0.0036  \n",
      "2003-01-30       0.0043  \n",
      "2003-02-01       0.0036  \n",
      "\n",
      "\n",
      "data/GPS/dKEN5_XXXXXXXXX_NGL14.neu\n",
      "              YearDec   North    East  Vertical  NorthSTD  EastSTD  \\\n",
      "Year                                                                 \n",
      "1996-01-31  1996.0849  0.3559  0.0529   -0.3341    0.0029   0.0018   \n",
      "1996-02-01  1996.0876  0.3540  0.0540   -0.3319    0.0030   0.0019   \n",
      "1996-02-03  1996.0931  0.3519  0.0528   -0.3216    0.0029   0.0018   \n",
      "1996-02-04  1996.0958  0.3506  0.0518   -0.3135    0.0030   0.0019   \n",
      "1996-02-05  1996.0986  0.3539  0.0524   -0.3067    0.0030   0.0019   \n",
      "\n",
      "            VerticalSTD  \n",
      "Year                     \n",
      "1996-01-31       0.0039  \n",
      "1996-02-01       0.0042  \n",
      "1996-02-03       0.0040  \n",
      "1996-02-04       0.0041  \n",
      "1996-02-05       0.0041  \n",
      "\n",
      "\n",
      "data/GPS/dNUUK_43013M001_NGL14.neu\n",
      "              YearDec   North    East  Vertical  NorthSTD  EastSTD  \\\n",
      "Year                                                                 \n",
      "2008-09-30  2008.7502 -0.0470  0.0758   -0.0311    0.0033   0.0023   \n",
      "2008-10-02  2008.7556 -0.0473  0.0769   -0.0288    0.0021   0.0014   \n",
      "2008-10-03  2008.7584 -0.0463  0.0764   -0.0275    0.0021   0.0014   \n",
      "2009-01-01  2009.0021 -0.0431  0.0743   -0.0350    0.0021   0.0014   \n",
      "2009-01-02  2009.0048 -0.0426  0.0744   -0.0365    0.0021   0.0014   \n",
      "\n",
      "            VerticalSTD  \n",
      "Year                     \n",
      "2008-09-30       0.0054  \n",
      "2008-10-02       0.0035  \n",
      "2008-10-03       0.0035  \n",
      "2009-01-01       0.0034  \n",
      "2009-01-02       0.0035  \n",
      "\n",
      "\n",
      "data/GPS/dTBON_XXXXXXXXX_NGL14.neu\n",
      "              YearDec   North    East  Vertical  NorthSTD  EastSTD  \\\n",
      "Year                                                                 \n",
      "2008-04-26  2008.3203  0.0817  0.1215   -0.0208    0.0024   0.0015   \n",
      "2008-04-27  2008.3231  0.0848  0.1209   -0.0270    0.0024   0.0015   \n",
      "2008-04-28  2008.3258  0.0840  0.1211   -0.0281    0.0024   0.0015   \n",
      "2008-04-29  2008.3285  0.0825  0.1211   -0.0270    0.0023   0.0014   \n",
      "2008-04-30  2008.3313  0.0827  0.1215   -0.0255    0.0023   0.0014   \n",
      "\n",
      "            VerticalSTD  \n",
      "Year                     \n",
      "2008-04-26       0.0034  \n",
      "2008-04-27       0.0034  \n",
      "2008-04-28       0.0034  \n",
      "2008-04-29       0.0034  \n",
      "2008-04-30       0.0034  \n"
     ]
    }
   ],
   "source": [
    "for f, filepath in enumerate(filenames):\n",
    "    df = read_GPS_SONEL(filepath)\n",
    "    print(f'\\n\\n{filepath}')\n",
    "    print(df.head())"
   ]
  },
  {
   "cell_type": "markdown",
   "metadata": {},
   "source": [
    "### write some test functions for linear regression and plotting"
   ]
  },
  {
   "cell_type": "code",
   "execution_count": 49,
   "metadata": {},
   "outputs": [],
   "source": [
    "def test_calc_OLS(df, var):\n",
    "    \n",
    "    x, y = np.arange(len(df[var].dropna())), df[var].dropna()\n",
    "    x = sm.add_constant(x)\n",
    "    model = sm.OLS(y, x)\n",
    "    res = model.fit()\n",
    "    \n",
    "    return res\n",
    "\n",
    "def test_plot_OLS_overlay(df, res, site, var, data_units, simpletrend=True):\n",
    "    fig, ax = plt.subplots(1, 1, figsize=(12,6));\n",
    "    ax.plot(df[var].dropna().index, df[var].dropna().values, \n",
    "            label='Data', marker=',', linestyle='', color='black')\n",
    "    \n",
    "    ## Plot linea model\n",
    "    if simpletrend:\n",
    "        ax.plot((df[var].index[0], df[var].index[-1]), \n",
    "            (res.params.x1*1 + res.params.const, res.params.x1*df.shape[0] + res.params.const),\n",
    "               label='Trend', linestyle='--', color='purple')\n",
    "    else:\n",
    "            ax.plot(df[var].index, [res.params.x1*i + res.params.const for i in np.arange(len(df[var]))])\n",
    "\n",
    "    ## zero line\n",
    "#     ax.plot((df[var].index[0], df[var].index[-1]), (0, 0), 'k')\n",
    "    \n",
    "    ## customize\n",
    "#     ax.set_title(f\"Trend = {res.params.x1 * 1000:.2f} mm/yr\");\n",
    "    ax.set_ylabel(data_units)\n",
    "    plt.suptitle(f\"{site}\")\n",
    "    plt.legend()\n",
    "    plt.savefig(f'figs/test_GPS_OLS_{site}.png')\n",
    "    \n",
    "    \n",
    "res = test_calc_OLS(df, 'DU')"
   ]
  },
  {
   "cell_type": "code",
   "execution_count": 50,
   "metadata": {},
   "outputs": [
    {
     "data": {
      "image/png": "[encoded data removed]",
      "text/plain": [
       "<Figure size 864x432 with 1 Axes>"
      ]
     },
     "metadata": {
      "needs_background": "light"
     },
     "output_type": "display_data"
    }
   ],
   "source": [
    "# test_plot_OLS_overlay(df, res, filepath[-24:-20], 'DU', 'meters')\n",
    "from tidegauge_functions import plot_OLS_overlay\n",
    "\n",
    "plot_OLS_overlay(df, res, filepath[-24:-20], 'DU', 'meters')"
   ]
  },
  {
   "cell_type": "markdown",
   "metadata": {},
   "source": [
    "%%% as pointed out by isaiah we need to convert time units for our trends"
   ]
  },
  {
   "cell_type": "code",
   "execution_count": 65,
   "metadata": {},
   "outputs": [
    {
     "name": "stdout",
     "output_type": "stream",
     "text": [
      "0.0092 m/yr\n",
      "or 9.21 mm/yr\n"
     ]
    }
   ],
   "source": [
    "def convert_trend_toyearly(df, res):\n",
    "    period = df.index.year.value_counts().max()\n",
    "    yearlytrend = res.params.x1 * period\n",
    "    \n",
    "    return yearlytrend\n",
    "\n",
    "trend = convert_trend_toyearly(df, res)\n",
    "print(f'{trend:1.4f} m/yr')\n",
    "print(f'or {trend * 1000:1.2f} mm/yr')"
   ]
  },
  {
   "cell_type": "code",
   "execution_count": null,
   "metadata": {},
   "outputs": [],
   "source": []
  },
  {
   "cell_type": "markdown",
   "metadata": {},
   "source": [
    "## Loop through each file, save trend, and plot ALL WITH FUNCTIONS"
   ]
  },
  {
   "cell_type": "code",
   "execution_count": null,
   "metadata": {},
   "outputs": [],
   "source": [
    "sonel_trend_array = np.full(np.shape(filenames)[0], np.nan)\n",
    "site_name_array = []\n",
    "\n",
    "\n",
    "for f, filepath in enumerate(filenames):\n",
    "    print(f'\\n\\n{filepath}')\n",
    "    print(f'f: {f}')\n",
    "    ## ToDo - extract and keep other important thing about each site from the file...Lat/Lon, name, etc.\n",
    "    \n",
    "    # Read in data\n",
    "    df = read_GPS_SONEL(filepath)\n",
    "\n",
    "    # Get trend using linear regression\n",
    "    res = test_calc_OLS(df, 'DU')\n",
    "    sonel_trend_array[f] = res.params.x1\n",
    "    \n",
    "    # Save site name\n",
    "    site_name_array.append(filepath[-24:-20])\n",
    "    \n",
    "    print(f\"Trend = {sonel_trend_array[f] * 1000:.2f} mm/yr\")\n",
    "#     print(res.summary())\n",
    "\n",
    "    # Make Plot\n",
    "    test_plot_OLS(df, res, filepath[-24:-20], 'DU')\n"
   ]
  },
  {
   "cell_type": "code",
   "execution_count": null,
   "metadata": {},
   "outputs": [],
   "source": [
    "print(sonel_trend_array)"
   ]
  },
  {
   "cell_type": "code",
   "execution_count": null,
   "metadata": {},
   "outputs": [],
   "source": []
  }
 ],
 "metadata": {
  "kernelspec": {
   "display_name": "Python 3",
   "language": "python",
   "name": "python3"
  },
  "language_info": {
   "codemirror_mode": {
    "name": "ipython",
    "version": 3
   },
   "file_extension": ".py",
   "mimetype": "text/x-python",
   "name": "python",
   "nbconvert_exporter": "python",
   "pygments_lexer": "ipython3",
   "version": "3.7.6"
  }
 },
 "nbformat": 4,
 "nbformat_minor": 4
}
