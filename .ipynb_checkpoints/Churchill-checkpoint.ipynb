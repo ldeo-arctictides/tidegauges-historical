{
 "cells": [
  {
   "cell_type": "code",
   "execution_count": null,
   "metadata": {},
   "outputs": [],
   "source": [
    "import os\n",
    "import numpy as np\n",
    "import pandas as pd\n",
    "\n",
    "%matplotlib inline"
   ]
  },
  {
   "cell_type": "markdown",
   "metadata": {},
   "source": [
    "# Reads the daily data csv file, formats its data table and plots it."
   ]
  },
  {
   "cell_type": "code",
   "execution_count": null,
   "metadata": {},
   "outputs": [],
   "source": [
    "dir_in = 'data'\n",
    "file_in = 'd274.csv'\n",
    "\n",
    "column_names=['Year', 'Month', 'Day', 'Sea Level'] \n",
    "DailyDf = pd.read_csv(os.path.join(dir_in, file_in), names=column_names)\n",
    "DailyDf['DateTime'] = pd.to_datetime(DailyDf[['Year', 'Month', 'Day']])\n",
    "DailyDf = DailyDf.set_index('DateTime')\n",
    "DailyDf\n",
    "DailyDf['Sea Level'].plot(color = 'red')"
   ]
  },
  {
   "cell_type": "markdown",
   "metadata": {},
   "source": [
    "# Reads the hourly data csv file, formats its data table and plots it.."
   ]
  },
  {
   "cell_type": "code",
   "execution_count": null,
   "metadata": {},
   "outputs": [],
   "source": [
    "dir_in = 'data'\n",
    "file_in = 'h274.csv'\n",
    "\n",
    "column_names=['Year', 'Month', 'Day', 'Hour', 'Sea Level'] \n",
    "HourlyDf = pd.read_csv(os.path.join(dir_in, file_in), names=column_names)\n",
    "HourlyDf['DateTime'] = pd.to_datetime(HourlyDf[['Year', 'Month', 'Day', 'Hour']])\n",
    "HourlyDf = HourlyDf.set_index('DateTime')\n",
    "HourlyDf\n",
    "HourlyDf['Sea Level'].plot(color = 'gray')"
   ]
  },
  {
   "cell_type": "markdown",
   "metadata": {},
   "source": [
    "# Plots the daily and hourly data ontop of eachother"
   ]
  },
  {
   "cell_type": "code",
   "execution_count": null,
   "metadata": {},
   "outputs": [],
   "source": [
    "DailyDf['Sea Level'].plot(color = 'red')\n",
    "HourlyDf['Sea Level'].plot(color = 'gray')"
   ]
  },
  {
   "cell_type": "code",
   "execution_count": null,
   "metadata": {},
   "outputs": [],
   "source": [
    "\n",
    "\n"
   ]
  },
  {
   "cell_type": "code",
   "execution_count": null,
   "metadata": {},
   "outputs": [],
   "source": []
  },
  {
   "cell_type": "code",
   "execution_count": null,
   "metadata": {},
   "outputs": [],
   "source": []
  },
  {
   "cell_type": "code",
   "execution_count": null,
   "metadata": {},
   "outputs": [],
   "source": []
  },
  {
   "cell_type": "code",
   "execution_count": null,
   "metadata": {},
   "outputs": [],
   "source": []
  }
 ],
 "metadata": {
  "kernelspec": {
   "display_name": "Python 3",
   "language": "python",
   "name": "python3"
  },
  "language_info": {
   "codemirror_mode": {
    "name": "ipython",
    "version": 3
   },
   "file_extension": ".py",
   "mimetype": "text/x-python",
   "name": "python",
   "nbconvert_exporter": "python",
   "pygments_lexer": "ipython3",
   "version": "3.7.6"
  }
 },
 "nbformat": 4,
 "nbformat_minor": 4
}
