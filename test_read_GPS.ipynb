{
 "cells": [
  {
   "cell_type": "markdown",
   "metadata": {},
   "source": [
    "# Test Notebook to learn how to read in GPS"
   ]
  },
  {
   "cell_type": "markdown",
   "metadata": {},
   "source": [
    "### Some sources of GPS data\n",
    "\n",
    "Greenland\n",
    "\n",
    "http://go-gnet.org/data/\n",
    "\n",
    "https://www.unavco.org/data/gps-gnss/data-access-methods/data-access-methods.html\n",
    "\n",
    "____"
   ]
  },
  {
   "cell_type": "markdown",
   "metadata": {},
   "source": [
    "### Load in some modules"
   ]
  },
  {
   "cell_type": "code",
   "execution_count": 1,
   "metadata": {},
   "outputs": [],
   "source": [
    "import os\n",
    "import numpy as np\n",
    "import pandas as pd\n",
    "import matplotlib.pyplot as plt\n",
    "\n",
    "%matplotlib inline"
   ]
  },
  {
   "cell_type": "markdown",
   "metadata": {},
   "source": [
    "### Specify directories and filenames\n",
    "and other runtime options"
   ]
  },
  {
   "cell_type": "code",
   "execution_count": 2,
   "metadata": {},
   "outputs": [],
   "source": [
    "def read_GPS_nam14(path, columns=None):\n",
    "    columns=['Date', 'North', 'East', 'Vertical', 'NorthSTD', 'EastSTD', 'VerticalSTD', 'Quality', 'NaN']\n",
    "    df = pd.read_csv(path, skiprows=12, header=None, engine='c')\n",
    "    if len(df.columns) == len(columns):\n",
    "        df.columns = ['Date', 'North', 'East', 'Vertical', 'NorthSTD', 'EastSTD', 'VerticalSTD', 'Quality', 'NaN']\n",
    "        dt = pd.to_datetime(df['Date'])\n",
    "    \n",
    "    # create datetime index\n",
    "    df.index = pd.DatetimeIndex(dt)\n",
    "    df = df.drop('Date', axis=1)\n",
    "    return df"
   ]
  },
  {
   "cell_type": "code",
   "execution_count": 3,
   "metadata": {},
   "outputs": [],
   "source": [
    "dir_in = 'data'\n",
    "file_in = 'KULL.cwu.nam14'\n",
    "ext = '.csv'"
   ]
  },
  {
   "cell_type": "code",
   "execution_count": 4,
   "metadata": {},
   "outputs": [],
   "source": [
    "filepath = os.path.join(dir_in, file_in + ext)"
   ]
  },
  {
   "cell_type": "markdown",
   "metadata": {},
   "source": [
    "### Basic `read_csv` to peek into the csv file"
   ]
  },
  {
   "cell_type": "code",
   "execution_count": 5,
   "metadata": {},
   "outputs": [
    {
     "data": {
      "text/html": [
       "<div>\n",
       "<style scoped>\n",
       "    .dataframe tbody tr th:only-of-type {\n",
       "        vertical-align: middle;\n",
       "    }\n",
       "\n",
       "    .dataframe tbody tr th {\n",
       "        vertical-align: top;\n",
       "    }\n",
       "\n",
       "    .dataframe thead th {\n",
       "        text-align: right;\n",
       "    }\n",
       "</style>\n",
       "<table border=\"1\" class=\"dataframe\">\n",
       "  <thead>\n",
       "    <tr style=\"text-align: right;\">\n",
       "      <th></th>\n",
       "      <th>North</th>\n",
       "      <th>East</th>\n",
       "      <th>Vertical</th>\n",
       "      <th>NorthSTD</th>\n",
       "      <th>EastSTD</th>\n",
       "      <th>VerticalSTD</th>\n",
       "      <th>Quality</th>\n",
       "      <th>NaN</th>\n",
       "    </tr>\n",
       "    <tr>\n",
       "      <th>Date</th>\n",
       "      <th></th>\n",
       "      <th></th>\n",
       "      <th></th>\n",
       "      <th></th>\n",
       "      <th></th>\n",
       "      <th></th>\n",
       "      <th></th>\n",
       "      <th></th>\n",
       "    </tr>\n",
       "  </thead>\n",
       "  <tbody>\n",
       "    <tr>\n",
       "      <th>2007-08-15</th>\n",
       "      <td>0.00</td>\n",
       "      <td>0.00</td>\n",
       "      <td>0.00</td>\n",
       "      <td>2.17</td>\n",
       "      <td>1.63</td>\n",
       "      <td>10.35</td>\n",
       "      <td>repro</td>\n",
       "      <td>NaN</td>\n",
       "    </tr>\n",
       "    <tr>\n",
       "      <th>2007-08-16</th>\n",
       "      <td>-1.20</td>\n",
       "      <td>-0.40</td>\n",
       "      <td>-9.86</td>\n",
       "      <td>2.11</td>\n",
       "      <td>1.59</td>\n",
       "      <td>9.85</td>\n",
       "      <td>repro</td>\n",
       "      <td>NaN</td>\n",
       "    </tr>\n",
       "    <tr>\n",
       "      <th>2007-08-17</th>\n",
       "      <td>-0.38</td>\n",
       "      <td>-1.15</td>\n",
       "      <td>-5.59</td>\n",
       "      <td>2.09</td>\n",
       "      <td>1.58</td>\n",
       "      <td>9.68</td>\n",
       "      <td>repro</td>\n",
       "      <td>NaN</td>\n",
       "    </tr>\n",
       "    <tr>\n",
       "      <th>2007-08-18</th>\n",
       "      <td>0.99</td>\n",
       "      <td>-0.50</td>\n",
       "      <td>-0.62</td>\n",
       "      <td>2.10</td>\n",
       "      <td>1.57</td>\n",
       "      <td>9.83</td>\n",
       "      <td>repro</td>\n",
       "      <td>NaN</td>\n",
       "    </tr>\n",
       "    <tr>\n",
       "      <th>2007-08-19</th>\n",
       "      <td>1.65</td>\n",
       "      <td>-1.67</td>\n",
       "      <td>2.67</td>\n",
       "      <td>2.17</td>\n",
       "      <td>1.66</td>\n",
       "      <td>10.46</td>\n",
       "      <td>repro</td>\n",
       "      <td>NaN</td>\n",
       "    </tr>\n",
       "    <tr>\n",
       "      <th>...</th>\n",
       "      <td>...</td>\n",
       "      <td>...</td>\n",
       "      <td>...</td>\n",
       "      <td>...</td>\n",
       "      <td>...</td>\n",
       "      <td>...</td>\n",
       "      <td>...</td>\n",
       "      <td>...</td>\n",
       "    </tr>\n",
       "    <tr>\n",
       "      <th>2019-05-15</th>\n",
       "      <td>-25.05</td>\n",
       "      <td>-31.07</td>\n",
       "      <td>99.41</td>\n",
       "      <td>1.92</td>\n",
       "      <td>1.45</td>\n",
       "      <td>9.30</td>\n",
       "      <td>suppf</td>\n",
       "      <td>NaN</td>\n",
       "    </tr>\n",
       "    <tr>\n",
       "      <th>2019-05-16</th>\n",
       "      <td>-24.44</td>\n",
       "      <td>-31.24</td>\n",
       "      <td>93.71</td>\n",
       "      <td>1.95</td>\n",
       "      <td>1.46</td>\n",
       "      <td>9.34</td>\n",
       "      <td>suppf</td>\n",
       "      <td>NaN</td>\n",
       "    </tr>\n",
       "    <tr>\n",
       "      <th>2019-05-17</th>\n",
       "      <td>-25.36</td>\n",
       "      <td>-30.92</td>\n",
       "      <td>91.95</td>\n",
       "      <td>2.01</td>\n",
       "      <td>1.53</td>\n",
       "      <td>9.75</td>\n",
       "      <td>suppf</td>\n",
       "      <td>NaN</td>\n",
       "    </tr>\n",
       "    <tr>\n",
       "      <th>2019-05-18</th>\n",
       "      <td>-24.72</td>\n",
       "      <td>-29.44</td>\n",
       "      <td>99.85</td>\n",
       "      <td>1.97</td>\n",
       "      <td>1.51</td>\n",
       "      <td>9.69</td>\n",
       "      <td>suppf</td>\n",
       "      <td>NaN</td>\n",
       "    </tr>\n",
       "    <tr>\n",
       "      <th>2019-05-19</th>\n",
       "      <td>-24.38</td>\n",
       "      <td>-31.05</td>\n",
       "      <td>92.94</td>\n",
       "      <td>1.91</td>\n",
       "      <td>1.43</td>\n",
       "      <td>9.23</td>\n",
       "      <td>suppf</td>\n",
       "      <td>NaN</td>\n",
       "    </tr>\n",
       "  </tbody>\n",
       "</table>\n",
       "<p>3761 rows × 8 columns</p>\n",
       "</div>"
      ],
      "text/plain": [
       "            North   East  Vertical  NorthSTD  EastSTD  VerticalSTD Quality  \\\n",
       "Date                                                                         \n",
       "2007-08-15   0.00   0.00      0.00      2.17     1.63        10.35   repro   \n",
       "2007-08-16  -1.20  -0.40     -9.86      2.11     1.59         9.85   repro   \n",
       "2007-08-17  -0.38  -1.15     -5.59      2.09     1.58         9.68   repro   \n",
       "2007-08-18   0.99  -0.50     -0.62      2.10     1.57         9.83   repro   \n",
       "2007-08-19   1.65  -1.67      2.67      2.17     1.66        10.46   repro   \n",
       "...           ...    ...       ...       ...      ...          ...     ...   \n",
       "2019-05-15 -25.05 -31.07     99.41      1.92     1.45         9.30   suppf   \n",
       "2019-05-16 -24.44 -31.24     93.71      1.95     1.46         9.34   suppf   \n",
       "2019-05-17 -25.36 -30.92     91.95      2.01     1.53         9.75   suppf   \n",
       "2019-05-18 -24.72 -29.44     99.85      1.97     1.51         9.69   suppf   \n",
       "2019-05-19 -24.38 -31.05     92.94      1.91     1.43         9.23   suppf   \n",
       "\n",
       "            NaN  \n",
       "Date             \n",
       "2007-08-15  NaN  \n",
       "2007-08-16  NaN  \n",
       "2007-08-17  NaN  \n",
       "2007-08-18  NaN  \n",
       "2007-08-19  NaN  \n",
       "...         ...  \n",
       "2019-05-15  NaN  \n",
       "2019-05-16  NaN  \n",
       "2019-05-17  NaN  \n",
       "2019-05-18  NaN  \n",
       "2019-05-19  NaN  \n",
       "\n",
       "[3761 rows x 8 columns]"
      ]
     },
     "execution_count": 5,
     "metadata": {},
     "output_type": "execute_result"
    }
   ],
   "source": [
    "# df = pd.read_csv(os.path.join(dir_in, file_in))\n",
    "df = read_GPS_nam14(filepath)\n",
    "df"
   ]
  },
  {
   "cell_type": "code",
   "execution_count": 6,
   "metadata": {},
   "outputs": [],
   "source": [
    "# with open(filepath) as myfile:\n",
    "#     firstNlines=myfile.readlines()[0:5] #put here the interval you want\n",
    "    \n",
    "# print(firstNlines)\n",
    "\n",
    "#with open(filepath) as myfile:\n",
    "   # head = [next(myfile) for x in range(13)]\n",
    "#print(head)"
   ]
  },
  {
   "cell_type": "code",
   "execution_count": 7,
   "metadata": {},
   "outputs": [
    {
     "data": {
      "text/plain": [
       "<matplotlib.axes._subplots.AxesSubplot at 0x23126f278c8>"
      ]
     },
     "execution_count": 7,
     "metadata": {},
     "output_type": "execute_result"
    },
    {
     "data": {
      "image/png": "[encoded data removed]",
      "text/plain": [
       "<Figure size 432x288 with 1 Axes>"
      ]
     },
     "metadata": {
      "needs_background": "light"
     },
     "output_type": "display_data"
    }
   ],
   "source": [
    "df[['North', 'East', 'Vertical']].plot(linestyle='', marker=',')"
   ]
  },
  {
   "cell_type": "code",
   "execution_count": 8,
   "metadata": {},
   "outputs": [
    {
     "data": {
      "text/plain": [
       "array([[<matplotlib.axes._subplots.AxesSubplot object at 0x000002312770C808>],\n",
       "       [<matplotlib.axes._subplots.AxesSubplot object at 0x0000023127733388>],\n",
       "       [<matplotlib.axes._subplots.AxesSubplot object at 0x000002312774A6C8>]],\n",
       "      dtype=object)"
      ]
     },
     "execution_count": 8,
     "metadata": {},
     "output_type": "execute_result"
    },
    {
     "data": {
      "image/png": "[encoded data removed]",
      "text/plain": [
       "<Figure size 216x576 with 3 Axes>"
      ]
     },
     "metadata": {
      "needs_background": "light"
     },
     "output_type": "display_data"
    }
   ],
   "source": [
    "df[['North', 'East', 'Vertical']].plot(subplots=True, \n",
    "                                       layout=(3, 1), figsize=(3, 8), \n",
    "                                       linestyle='', marker=',',\n",
    "                                       sharex=True)"
   ]
  },
  {
   "cell_type": "code",
   "execution_count": 9,
   "metadata": {},
   "outputs": [
    {
     "data": {
      "text/plain": [
       "<matplotlib.axes._subplots.AxesSubplot at 0x23127860d48>"
      ]
     },
     "execution_count": 9,
     "metadata": {},
     "output_type": "execute_result"
    },
    {
     "data": {
      "image/png": "[encoded data removed]",
      "text/plain": [
       "<Figure size 432x288 with 1 Axes>"
      ]
     },
     "metadata": {
      "needs_background": "light"
     },
     "output_type": "display_data"
    }
   ],
   "source": [
    "df[['North', 'East', 'Vertical']].plot.hist(alpha=0.5, bins=30)"
   ]
  },
  {
   "cell_type": "code",
   "execution_count": 10,
   "metadata": {},
   "outputs": [
    {
     "data": {
      "image/png": "[encoded data removed]",
      "text/plain": [
       "<Figure size 432x288 with 2 Axes>"
      ]
     },
     "metadata": {
      "needs_background": "light"
     },
     "output_type": "display_data"
    }
   ],
   "source": [
    "df.plot.hexbin(x='East', y='North', C='Vertical')\n",
    "plt.xlim([-50, 50])\n",
    "plt.ylim([-50, 50])\n",
    "plt.tight_layout()"
   ]
  },
  {
   "cell_type": "code",
   "execution_count": 11,
   "metadata": {},
   "outputs": [
    {
     "data": {
      "text/plain": [
       "Timedelta('4295 days 00:00:00')"
      ]
     },
     "execution_count": 11,
     "metadata": {},
     "output_type": "execute_result"
    }
   ],
   "source": [
    "df.index[-1] - df.index[0]"
   ]
  },
  {
   "cell_type": "code",
   "execution_count": 12,
   "metadata": {},
   "outputs": [
    {
     "data": {
      "text/plain": [
       "<matplotlib.axes._subplots.AxesSubplot at 0x23127acf408>"
      ]
     },
     "execution_count": 12,
     "metadata": {},
     "output_type": "execute_result"
    },
    {
     "data": {
      "image/png": "[encoded data removed]",
      "text/plain": [
       "<Figure size 432x288 with 1 Axes>"
      ]
     },
     "metadata": {
      "needs_background": "light"
     },
     "output_type": "display_data"
    }
   ],
   "source": [
    "from pandas.plotting import autocorrelation_plot\n",
    "\n",
    "autocorrelation_plot(df[['Vertical']])"
   ]
  },
  {
   "cell_type": "code",
   "execution_count": 13,
   "metadata": {},
   "outputs": [
    {
     "data": {
      "image/png": "[encoded data removed]",
      "text/plain": [
       "<Figure size 432x288 with 1 Axes>"
      ]
     },
     "execution_count": 13,
     "metadata": {},
     "output_type": "execute_result"
    },
    {
     "data": {
      "image/png": "[encoded data removed]",
      "text/plain": [
       "<Figure size 432x288 with 1 Axes>"
      ]
     },
     "metadata": {
      "needs_background": "light"
     },
     "output_type": "display_data"
    }
   ],
   "source": [
    "from statsmodels.graphics.tsaplots import plot_acf\n",
    "\n",
    "plot_acf(df[['Vertical']], lags = 500)"
   ]
  },
  {
   "cell_type": "code",
   "execution_count": 14,
   "metadata": {},
   "outputs": [
    {
     "data": {
      "text/html": [
       "<div>\n",
       "<style scoped>\n",
       "    .dataframe tbody tr th:only-of-type {\n",
       "        vertical-align: middle;\n",
       "    }\n",
       "\n",
       "    .dataframe tbody tr th {\n",
       "        vertical-align: top;\n",
       "    }\n",
       "\n",
       "    .dataframe thead th {\n",
       "        text-align: right;\n",
       "    }\n",
       "</style>\n",
       "<table border=\"1\" class=\"dataframe\">\n",
       "  <thead>\n",
       "    <tr style=\"text-align: right;\">\n",
       "      <th></th>\n",
       "      <th>North</th>\n",
       "      <th>East</th>\n",
       "      <th>Vertical</th>\n",
       "    </tr>\n",
       "  </thead>\n",
       "  <tbody>\n",
       "    <tr>\n",
       "      <th>North</th>\n",
       "      <td>1.000000</td>\n",
       "      <td>0.965090</td>\n",
       "      <td>-0.949176</td>\n",
       "    </tr>\n",
       "    <tr>\n",
       "      <th>East</th>\n",
       "      <td>0.965090</td>\n",
       "      <td>1.000000</td>\n",
       "      <td>-0.976086</td>\n",
       "    </tr>\n",
       "    <tr>\n",
       "      <th>Vertical</th>\n",
       "      <td>-0.949176</td>\n",
       "      <td>-0.976086</td>\n",
       "      <td>1.000000</td>\n",
       "    </tr>\n",
       "  </tbody>\n",
       "</table>\n",
       "</div>"
      ],
      "text/plain": [
       "             North      East  Vertical\n",
       "North     1.000000  0.965090 -0.949176\n",
       "East      0.965090  1.000000 -0.976086\n",
       "Vertical -0.949176 -0.976086  1.000000"
      ]
     },
     "execution_count": 14,
     "metadata": {},
     "output_type": "execute_result"
    }
   ],
   "source": [
    "df[['North', 'East', 'Vertical']].corr()"
   ]
  },
  {
   "cell_type": "code",
   "execution_count": null,
   "metadata": {},
   "outputs": [],
   "source": []
  }
 ],
 "metadata": {
  "kernelspec": {
   "display_name": "Python 3",
   "language": "python",
   "name": "python3"
  },
  "language_info": {
   "codemirror_mode": {
    "name": "ipython",
    "version": 3
   },
   "file_extension": ".py",
   "mimetype": "text/x-python",
   "name": "python",
   "nbconvert_exporter": "python",
   "pygments_lexer": "ipython3",
   "version": "3.7.6"
  }
 },
 "nbformat": 4,
 "nbformat_minor": 4
}
