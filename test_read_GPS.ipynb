{
 "cells": [
  {
   "cell_type": "markdown",
   "metadata": {},
   "source": [
    "# Test Notebook to learn how to read in GPS"
   ]
  },
  {
   "cell_type": "markdown",
   "metadata": {},
   "source": [
    "### Some sources of GPS data\n",
    "\n",
    "Greenland\n",
    "\n",
    "http://go-gnet.org/data/\n",
    "\n",
    "https://www.unavco.org/data/gps-gnss/data-access-methods/data-access-methods.html\n",
    "\n",
    "____"
   ]
  },
  {
   "cell_type": "markdown",
   "metadata": {},
   "source": [
    "### Load in some modules"
   ]
  },
  {
   "cell_type": "code",
   "execution_count": 34,
   "metadata": {},
   "outputs": [],
   "source": [
    "import os\n",
    "import numpy as np\n",
    "import pandas as pd\n",
    "import matplotlib.pyplot as plt\n",
    "from tidegauge_functions import read_GPS_SONEL\n",
    "from tidegauge_functions import calc_rolling_decomposition_GPS\n",
    "%matplotlib inline"
   ]
  },
  {
   "cell_type": "markdown",
   "metadata": {},
   "source": [
    "### Specify directories and filenames\n",
    "and other runtime options"
   ]
  },
  {
   "cell_type": "code",
   "execution_count": 30,
   "metadata": {},
   "outputs": [],
   "source": [
    "dir_in = 'data'\n",
    "sub_dir = 'GPS'\n",
    "file_in = 'dAB50_99999X007_ULR6B.neu'\n",
    "ext = '.csv'"
   ]
  },
  {
   "cell_type": "code",
   "execution_count": 31,
   "metadata": {},
   "outputs": [],
   "source": [
    "filepath = os.path.join(dir_in, sub_dir, file_in)"
   ]
  },
  {
   "cell_type": "markdown",
   "metadata": {},
   "source": [
    "### Basic `read_csv` to peek into the csv file"
   ]
  },
  {
   "cell_type": "code",
   "execution_count": 32,
   "metadata": {},
   "outputs": [
    {
     "data": {
      "text/html": [
       "<div>\n",
       "<style scoped>\n",
       "    .dataframe tbody tr th:only-of-type {\n",
       "        vertical-align: middle;\n",
       "    }\n",
       "\n",
       "    .dataframe tbody tr th {\n",
       "        vertical-align: top;\n",
       "    }\n",
       "\n",
       "    .dataframe thead th {\n",
       "        text-align: right;\n",
       "    }\n",
       "</style>\n",
       "<table border=\"1\" class=\"dataframe\">\n",
       "  <thead>\n",
       "    <tr style=\"text-align: right;\">\n",
       "      <th></th>\n",
       "      <th>North</th>\n",
       "      <th>East</th>\n",
       "      <th>Vertical</th>\n",
       "      <th>NorthSTD</th>\n",
       "      <th>EastSTD</th>\n",
       "      <th>VerticalSTD</th>\n",
       "    </tr>\n",
       "    <tr>\n",
       "      <th>Year</th>\n",
       "      <th></th>\n",
       "      <th></th>\n",
       "      <th></th>\n",
       "      <th></th>\n",
       "      <th></th>\n",
       "      <th></th>\n",
       "    </tr>\n",
       "  </thead>\n",
       "  <tbody>\n",
       "    <tr>\n",
       "      <th>2005-08-18</th>\n",
       "      <td>-0.0161</td>\n",
       "      <td>-0.0179</td>\n",
       "      <td>0.0317</td>\n",
       "      <td>0.0036</td>\n",
       "      <td>0.0034</td>\n",
       "      <td>0.0094</td>\n",
       "    </tr>\n",
       "    <tr>\n",
       "      <th>2005-08-19</th>\n",
       "      <td>-0.0175</td>\n",
       "      <td>-0.0166</td>\n",
       "      <td>0.0348</td>\n",
       "      <td>0.0036</td>\n",
       "      <td>0.0031</td>\n",
       "      <td>0.0097</td>\n",
       "    </tr>\n",
       "    <tr>\n",
       "      <th>2005-08-20</th>\n",
       "      <td>-0.0153</td>\n",
       "      <td>-0.0154</td>\n",
       "      <td>0.0216</td>\n",
       "      <td>0.0031</td>\n",
       "      <td>0.0029</td>\n",
       "      <td>0.0078</td>\n",
       "    </tr>\n",
       "    <tr>\n",
       "      <th>2005-08-21</th>\n",
       "      <td>-0.0152</td>\n",
       "      <td>-0.0123</td>\n",
       "      <td>0.0227</td>\n",
       "      <td>0.0031</td>\n",
       "      <td>0.0028</td>\n",
       "      <td>0.0076</td>\n",
       "    </tr>\n",
       "    <tr>\n",
       "      <th>2005-08-22</th>\n",
       "      <td>-0.0146</td>\n",
       "      <td>-0.0172</td>\n",
       "      <td>0.0214</td>\n",
       "      <td>0.0032</td>\n",
       "      <td>0.0029</td>\n",
       "      <td>0.0078</td>\n",
       "    </tr>\n",
       "    <tr>\n",
       "      <th>...</th>\n",
       "      <td>...</td>\n",
       "      <td>...</td>\n",
       "      <td>...</td>\n",
       "      <td>...</td>\n",
       "      <td>...</td>\n",
       "      <td>...</td>\n",
       "    </tr>\n",
       "    <tr>\n",
       "      <th>2013-12-26</th>\n",
       "      <td>-0.1427</td>\n",
       "      <td>-0.1194</td>\n",
       "      <td>0.1713</td>\n",
       "      <td>0.0034</td>\n",
       "      <td>0.0031</td>\n",
       "      <td>0.0074</td>\n",
       "    </tr>\n",
       "    <tr>\n",
       "      <th>2013-12-27</th>\n",
       "      <td>-0.1426</td>\n",
       "      <td>-0.1229</td>\n",
       "      <td>0.1572</td>\n",
       "      <td>0.0029</td>\n",
       "      <td>0.0025</td>\n",
       "      <td>0.0070</td>\n",
       "    </tr>\n",
       "    <tr>\n",
       "      <th>2013-12-28</th>\n",
       "      <td>-0.1409</td>\n",
       "      <td>-0.1193</td>\n",
       "      <td>0.1563</td>\n",
       "      <td>0.0031</td>\n",
       "      <td>0.0026</td>\n",
       "      <td>0.0078</td>\n",
       "    </tr>\n",
       "    <tr>\n",
       "      <th>2013-12-29</th>\n",
       "      <td>-0.1392</td>\n",
       "      <td>-0.1217</td>\n",
       "      <td>0.1456</td>\n",
       "      <td>0.0033</td>\n",
       "      <td>0.0027</td>\n",
       "      <td>0.0085</td>\n",
       "    </tr>\n",
       "    <tr>\n",
       "      <th>2013-12-30</th>\n",
       "      <td>-0.1405</td>\n",
       "      <td>-0.1208</td>\n",
       "      <td>0.1572</td>\n",
       "      <td>0.0035</td>\n",
       "      <td>0.0031</td>\n",
       "      <td>0.0076</td>\n",
       "    </tr>\n",
       "  </tbody>\n",
       "</table>\n",
       "<p>2882 rows × 6 columns</p>\n",
       "</div>"
      ],
      "text/plain": [
       "             North    East  Vertical  NorthSTD  EastSTD  VerticalSTD\n",
       "Year                                                                \n",
       "2005-08-18 -0.0161 -0.0179    0.0317    0.0036   0.0034       0.0094\n",
       "2005-08-19 -0.0175 -0.0166    0.0348    0.0036   0.0031       0.0097\n",
       "2005-08-20 -0.0153 -0.0154    0.0216    0.0031   0.0029       0.0078\n",
       "2005-08-21 -0.0152 -0.0123    0.0227    0.0031   0.0028       0.0076\n",
       "2005-08-22 -0.0146 -0.0172    0.0214    0.0032   0.0029       0.0078\n",
       "...            ...     ...       ...       ...      ...          ...\n",
       "2013-12-26 -0.1427 -0.1194    0.1713    0.0034   0.0031       0.0074\n",
       "2013-12-27 -0.1426 -0.1229    0.1572    0.0029   0.0025       0.0070\n",
       "2013-12-28 -0.1409 -0.1193    0.1563    0.0031   0.0026       0.0078\n",
       "2013-12-29 -0.1392 -0.1217    0.1456    0.0033   0.0027       0.0085\n",
       "2013-12-30 -0.1405 -0.1208    0.1572    0.0035   0.0031       0.0076\n",
       "\n",
       "[2882 rows x 6 columns]"
      ]
     },
     "execution_count": 32,
     "metadata": {},
     "output_type": "execute_result"
    }
   ],
   "source": [
    "df = read_GPS_SONEL(filepath)\n",
    "df"
   ]
  },
  {
   "cell_type": "code",
   "execution_count": 36,
   "metadata": {},
   "outputs": [
    {
     "data": {
      "text/html": [
       "<div>\n",
       "<style scoped>\n",
       "    .dataframe tbody tr th:only-of-type {\n",
       "        vertical-align: middle;\n",
       "    }\n",
       "\n",
       "    .dataframe tbody tr th {\n",
       "        vertical-align: top;\n",
       "    }\n",
       "\n",
       "    .dataframe thead th {\n",
       "        text-align: right;\n",
       "    }\n",
       "</style>\n",
       "<table border=\"1\" class=\"dataframe\">\n",
       "  <thead>\n",
       "    <tr style=\"text-align: right;\">\n",
       "      <th></th>\n",
       "      <th>North</th>\n",
       "      <th>East</th>\n",
       "      <th>Vertical</th>\n",
       "      <th>NorthSTD</th>\n",
       "      <th>EastSTD</th>\n",
       "      <th>VerticalSTD</th>\n",
       "      <th>trend_Vert</th>\n",
       "      <th>seasonal_Vert</th>\n",
       "      <th>residual_Vert</th>\n",
       "      <th>trend_North</th>\n",
       "      <th>seasonal_North</th>\n",
       "      <th>residual_North</th>\n",
       "      <th>trend_East</th>\n",
       "      <th>seasonal_East</th>\n",
       "      <th>residual_East</th>\n",
       "    </tr>\n",
       "    <tr>\n",
       "      <th>Year</th>\n",
       "      <th></th>\n",
       "      <th></th>\n",
       "      <th></th>\n",
       "      <th></th>\n",
       "      <th></th>\n",
       "      <th></th>\n",
       "      <th></th>\n",
       "      <th></th>\n",
       "      <th></th>\n",
       "      <th></th>\n",
       "      <th></th>\n",
       "      <th></th>\n",
       "      <th></th>\n",
       "      <th></th>\n",
       "      <th></th>\n",
       "    </tr>\n",
       "  </thead>\n",
       "  <tbody>\n",
       "    <tr>\n",
       "      <th>2005-08-18</th>\n",
       "      <td>-0.0161</td>\n",
       "      <td>-0.0179</td>\n",
       "      <td>0.0317</td>\n",
       "      <td>0.0036</td>\n",
       "      <td>0.0034</td>\n",
       "      <td>0.0094</td>\n",
       "      <td>NaN</td>\n",
       "      <td>0.002307</td>\n",
       "      <td>NaN</td>\n",
       "      <td>NaN</td>\n",
       "      <td>-0.000895</td>\n",
       "      <td>NaN</td>\n",
       "      <td>NaN</td>\n",
       "      <td>-0.000262</td>\n",
       "      <td>NaN</td>\n",
       "    </tr>\n",
       "    <tr>\n",
       "      <th>2005-08-19</th>\n",
       "      <td>-0.0175</td>\n",
       "      <td>-0.0166</td>\n",
       "      <td>0.0348</td>\n",
       "      <td>0.0036</td>\n",
       "      <td>0.0031</td>\n",
       "      <td>0.0097</td>\n",
       "      <td>NaN</td>\n",
       "      <td>0.001206</td>\n",
       "      <td>NaN</td>\n",
       "      <td>NaN</td>\n",
       "      <td>-0.002008</td>\n",
       "      <td>NaN</td>\n",
       "      <td>NaN</td>\n",
       "      <td>-0.000580</td>\n",
       "      <td>NaN</td>\n",
       "    </tr>\n",
       "    <tr>\n",
       "      <th>2005-08-20</th>\n",
       "      <td>-0.0153</td>\n",
       "      <td>-0.0154</td>\n",
       "      <td>0.0216</td>\n",
       "      <td>0.0031</td>\n",
       "      <td>0.0029</td>\n",
       "      <td>0.0078</td>\n",
       "      <td>NaN</td>\n",
       "      <td>0.004195</td>\n",
       "      <td>NaN</td>\n",
       "      <td>NaN</td>\n",
       "      <td>-0.000321</td>\n",
       "      <td>NaN</td>\n",
       "      <td>NaN</td>\n",
       "      <td>0.000402</td>\n",
       "      <td>NaN</td>\n",
       "    </tr>\n",
       "    <tr>\n",
       "      <th>2005-08-21</th>\n",
       "      <td>-0.0152</td>\n",
       "      <td>-0.0123</td>\n",
       "      <td>0.0227</td>\n",
       "      <td>0.0031</td>\n",
       "      <td>0.0028</td>\n",
       "      <td>0.0076</td>\n",
       "      <td>NaN</td>\n",
       "      <td>0.002155</td>\n",
       "      <td>NaN</td>\n",
       "      <td>NaN</td>\n",
       "      <td>-0.002035</td>\n",
       "      <td>NaN</td>\n",
       "      <td>NaN</td>\n",
       "      <td>0.000883</td>\n",
       "      <td>NaN</td>\n",
       "    </tr>\n",
       "    <tr>\n",
       "      <th>2005-08-22</th>\n",
       "      <td>-0.0146</td>\n",
       "      <td>-0.0172</td>\n",
       "      <td>0.0214</td>\n",
       "      <td>0.0032</td>\n",
       "      <td>0.0029</td>\n",
       "      <td>0.0078</td>\n",
       "      <td>NaN</td>\n",
       "      <td>0.003982</td>\n",
       "      <td>NaN</td>\n",
       "      <td>NaN</td>\n",
       "      <td>-0.001705</td>\n",
       "      <td>NaN</td>\n",
       "      <td>NaN</td>\n",
       "      <td>-0.000193</td>\n",
       "      <td>NaN</td>\n",
       "    </tr>\n",
       "    <tr>\n",
       "      <th>...</th>\n",
       "      <td>...</td>\n",
       "      <td>...</td>\n",
       "      <td>...</td>\n",
       "      <td>...</td>\n",
       "      <td>...</td>\n",
       "      <td>...</td>\n",
       "      <td>...</td>\n",
       "      <td>...</td>\n",
       "      <td>...</td>\n",
       "      <td>...</td>\n",
       "      <td>...</td>\n",
       "      <td>...</td>\n",
       "      <td>...</td>\n",
       "      <td>...</td>\n",
       "      <td>...</td>\n",
       "    </tr>\n",
       "    <tr>\n",
       "      <th>2013-12-26</th>\n",
       "      <td>-0.1427</td>\n",
       "      <td>-0.1194</td>\n",
       "      <td>0.1713</td>\n",
       "      <td>0.0034</td>\n",
       "      <td>0.0031</td>\n",
       "      <td>0.0074</td>\n",
       "      <td>NaN</td>\n",
       "      <td>0.000387</td>\n",
       "      <td>NaN</td>\n",
       "      <td>NaN</td>\n",
       "      <td>-0.000456</td>\n",
       "      <td>NaN</td>\n",
       "      <td>NaN</td>\n",
       "      <td>-0.000225</td>\n",
       "      <td>NaN</td>\n",
       "    </tr>\n",
       "    <tr>\n",
       "      <th>2013-12-27</th>\n",
       "      <td>-0.1426</td>\n",
       "      <td>-0.1229</td>\n",
       "      <td>0.1572</td>\n",
       "      <td>0.0029</td>\n",
       "      <td>0.0025</td>\n",
       "      <td>0.0070</td>\n",
       "      <td>NaN</td>\n",
       "      <td>0.001967</td>\n",
       "      <td>NaN</td>\n",
       "      <td>NaN</td>\n",
       "      <td>0.000016</td>\n",
       "      <td>NaN</td>\n",
       "      <td>NaN</td>\n",
       "      <td>0.000269</td>\n",
       "      <td>NaN</td>\n",
       "    </tr>\n",
       "    <tr>\n",
       "      <th>2013-12-28</th>\n",
       "      <td>-0.1409</td>\n",
       "      <td>-0.1193</td>\n",
       "      <td>0.1563</td>\n",
       "      <td>0.0031</td>\n",
       "      <td>0.0026</td>\n",
       "      <td>0.0078</td>\n",
       "      <td>NaN</td>\n",
       "      <td>0.000732</td>\n",
       "      <td>NaN</td>\n",
       "      <td>NaN</td>\n",
       "      <td>-0.000112</td>\n",
       "      <td>NaN</td>\n",
       "      <td>NaN</td>\n",
       "      <td>-0.000392</td>\n",
       "      <td>NaN</td>\n",
       "    </tr>\n",
       "    <tr>\n",
       "      <th>2013-12-29</th>\n",
       "      <td>-0.1392</td>\n",
       "      <td>-0.1217</td>\n",
       "      <td>0.1456</td>\n",
       "      <td>0.0033</td>\n",
       "      <td>0.0027</td>\n",
       "      <td>0.0085</td>\n",
       "      <td>NaN</td>\n",
       "      <td>-0.000346</td>\n",
       "      <td>NaN</td>\n",
       "      <td>NaN</td>\n",
       "      <td>-0.000010</td>\n",
       "      <td>NaN</td>\n",
       "      <td>NaN</td>\n",
       "      <td>-0.000854</td>\n",
       "      <td>NaN</td>\n",
       "    </tr>\n",
       "    <tr>\n",
       "      <th>2013-12-30</th>\n",
       "      <td>-0.1405</td>\n",
       "      <td>-0.1208</td>\n",
       "      <td>0.1572</td>\n",
       "      <td>0.0035</td>\n",
       "      <td>0.0031</td>\n",
       "      <td>0.0076</td>\n",
       "      <td>NaN</td>\n",
       "      <td>0.000004</td>\n",
       "      <td>NaN</td>\n",
       "      <td>NaN</td>\n",
       "      <td>-0.000437</td>\n",
       "      <td>NaN</td>\n",
       "      <td>NaN</td>\n",
       "      <td>-0.001243</td>\n",
       "      <td>NaN</td>\n",
       "    </tr>\n",
       "  </tbody>\n",
       "</table>\n",
       "<p>2882 rows × 15 columns</p>\n",
       "</div>"
      ],
      "text/plain": [
       "             North    East  Vertical  NorthSTD  EastSTD  VerticalSTD  \\\n",
       "Year                                                                   \n",
       "2005-08-18 -0.0161 -0.0179    0.0317    0.0036   0.0034       0.0094   \n",
       "2005-08-19 -0.0175 -0.0166    0.0348    0.0036   0.0031       0.0097   \n",
       "2005-08-20 -0.0153 -0.0154    0.0216    0.0031   0.0029       0.0078   \n",
       "2005-08-21 -0.0152 -0.0123    0.0227    0.0031   0.0028       0.0076   \n",
       "2005-08-22 -0.0146 -0.0172    0.0214    0.0032   0.0029       0.0078   \n",
       "...            ...     ...       ...       ...      ...          ...   \n",
       "2013-12-26 -0.1427 -0.1194    0.1713    0.0034   0.0031       0.0074   \n",
       "2013-12-27 -0.1426 -0.1229    0.1572    0.0029   0.0025       0.0070   \n",
       "2013-12-28 -0.1409 -0.1193    0.1563    0.0031   0.0026       0.0078   \n",
       "2013-12-29 -0.1392 -0.1217    0.1456    0.0033   0.0027       0.0085   \n",
       "2013-12-30 -0.1405 -0.1208    0.1572    0.0035   0.0031       0.0076   \n",
       "\n",
       "            trend_Vert  seasonal_Vert  residual_Vert  trend_North  \\\n",
       "Year                                                                \n",
       "2005-08-18         NaN       0.002307            NaN          NaN   \n",
       "2005-08-19         NaN       0.001206            NaN          NaN   \n",
       "2005-08-20         NaN       0.004195            NaN          NaN   \n",
       "2005-08-21         NaN       0.002155            NaN          NaN   \n",
       "2005-08-22         NaN       0.003982            NaN          NaN   \n",
       "...                ...            ...            ...          ...   \n",
       "2013-12-26         NaN       0.000387            NaN          NaN   \n",
       "2013-12-27         NaN       0.001967            NaN          NaN   \n",
       "2013-12-28         NaN       0.000732            NaN          NaN   \n",
       "2013-12-29         NaN      -0.000346            NaN          NaN   \n",
       "2013-12-30         NaN       0.000004            NaN          NaN   \n",
       "\n",
       "            seasonal_North  residual_North  trend_East  seasonal_East  \\\n",
       "Year                                                                    \n",
       "2005-08-18       -0.000895             NaN         NaN      -0.000262   \n",
       "2005-08-19       -0.002008             NaN         NaN      -0.000580   \n",
       "2005-08-20       -0.000321             NaN         NaN       0.000402   \n",
       "2005-08-21       -0.002035             NaN         NaN       0.000883   \n",
       "2005-08-22       -0.001705             NaN         NaN      -0.000193   \n",
       "...                    ...             ...         ...            ...   \n",
       "2013-12-26       -0.000456             NaN         NaN      -0.000225   \n",
       "2013-12-27        0.000016             NaN         NaN       0.000269   \n",
       "2013-12-28       -0.000112             NaN         NaN      -0.000392   \n",
       "2013-12-29       -0.000010             NaN         NaN      -0.000854   \n",
       "2013-12-30       -0.000437             NaN         NaN      -0.001243   \n",
       "\n",
       "            residual_East  \n",
       "Year                       \n",
       "2005-08-18            NaN  \n",
       "2005-08-19            NaN  \n",
       "2005-08-20            NaN  \n",
       "2005-08-21            NaN  \n",
       "2005-08-22            NaN  \n",
       "...                   ...  \n",
       "2013-12-26            NaN  \n",
       "2013-12-27            NaN  \n",
       "2013-12-28            NaN  \n",
       "2013-12-29            NaN  \n",
       "2013-12-30            NaN  \n",
       "\n",
       "[2882 rows x 15 columns]"
      ]
     },
     "execution_count": 36,
     "metadata": {},
     "output_type": "execute_result"
    }
   ],
   "source": [
    "df = calc_rolling_decomposition_GPS(df)\n",
    "df"
   ]
  },
  {
   "cell_type": "code",
   "execution_count": null,
   "metadata": {},
   "outputs": [],
   "source": [
    "# with open(filepath) as myfile:\n",
    "#     firstNlines=myfile.readlines()[0:5] #put here the interval you want\n",
    "    \n",
    "# print(firstNlines)\n",
    "\n",
    "#with open(filepath) as myfile:\n",
    "   # head = [next(myfile) for x in range(13)]\n",
    "#print(head)"
   ]
  },
  {
   "cell_type": "code",
   "execution_count": 40,
   "metadata": {},
   "outputs": [
    {
     "ename": "NameError",
     "evalue": "name 'test_calc_OLS' is not defined",
     "output_type": "error",
     "traceback": [
      "\u001b[1;31m---------------------------------------------------------------------------\u001b[0m",
      "\u001b[1;31mNameError\u001b[0m                                 Traceback (most recent call last)",
      "\u001b[1;32m<ipython-input-40-ea1832252fd4>\u001b[0m in \u001b[0;36m<module>\u001b[1;34m\u001b[0m\n\u001b[1;32m----> 1\u001b[1;33m \u001b[0mres\u001b[0m \u001b[1;33m=\u001b[0m \u001b[0mtest_calc_OLS\u001b[0m\u001b[1;33m(\u001b[0m\u001b[0mdf\u001b[0m\u001b[1;33m,\u001b[0m \u001b[1;34m'DU'\u001b[0m\u001b[1;33m)\u001b[0m\u001b[1;33m\u001b[0m\u001b[1;33m\u001b[0m\u001b[0m\n\u001b[0m\u001b[0;32m      2\u001b[0m \u001b[0msonel_trend_array\u001b[0m\u001b[1;33m[\u001b[0m\u001b[0mf\u001b[0m\u001b[1;33m]\u001b[0m \u001b[1;33m=\u001b[0m \u001b[0mres\u001b[0m\u001b[1;33m.\u001b[0m\u001b[0mparams\u001b[0m\u001b[1;33m.\u001b[0m\u001b[0mx1\u001b[0m\u001b[1;33m\u001b[0m\u001b[1;33m\u001b[0m\u001b[0m\n\u001b[0;32m      3\u001b[0m \u001b[1;33m\u001b[0m\u001b[0m\n\u001b[0;32m      4\u001b[0m \u001b[0mprint\u001b[0m\u001b[1;33m(\u001b[0m\u001b[1;34mf\"Trend = {sonel_trend_array[f] * 1000:.2f} mm/yr\"\u001b[0m\u001b[1;33m)\u001b[0m\u001b[1;33m\u001b[0m\u001b[1;33m\u001b[0m\u001b[0m\n\u001b[0;32m      5\u001b[0m \u001b[1;33m\u001b[0m\u001b[0m\n",
      "\u001b[1;31mNameError\u001b[0m: name 'test_calc_OLS' is not defined"
     ]
    }
   ],
   "source": [
    "res = test_calc_OLS(df, 'DU')\n",
    "sonel_trend_array[f] = res.params.x1\n",
    "    \n",
    "print(f\"Trend = {sonel_trend_array[f] * 1000:.2f} mm/yr\")\n",
    "        \n",
    "#print(res.summary())\n",
    "\n",
    "fig, ax = plt.subplots(1, 1, figsize=(12,6));\n",
    "ax.plot(df['DU'].dropna().index, df['DU'].dropna().values, label='trend')\n",
    "ax.plot(df['DU'].dropna().index, [res.params.x1*i + res.params.const for i in np.arange(len(df['DU'].dropna()))])\n",
    "# ax[1].plot(df['Vertical'].dropna().index, res.resid.values);\n",
    "# ax[1].plot(df['Vertical'].dropna().index, np.abs(res.resid.values));\n",
    "# ax[1].hlines(0, 0, len(res.resid), color='k');\n",
    "ax.set_title(f\"Trend = {res.params.x1 * 1000:.2f} mm/yr\");\n",
    "# ax[1].set_title(\"Residuals\");\n",
    "plt.suptitle(f\"{filepath[-21:4]}\")\n",
    "# plt.savefig(f'figs/test_GPS_OLS_{file_in[:4]}.png')"
   ]
  },
  {
   "cell_type": "markdown",
   "metadata": {},
   "source": [
    "### Rolling Average"
   ]
  },
  {
   "cell_type": "code",
   "execution_count": 37,
   "metadata": {},
   "outputs": [
    {
     "ename": "KeyError",
     "evalue": "'rolling_mean_year_North'",
     "output_type": "error",
     "traceback": [
      "\u001b[1;31m---------------------------------------------------------------------------\u001b[0m",
      "\u001b[1;31mKeyError\u001b[0m                                  Traceback (most recent call last)",
      "\u001b[1;32m~\\anaconda3\\lib\\site-packages\\pandas\\core\\indexes\\base.py\u001b[0m in \u001b[0;36mget_loc\u001b[1;34m(self, key, method, tolerance)\u001b[0m\n\u001b[0;32m   2645\u001b[0m             \u001b[1;32mtry\u001b[0m\u001b[1;33m:\u001b[0m\u001b[1;33m\u001b[0m\u001b[1;33m\u001b[0m\u001b[0m\n\u001b[1;32m-> 2646\u001b[1;33m                 \u001b[1;32mreturn\u001b[0m \u001b[0mself\u001b[0m\u001b[1;33m.\u001b[0m\u001b[0m_engine\u001b[0m\u001b[1;33m.\u001b[0m\u001b[0mget_loc\u001b[0m\u001b[1;33m(\u001b[0m\u001b[0mkey\u001b[0m\u001b[1;33m)\u001b[0m\u001b[1;33m\u001b[0m\u001b[1;33m\u001b[0m\u001b[0m\n\u001b[0m\u001b[0;32m   2647\u001b[0m             \u001b[1;32mexcept\u001b[0m \u001b[0mKeyError\u001b[0m\u001b[1;33m:\u001b[0m\u001b[1;33m\u001b[0m\u001b[1;33m\u001b[0m\u001b[0m\n",
      "\u001b[1;32mpandas\\_libs\\index.pyx\u001b[0m in \u001b[0;36mpandas._libs.index.IndexEngine.get_loc\u001b[1;34m()\u001b[0m\n",
      "\u001b[1;32mpandas\\_libs\\index.pyx\u001b[0m in \u001b[0;36mpandas._libs.index.IndexEngine.get_loc\u001b[1;34m()\u001b[0m\n",
      "\u001b[1;32mpandas\\_libs\\hashtable_class_helper.pxi\u001b[0m in \u001b[0;36mpandas._libs.hashtable.PyObjectHashTable.get_item\u001b[1;34m()\u001b[0m\n",
      "\u001b[1;32mpandas\\_libs\\hashtable_class_helper.pxi\u001b[0m in \u001b[0;36mpandas._libs.hashtable.PyObjectHashTable.get_item\u001b[1;34m()\u001b[0m\n",
      "\u001b[1;31mKeyError\u001b[0m: 'rolling_mean_year_North'",
      "\nDuring handling of the above exception, another exception occurred:\n",
      "\u001b[1;31mKeyError\u001b[0m                                  Traceback (most recent call last)",
      "\u001b[1;32m<ipython-input-37-d95d964414be>\u001b[0m in \u001b[0;36m<module>\u001b[1;34m\u001b[0m\n\u001b[0;32m      1\u001b[0m \u001b[0mdf\u001b[0m\u001b[1;33m[\u001b[0m\u001b[1;34m'North'\u001b[0m\u001b[1;33m]\u001b[0m\u001b[1;33m.\u001b[0m\u001b[0mplot\u001b[0m\u001b[1;33m(\u001b[0m\u001b[1;33m)\u001b[0m\u001b[1;33m\u001b[0m\u001b[1;33m\u001b[0m\u001b[0m\n\u001b[1;32m----> 2\u001b[1;33m \u001b[0mdf\u001b[0m\u001b[1;33m[\u001b[0m\u001b[1;34m'rolling_mean_year_North'\u001b[0m\u001b[1;33m]\u001b[0m\u001b[1;33m.\u001b[0m\u001b[0mplot\u001b[0m\u001b[1;33m(\u001b[0m\u001b[1;33m)\u001b[0m\u001b[1;33m\u001b[0m\u001b[1;33m\u001b[0m\u001b[0m\n\u001b[0m\u001b[0;32m      3\u001b[0m \u001b[0mdf\u001b[0m\u001b[1;33m[\u001b[0m\u001b[1;34m'rolling_mean_month_North'\u001b[0m\u001b[1;33m]\u001b[0m\u001b[1;33m.\u001b[0m\u001b[0mplot\u001b[0m\u001b[1;33m(\u001b[0m\u001b[1;33m)\u001b[0m\u001b[1;33m\u001b[0m\u001b[1;33m\u001b[0m\u001b[0m\n\u001b[0;32m      4\u001b[0m \u001b[0mplt\u001b[0m\u001b[1;33m.\u001b[0m\u001b[0mtitle\u001b[0m\u001b[1;33m(\u001b[0m\u001b[1;34m'North'\u001b[0m\u001b[1;33m)\u001b[0m\u001b[1;33m\u001b[0m\u001b[1;33m\u001b[0m\u001b[0m\n\u001b[0;32m      5\u001b[0m \u001b[0mplt\u001b[0m\u001b[1;33m.\u001b[0m\u001b[0mlegend\u001b[0m\u001b[1;33m(\u001b[0m\u001b[1;33m)\u001b[0m\u001b[1;33m\u001b[0m\u001b[1;33m\u001b[0m\u001b[0m\n",
      "\u001b[1;32m~\\anaconda3\\lib\\site-packages\\pandas\\core\\frame.py\u001b[0m in \u001b[0;36m__getitem__\u001b[1;34m(self, key)\u001b[0m\n\u001b[0;32m   2798\u001b[0m             \u001b[1;32mif\u001b[0m \u001b[0mself\u001b[0m\u001b[1;33m.\u001b[0m\u001b[0mcolumns\u001b[0m\u001b[1;33m.\u001b[0m\u001b[0mnlevels\u001b[0m \u001b[1;33m>\u001b[0m \u001b[1;36m1\u001b[0m\u001b[1;33m:\u001b[0m\u001b[1;33m\u001b[0m\u001b[1;33m\u001b[0m\u001b[0m\n\u001b[0;32m   2799\u001b[0m                 \u001b[1;32mreturn\u001b[0m \u001b[0mself\u001b[0m\u001b[1;33m.\u001b[0m\u001b[0m_getitem_multilevel\u001b[0m\u001b[1;33m(\u001b[0m\u001b[0mkey\u001b[0m\u001b[1;33m)\u001b[0m\u001b[1;33m\u001b[0m\u001b[1;33m\u001b[0m\u001b[0m\n\u001b[1;32m-> 2800\u001b[1;33m             \u001b[0mindexer\u001b[0m \u001b[1;33m=\u001b[0m \u001b[0mself\u001b[0m\u001b[1;33m.\u001b[0m\u001b[0mcolumns\u001b[0m\u001b[1;33m.\u001b[0m\u001b[0mget_loc\u001b[0m\u001b[1;33m(\u001b[0m\u001b[0mkey\u001b[0m\u001b[1;33m)\u001b[0m\u001b[1;33m\u001b[0m\u001b[1;33m\u001b[0m\u001b[0m\n\u001b[0m\u001b[0;32m   2801\u001b[0m             \u001b[1;32mif\u001b[0m \u001b[0mis_integer\u001b[0m\u001b[1;33m(\u001b[0m\u001b[0mindexer\u001b[0m\u001b[1;33m)\u001b[0m\u001b[1;33m:\u001b[0m\u001b[1;33m\u001b[0m\u001b[1;33m\u001b[0m\u001b[0m\n\u001b[0;32m   2802\u001b[0m                 \u001b[0mindexer\u001b[0m \u001b[1;33m=\u001b[0m \u001b[1;33m[\u001b[0m\u001b[0mindexer\u001b[0m\u001b[1;33m]\u001b[0m\u001b[1;33m\u001b[0m\u001b[1;33m\u001b[0m\u001b[0m\n",
      "\u001b[1;32m~\\anaconda3\\lib\\site-packages\\pandas\\core\\indexes\\base.py\u001b[0m in \u001b[0;36mget_loc\u001b[1;34m(self, key, method, tolerance)\u001b[0m\n\u001b[0;32m   2646\u001b[0m                 \u001b[1;32mreturn\u001b[0m \u001b[0mself\u001b[0m\u001b[1;33m.\u001b[0m\u001b[0m_engine\u001b[0m\u001b[1;33m.\u001b[0m\u001b[0mget_loc\u001b[0m\u001b[1;33m(\u001b[0m\u001b[0mkey\u001b[0m\u001b[1;33m)\u001b[0m\u001b[1;33m\u001b[0m\u001b[1;33m\u001b[0m\u001b[0m\n\u001b[0;32m   2647\u001b[0m             \u001b[1;32mexcept\u001b[0m \u001b[0mKeyError\u001b[0m\u001b[1;33m:\u001b[0m\u001b[1;33m\u001b[0m\u001b[1;33m\u001b[0m\u001b[0m\n\u001b[1;32m-> 2648\u001b[1;33m                 \u001b[1;32mreturn\u001b[0m \u001b[0mself\u001b[0m\u001b[1;33m.\u001b[0m\u001b[0m_engine\u001b[0m\u001b[1;33m.\u001b[0m\u001b[0mget_loc\u001b[0m\u001b[1;33m(\u001b[0m\u001b[0mself\u001b[0m\u001b[1;33m.\u001b[0m\u001b[0m_maybe_cast_indexer\u001b[0m\u001b[1;33m(\u001b[0m\u001b[0mkey\u001b[0m\u001b[1;33m)\u001b[0m\u001b[1;33m)\u001b[0m\u001b[1;33m\u001b[0m\u001b[1;33m\u001b[0m\u001b[0m\n\u001b[0m\u001b[0;32m   2649\u001b[0m         \u001b[0mindexer\u001b[0m \u001b[1;33m=\u001b[0m \u001b[0mself\u001b[0m\u001b[1;33m.\u001b[0m\u001b[0mget_indexer\u001b[0m\u001b[1;33m(\u001b[0m\u001b[1;33m[\u001b[0m\u001b[0mkey\u001b[0m\u001b[1;33m]\u001b[0m\u001b[1;33m,\u001b[0m \u001b[0mmethod\u001b[0m\u001b[1;33m=\u001b[0m\u001b[0mmethod\u001b[0m\u001b[1;33m,\u001b[0m \u001b[0mtolerance\u001b[0m\u001b[1;33m=\u001b[0m\u001b[0mtolerance\u001b[0m\u001b[1;33m)\u001b[0m\u001b[1;33m\u001b[0m\u001b[1;33m\u001b[0m\u001b[0m\n\u001b[0;32m   2650\u001b[0m         \u001b[1;32mif\u001b[0m \u001b[0mindexer\u001b[0m\u001b[1;33m.\u001b[0m\u001b[0mndim\u001b[0m \u001b[1;33m>\u001b[0m \u001b[1;36m1\u001b[0m \u001b[1;32mor\u001b[0m \u001b[0mindexer\u001b[0m\u001b[1;33m.\u001b[0m\u001b[0msize\u001b[0m \u001b[1;33m>\u001b[0m \u001b[1;36m1\u001b[0m\u001b[1;33m:\u001b[0m\u001b[1;33m\u001b[0m\u001b[1;33m\u001b[0m\u001b[0m\n",
      "\u001b[1;32mpandas\\_libs\\index.pyx\u001b[0m in \u001b[0;36mpandas._libs.index.IndexEngine.get_loc\u001b[1;34m()\u001b[0m\n",
      "\u001b[1;32mpandas\\_libs\\index.pyx\u001b[0m in \u001b[0;36mpandas._libs.index.IndexEngine.get_loc\u001b[1;34m()\u001b[0m\n",
      "\u001b[1;32mpandas\\_libs\\hashtable_class_helper.pxi\u001b[0m in \u001b[0;36mpandas._libs.hashtable.PyObjectHashTable.get_item\u001b[1;34m()\u001b[0m\n",
      "\u001b[1;32mpandas\\_libs\\hashtable_class_helper.pxi\u001b[0m in \u001b[0;36mpandas._libs.hashtable.PyObjectHashTable.get_item\u001b[1;34m()\u001b[0m\n",
      "\u001b[1;31mKeyError\u001b[0m: 'rolling_mean_year_North'"
     ]
    },
    {
     "data": {
      "image/png": "[encoded data removed]",
      "text/plain": [
       "<Figure size 432x288 with 1 Axes>"
      ]
     },
     "metadata": {
      "needs_background": "light"
     },
     "output_type": "display_data"
    }
   ],
   "source": [
    "df['North'].plot()\n",
    "df['rolling_mean_year_North'].plot()\n",
    "df['rolling_mean_month_North'].plot()\n",
    "plt.title('North')\n",
    "plt.legend()\n",
    "plt.show()\n",
    "\n",
    "df['East'].plot()\n",
    "df['rolling_mean_year_East'].plot()\n",
    "df['rolling_mean_month_East'].plot()\n",
    "plt.title('East')\n",
    "plt.legend()\n",
    "plt.show()\n",
    "\n",
    "df['Vertical'].plot()\n",
    "df['rolling_mean_year_Vert'].plot()\n",
    "df['rolling_mean_month_Vert'].plot()\n",
    "plt.title('Vertical')\n",
    "plt.legend()\n",
    "plt.show()\n"
   ]
  },
  {
   "cell_type": "markdown",
   "metadata": {},
   "source": [
    "### Detrended"
   ]
  },
  {
   "cell_type": "code",
   "execution_count": 22,
   "metadata": {},
   "outputs": [
    {
     "data": {
      "image/png": "[encoded data removed]",
      "text/plain": [
       "<Figure size 432x288 with 1 Axes>"
      ]
     },
     "metadata": {
      "needs_background": "light"
     },
     "output_type": "display_data"
    },
    {
     "data": {
      "image/png": "[encoded data removed]",
      "text/plain": [
       "<Figure size 432x288 with 1 Axes>"
      ]
     },
     "metadata": {
      "needs_background": "light"
     },
     "output_type": "display_data"
    },
    {
     "data": {
      "image/png": "[encoded data removed]",
      "text/plain": [
       "<Figure size 432x288 with 1 Axes>"
      ]
     },
     "metadata": {
      "needs_background": "light"
     },
     "output_type": "display_data"
    },
    {
     "data": {
      "image/png": "[encoded data removed]",
      "text/plain": [
       "<Figure size 432x288 with 1 Axes>"
      ]
     },
     "metadata": {
      "needs_background": "light"
     },
     "output_type": "display_data"
    },
    {
     "data": {
      "image/png": "[encoded data removed]",
      "text/plain": [
       "<Figure size 432x288 with 1 Axes>"
      ]
     },
     "metadata": {
      "needs_background": "light"
     },
     "output_type": "display_data"
    },
    {
     "data": {
      "image/png": "[encoded data removed]",
      "text/plain": [
       "<Figure size 432x288 with 1 Axes>"
      ]
     },
     "metadata": {
      "needs_background": "light"
     },
     "output_type": "display_data"
    }
   ],
   "source": [
    "df.ADT_mean_Vert.plot(linestyle='', marker=',')\n",
    "plt.title('Vertical Annual Detrended')\n",
    "plt.show()\n",
    "\n",
    "df.MDT_mean_Vert.plot(linestyle='', marker=',')\n",
    "plt.title('Vertical Monthly Detrended')\n",
    "plt.show()\n",
    "\n",
    "df.ADT_mean_North.plot(linestyle='', marker=',')\n",
    "plt.title('North Annual Detrended')\n",
    "plt.show()\n",
    "\n",
    "df.MDT_mean_North.plot(linestyle='', marker=',')\n",
    "plt.title('North Monthly Detrended')\n",
    "plt.show()\n",
    "\n",
    "df.ADT_mean_East.plot(linestyle='', marker=',')\n",
    "plt.title('East Annual Detrended')\n",
    "plt.show()\n",
    "\n",
    "df.MDT_mean_East.plot(linestyle='', marker=',')\n",
    "plt.title('East Monthlyh Detrended')\n",
    "plt.show()"
   ]
  },
  {
   "cell_type": "code",
   "execution_count": null,
   "metadata": {},
   "outputs": [],
   "source": [
    "df[['North', 'East', 'Vertical']].plot(linestyle='', marker=',')"
   ]
  },
  {
   "cell_type": "code",
   "execution_count": 12,
   "metadata": {},
   "outputs": [
    {
     "data": {
      "text/plain": [
       "array([[<matplotlib.axes._subplots.AxesSubplot object at 0x000001EBF2290308>],\n",
       "       [<matplotlib.axes._subplots.AxesSubplot object at 0x000001EBF378E2C8>],\n",
       "       [<matplotlib.axes._subplots.AxesSubplot object at 0x000001EBF37BD088>]],\n",
       "      dtype=object)"
      ]
     },
     "execution_count": 12,
     "metadata": {},
     "output_type": "execute_result"
    },
    {
     "data": {
      "image/png": "[encoded data removed]",
      "text/plain": [
       "<Figure size 216x576 with 3 Axes>"
      ]
     },
     "metadata": {
      "needs_background": "light"
     },
     "output_type": "display_data"
    }
   ],
   "source": [
    "df[['North', 'East', 'Vertical']].plot(subplots=True, \n",
    "                                       layout=(3, 1), figsize=(3, 8), \n",
    "                                       linestyle='', marker=',',\n",
    "                                       sharex=True)"
   ]
  },
  {
   "cell_type": "code",
   "execution_count": null,
   "metadata": {},
   "outputs": [],
   "source": [
    "df[['North', 'East', 'Vertical']].plot.hist(alpha=0.5, bins=30)"
   ]
  },
  {
   "cell_type": "code",
   "execution_count": null,
   "metadata": {},
   "outputs": [],
   "source": [
    "df.plot.hexbin(x='East', y='North', C='Vertical')\n",
    "plt.xlim([-50, 50])\n",
    "plt.ylim([-50, 50])\n",
    "plt.tight_layout()"
   ]
  },
  {
   "cell_type": "code",
   "execution_count": null,
   "metadata": {},
   "outputs": [],
   "source": [
    "df.index[-1] - df.index[0]"
   ]
  },
  {
   "cell_type": "code",
   "execution_count": null,
   "metadata": {},
   "outputs": [],
   "source": [
    "from pandas.plotting import autocorrelation_plot\n",
    "\n",
    "autocorrelation_plot(df[['Vertical']])"
   ]
  },
  {
   "cell_type": "code",
   "execution_count": null,
   "metadata": {},
   "outputs": [],
   "source": [
    "from statsmodels.graphics.tsaplots import plot_acf\n",
    "\n",
    "plot_acf(df[['Vertical']], lags = 500)"
   ]
  },
  {
   "cell_type": "code",
   "execution_count": null,
   "metadata": {},
   "outputs": [],
   "source": [
    "df[['North', 'East', 'Vertical']].corr()"
   ]
  },
  {
   "cell_type": "code",
   "execution_count": null,
   "metadata": {},
   "outputs": [],
   "source": []
  }
 ],
 "metadata": {
  "kernelspec": {
   "display_name": "Python 3",
   "language": "python",
   "name": "python3"
  },
  "language_info": {
   "codemirror_mode": {
    "name": "ipython",
    "version": 3
   },
   "file_extension": ".py",
   "mimetype": "text/x-python",
   "name": "python",
   "nbconvert_exporter": "python",
   "pygments_lexer": "ipython3",
   "version": "3.7.6"
  }
 },
 "nbformat": 4,
 "nbformat_minor": 4
}
